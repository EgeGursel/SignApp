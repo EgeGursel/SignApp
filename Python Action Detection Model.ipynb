{
 "cells": [
  {
   "cell_type": "markdown",
   "metadata": {},
   "source": [
    "# 1. Import and Install Dependencies"
   ]
  },
  {
   "cell_type": "code",
   "execution_count": 1,
   "metadata": {
    "collapsed": true
   },
   "outputs": [
    {
     "name": "stdout",
     "output_type": "stream",
     "text": [
      "Collecting tensorflow==2.8.2\n",
      "  Downloading tensorflow-2.8.2-cp310-cp310-win_amd64.whl (438.3 MB)\n",
      "     -------------------------------------- 438.3/438.3 MB 2.4 MB/s eta 0:00:00\n",
      "Collecting tensorflow-gpu==2.8.2\n",
      "  Downloading tensorflow_gpu-2.8.2-cp310-cp310-win_amd64.whl (438.3 MB)\n",
      "     -------------------------------------- 438.3/438.3 MB 3.0 MB/s eta 0:00:00\n",
      "Requirement already satisfied: opencv-python in c:\\users\\ege\\appdata\\local\\programs\\python\\python310\\lib\\site-packages (4.6.0.66)\n",
      "Requirement already satisfied: mediapipe in c:\\users\\ege\\appdata\\local\\programs\\python\\python310\\lib\\site-packages (0.8.10.1)\n",
      "Requirement already satisfied: sklearn in c:\\users\\ege\\appdata\\local\\programs\\python\\python310\\lib\\site-packages (0.0)\n",
      "Requirement already satisfied: matplotlib in c:\\users\\ege\\appdata\\local\\programs\\python\\python310\\lib\\site-packages (3.5.2)\n",
      "Requirement already satisfied: wrapt>=1.11.0 in c:\\users\\ege\\appdata\\local\\programs\\python\\python310\\lib\\site-packages (from tensorflow==2.8.2) (1.14.1)\n",
      "Collecting tensorboard<2.9,>=2.8\n",
      "  Downloading tensorboard-2.8.0-py3-none-any.whl (5.8 MB)\n",
      "     ---------------------------------------- 5.8/5.8 MB 4.8 MB/s eta 0:00:00\n",
      "Requirement already satisfied: numpy>=1.20 in c:\\users\\ege\\appdata\\local\\programs\\python\\python310\\lib\\site-packages (from tensorflow==2.8.2) (1.23.1)\n",
      "Requirement already satisfied: grpcio<2.0,>=1.24.3 in c:\\users\\ege\\appdata\\local\\programs\\python\\python310\\lib\\site-packages (from tensorflow==2.8.2) (1.47.0)\n",
      "Requirement already satisfied: termcolor>=1.1.0 in c:\\users\\ege\\appdata\\local\\programs\\python\\python310\\lib\\site-packages (from tensorflow==2.8.2) (1.1.0)\n",
      "Requirement already satisfied: protobuf<3.20,>=3.9.2 in c:\\users\\ege\\appdata\\local\\programs\\python\\python310\\lib\\site-packages (from tensorflow==2.8.2) (3.19.4)\n",
      "Requirement already satisfied: google-pasta>=0.1.1 in c:\\users\\ege\\appdata\\local\\programs\\python\\python310\\lib\\site-packages (from tensorflow==2.8.2) (0.2.0)\n",
      "Requirement already satisfied: libclang>=9.0.1 in c:\\users\\ege\\appdata\\local\\programs\\python\\python310\\lib\\site-packages (from tensorflow==2.8.2) (14.0.1)\n",
      "Requirement already satisfied: typing-extensions>=3.6.6 in c:\\users\\ege\\appdata\\local\\programs\\python\\python310\\lib\\site-packages (from tensorflow==2.8.2) (4.3.0)\n",
      "Requirement already satisfied: h5py>=2.9.0 in c:\\users\\ege\\appdata\\local\\programs\\python\\python310\\lib\\site-packages (from tensorflow==2.8.2) (3.7.0)\n",
      "Requirement already satisfied: absl-py>=0.4.0 in c:\\users\\ege\\appdata\\local\\programs\\python\\python310\\lib\\site-packages (from tensorflow==2.8.2) (1.2.0)\n",
      "Requirement already satisfied: gast>=0.2.1 in c:\\users\\ege\\appdata\\local\\programs\\python\\python310\\lib\\site-packages (from tensorflow==2.8.2) (0.4.0)\n",
      "Requirement already satisfied: keras-preprocessing>=1.1.1 in c:\\users\\ege\\appdata\\local\\programs\\python\\python310\\lib\\site-packages (from tensorflow==2.8.2) (1.1.2)\n",
      "Requirement already satisfied: opt-einsum>=2.3.2 in c:\\users\\ege\\appdata\\local\\programs\\python\\python310\\lib\\site-packages (from tensorflow==2.8.2) (3.3.0)\n",
      "Requirement already satisfied: setuptools in c:\\users\\ege\\appdata\\local\\programs\\python\\python310\\lib\\site-packages (from tensorflow==2.8.2) (58.1.0)\n",
      "Requirement already satisfied: tensorflow-io-gcs-filesystem>=0.23.1 in c:\\users\\ege\\appdata\\local\\programs\\python\\python310\\lib\\site-packages (from tensorflow==2.8.2) (0.26.0)\n",
      "Requirement already satisfied: six>=1.12.0 in c:\\users\\ege\\appdata\\local\\programs\\python\\python310\\lib\\site-packages (from tensorflow==2.8.2) (1.16.0)\n",
      "Requirement already satisfied: flatbuffers>=1.12 in c:\\users\\ege\\appdata\\local\\programs\\python\\python310\\lib\\site-packages (from tensorflow==2.8.2) (1.12)\n",
      "Requirement already satisfied: astunparse>=1.6.0 in c:\\users\\ege\\appdata\\local\\programs\\python\\python310\\lib\\site-packages (from tensorflow==2.8.2) (1.6.3)\n",
      "Collecting tensorflow-estimator<2.9,>=2.8\n",
      "  Downloading tensorflow_estimator-2.8.0-py2.py3-none-any.whl (462 kB)\n",
      "     -------------------------------------- 462.3/462.3 kB 4.8 MB/s eta 0:00:00\n",
      "Collecting keras<2.9,>=2.8.0rc0\n",
      "  Downloading keras-2.8.0-py2.py3-none-any.whl (1.4 MB)\n",
      "     ---------------------------------------- 1.4/1.4 MB 4.6 MB/s eta 0:00:00\n",
      "Requirement already satisfied: attrs>=19.1.0 in c:\\users\\ege\\appdata\\local\\programs\\python\\python310\\lib\\site-packages (from mediapipe) (21.4.0)\n",
      "Requirement already satisfied: opencv-contrib-python in c:\\users\\ege\\appdata\\local\\programs\\python\\python310\\lib\\site-packages (from mediapipe) (4.6.0.66)\n",
      "Requirement already satisfied: scikit-learn in c:\\users\\ege\\appdata\\local\\programs\\python\\python310\\lib\\site-packages (from sklearn) (1.1.1)\n",
      "Requirement already satisfied: packaging>=20.0 in c:\\users\\ege\\appdata\\local\\programs\\python\\python310\\lib\\site-packages (from matplotlib) (21.3)\n",
      "Requirement already satisfied: pyparsing>=2.2.1 in c:\\users\\ege\\appdata\\local\\programs\\python\\python310\\lib\\site-packages (from matplotlib) (3.0.9)\n",
      "Requirement already satisfied: pillow>=6.2.0 in c:\\users\\ege\\appdata\\local\\programs\\python\\python310\\lib\\site-packages (from matplotlib) (9.2.0)\n",
      "Requirement already satisfied: cycler>=0.10 in c:\\users\\ege\\appdata\\local\\programs\\python\\python310\\lib\\site-packages (from matplotlib) (0.11.0)\n",
      "Requirement already satisfied: kiwisolver>=1.0.1 in c:\\users\\ege\\appdata\\local\\programs\\python\\python310\\lib\\site-packages (from matplotlib) (1.4.4)\n",
      "Requirement already satisfied: fonttools>=4.22.0 in c:\\users\\ege\\appdata\\local\\programs\\python\\python310\\lib\\site-packages (from matplotlib) (4.34.4)\n",
      "Requirement already satisfied: python-dateutil>=2.7 in c:\\users\\ege\\appdata\\local\\programs\\python\\python310\\lib\\site-packages (from matplotlib) (2.8.2)\n",
      "Requirement already satisfied: wheel<1.0,>=0.23.0 in c:\\users\\ege\\appdata\\local\\programs\\python\\python310\\lib\\site-packages (from astunparse>=1.6.0->tensorflow==2.8.2) (0.37.1)\n",
      "Requirement already satisfied: werkzeug>=0.11.15 in c:\\users\\ege\\appdata\\local\\programs\\python\\python310\\lib\\site-packages (from tensorboard<2.9,>=2.8->tensorflow==2.8.2) (2.2.0)\n",
      "Requirement already satisfied: tensorboard-data-server<0.7.0,>=0.6.0 in c:\\users\\ege\\appdata\\local\\programs\\python\\python310\\lib\\site-packages (from tensorboard<2.9,>=2.8->tensorflow==2.8.2) (0.6.1)\n",
      "Requirement already satisfied: google-auth-oauthlib<0.5,>=0.4.1 in c:\\users\\ege\\appdata\\local\\programs\\python\\python310\\lib\\site-packages (from tensorboard<2.9,>=2.8->tensorflow==2.8.2) (0.4.6)\n",
      "Requirement already satisfied: requests<3,>=2.21.0 in c:\\users\\ege\\appdata\\local\\programs\\python\\python310\\lib\\site-packages (from tensorboard<2.9,>=2.8->tensorflow==2.8.2) (2.28.1)\n",
      "Requirement already satisfied: tensorboard-plugin-wit>=1.6.0 in c:\\users\\ege\\appdata\\local\\programs\\python\\python310\\lib\\site-packages (from tensorboard<2.9,>=2.8->tensorflow==2.8.2) (1.8.1)\n",
      "Requirement already satisfied: markdown>=2.6.8 in c:\\users\\ege\\appdata\\local\\programs\\python\\python310\\lib\\site-packages (from tensorboard<2.9,>=2.8->tensorflow==2.8.2) (3.4.1)\n",
      "Requirement already satisfied: google-auth<3,>=1.6.3 in c:\\users\\ege\\appdata\\local\\programs\\python\\python310\\lib\\site-packages (from tensorboard<2.9,>=2.8->tensorflow==2.8.2) (2.9.1)\n",
      "Requirement already satisfied: scipy>=1.3.2 in c:\\users\\ege\\appdata\\local\\programs\\python\\python310\\lib\\site-packages (from scikit-learn->sklearn) (1.8.1)\n",
      "Requirement already satisfied: joblib>=1.0.0 in c:\\users\\ege\\appdata\\local\\programs\\python\\python310\\lib\\site-packages (from scikit-learn->sklearn) (1.1.0)\n",
      "Requirement already satisfied: threadpoolctl>=2.0.0 in c:\\users\\ege\\appdata\\local\\programs\\python\\python310\\lib\\site-packages (from scikit-learn->sklearn) (3.1.0)\n",
      "Requirement already satisfied: cachetools<6.0,>=2.0.0 in c:\\users\\ege\\appdata\\local\\programs\\python\\python310\\lib\\site-packages (from google-auth<3,>=1.6.3->tensorboard<2.9,>=2.8->tensorflow==2.8.2) (5.2.0)\n",
      "Requirement already satisfied: rsa<5,>=3.1.4 in c:\\users\\ege\\appdata\\local\\programs\\python\\python310\\lib\\site-packages (from google-auth<3,>=1.6.3->tensorboard<2.9,>=2.8->tensorflow==2.8.2) (4.9)\n",
      "Requirement already satisfied: pyasn1-modules>=0.2.1 in c:\\users\\ege\\appdata\\local\\programs\\python\\python310\\lib\\site-packages (from google-auth<3,>=1.6.3->tensorboard<2.9,>=2.8->tensorflow==2.8.2) (0.2.8)\n",
      "Requirement already satisfied: requests-oauthlib>=0.7.0 in c:\\users\\ege\\appdata\\local\\programs\\python\\python310\\lib\\site-packages (from google-auth-oauthlib<0.5,>=0.4.1->tensorboard<2.9,>=2.8->tensorflow==2.8.2) (1.3.1)\n",
      "Requirement already satisfied: certifi>=2017.4.17 in c:\\users\\ege\\appdata\\local\\programs\\python\\python310\\lib\\site-packages (from requests<3,>=2.21.0->tensorboard<2.9,>=2.8->tensorflow==2.8.2) (2022.6.15)\n",
      "Requirement already satisfied: idna<4,>=2.5 in c:\\users\\ege\\appdata\\local\\programs\\python\\python310\\lib\\site-packages (from requests<3,>=2.21.0->tensorboard<2.9,>=2.8->tensorflow==2.8.2) (3.3)\n",
      "Requirement already satisfied: urllib3<1.27,>=1.21.1 in c:\\users\\ege\\appdata\\local\\programs\\python\\python310\\lib\\site-packages (from requests<3,>=2.21.0->tensorboard<2.9,>=2.8->tensorflow==2.8.2) (1.26.10)\n",
      "Requirement already satisfied: charset-normalizer<3,>=2 in c:\\users\\ege\\appdata\\local\\programs\\python\\python310\\lib\\site-packages (from requests<3,>=2.21.0->tensorboard<2.9,>=2.8->tensorflow==2.8.2) (2.1.0)\n",
      "Requirement already satisfied: MarkupSafe>=2.1.1 in c:\\users\\ege\\appdata\\local\\programs\\python\\python310\\lib\\site-packages (from werkzeug>=0.11.15->tensorboard<2.9,>=2.8->tensorflow==2.8.2) (2.1.1)\n",
      "Requirement already satisfied: pyasn1<0.5.0,>=0.4.6 in c:\\users\\ege\\appdata\\local\\programs\\python\\python310\\lib\\site-packages (from pyasn1-modules>=0.2.1->google-auth<3,>=1.6.3->tensorboard<2.9,>=2.8->tensorflow==2.8.2) (0.4.8)\n",
      "Requirement already satisfied: oauthlib>=3.0.0 in c:\\users\\ege\\appdata\\local\\programs\\python\\python310\\lib\\site-packages (from requests-oauthlib>=0.7.0->google-auth-oauthlib<0.5,>=0.4.1->tensorboard<2.9,>=2.8->tensorflow==2.8.2) (3.2.0)\n",
      "Installing collected packages: tensorflow-estimator, keras, tensorboard, tensorflow-gpu, tensorflow\n",
      "  Attempting uninstall: tensorflow-estimator\n",
      "    Found existing installation: tensorflow-estimator 2.9.0\n",
      "    Uninstalling tensorflow-estimator-2.9.0:\n",
      "      Successfully uninstalled tensorflow-estimator-2.9.0\n",
      "  Attempting uninstall: keras\n",
      "    Found existing installation: keras 2.9.0\n",
      "    Uninstalling keras-2.9.0:\n",
      "      Successfully uninstalled keras-2.9.0\n",
      "  Attempting uninstall: tensorboard\n",
      "    Found existing installation: tensorboard 2.9.1\n",
      "    Uninstalling tensorboard-2.9.1:\n",
      "      Successfully uninstalled tensorboard-2.9.1\n",
      "  Attempting uninstall: tensorflow-gpu\n",
      "    Found existing installation: tensorflow-gpu 2.9.1\n",
      "    Uninstalling tensorflow-gpu-2.9.1:\n",
      "      Successfully uninstalled tensorflow-gpu-2.9.1\n",
      "  Attempting uninstall: tensorflow\n",
      "    Found existing installation: tensorflow 2.9.1\n",
      "    Uninstalling tensorflow-2.9.1:\n",
      "      Successfully uninstalled tensorflow-2.9.1\n",
      "Successfully installed keras-2.8.0 tensorboard-2.8.0 tensorflow-2.8.2 tensorflow-estimator-2.8.0 tensorflow-gpu-2.8.2\n"
     ]
    }
   ],
   "source": [
    "!pip install tensorflow==2.8.2 tensorflow-gpu==2.8.2 opencv-python mediapipe sklearn matplotlib"
   ]
  },
  {
   "cell_type": "code",
   "execution_count": 2,
   "metadata": {},
   "outputs": [],
   "source": [
    "import cv2\n",
    "import numpy as np\n",
    "import os\n",
    "from matplotlib import pyplot as plt\n",
    "import time\n",
    "import mediapipe as mp"
   ]
  },
  {
   "cell_type": "markdown",
   "metadata": {},
   "source": [
    "# 2. Keypoints using MP Holistic"
   ]
  },
  {
   "cell_type": "code",
   "execution_count": 3,
   "metadata": {},
   "outputs": [],
   "source": [
    "mp_holistic = mp.solutions.holistic # Holistic model\n",
    "mp_drawing = mp.solutions.drawing_utils # Drawing utilities"
   ]
  },
  {
   "cell_type": "code",
   "execution_count": 4,
   "metadata": {},
   "outputs": [],
   "source": [
    "def mediapipe_detection(image, model):\n",
    "    image = cv2.cvtColor(image, cv2.COLOR_BGR2RGB) # COLOR CONVERSION BGR 2 RGB\n",
    "    image.flags.writeable = False                  # Image is no longer writeable\n",
    "    results = model.process(image)                 # Make prediction\n",
    "    image.flags.writeable = True                   # Image is now writeable \n",
    "    image = cv2.cvtColor(image, cv2.COLOR_RGB2BGR) # COLOR COVERSION RGB 2 BGR\n",
    "    return image, results"
   ]
  },
  {
   "cell_type": "code",
   "execution_count": 5,
   "metadata": {},
   "outputs": [],
   "source": [
    "def draw_styled_landmarks(image, results):\n",
    "    # Draw face connections\n",
    "    mp_drawing.draw_landmarks(image, results.face_landmarks, mp_holistic.FACEMESH_TESSELATION, \n",
    "                             mp_drawing.DrawingSpec(color=(80,110,10), thickness=1, circle_radius=1), \n",
    "                             mp_drawing.DrawingSpec(color=(80,256,121), thickness=1, circle_radius=1)\n",
    "                             ) \n",
    "    # Draw pose connections\n",
    "    mp_drawing.draw_landmarks(image, results.pose_landmarks, mp_holistic.POSE_CONNECTIONS,\n",
    "                             mp_drawing.DrawingSpec(color=(80,22,10), thickness=2, circle_radius=4), \n",
    "                             mp_drawing.DrawingSpec(color=(80,44,121), thickness=2, circle_radius=2)\n",
    "                             ) \n",
    "    # Draw left hand connections\n",
    "    mp_drawing.draw_landmarks(image, results.left_hand_landmarks, mp_holistic.HAND_CONNECTIONS, \n",
    "                             mp_drawing.DrawingSpec(color=(121,22,76), thickness=2, circle_radius=4), \n",
    "                             mp_drawing.DrawingSpec(color=(121,44,250), thickness=2, circle_radius=2)\n",
    "                             ) \n",
    "    # Draw right hand connections  \n",
    "    mp_drawing.draw_landmarks(image, results.right_hand_landmarks, mp_holistic.HAND_CONNECTIONS, \n",
    "                             mp_drawing.DrawingSpec(color=(245,117,66), thickness=2, circle_radius=4), \n",
    "                             mp_drawing.DrawingSpec(color=(245,66,230), thickness=2, circle_radius=2)\n",
    "                             ) "
   ]
  },
  {
   "cell_type": "code",
   "execution_count": 6,
   "metadata": {
    "collapsed": true
   },
   "outputs": [
    {
     "name": "stdout",
     "output_type": "stream",
     "text": [
      "<class 'mediapipe.python.solution_base.SolutionOutputs'>\n",
      "<class 'mediapipe.python.solution_base.SolutionOutputs'>\n",
      "<class 'mediapipe.python.solution_base.SolutionOutputs'>\n",
      "<class 'mediapipe.python.solution_base.SolutionOutputs'>\n",
      "<class 'mediapipe.python.solution_base.SolutionOutputs'>\n",
      "<class 'mediapipe.python.solution_base.SolutionOutputs'>\n",
      "<class 'mediapipe.python.solution_base.SolutionOutputs'>\n",
      "<class 'mediapipe.python.solution_base.SolutionOutputs'>\n",
      "<class 'mediapipe.python.solution_base.SolutionOutputs'>\n",
      "<class 'mediapipe.python.solution_base.SolutionOutputs'>\n",
      "<class 'mediapipe.python.solution_base.SolutionOutputs'>\n",
      "<class 'mediapipe.python.solution_base.SolutionOutputs'>\n",
      "<class 'mediapipe.python.solution_base.SolutionOutputs'>\n",
      "<class 'mediapipe.python.solution_base.SolutionOutputs'>\n",
      "<class 'mediapipe.python.solution_base.SolutionOutputs'>\n",
      "<class 'mediapipe.python.solution_base.SolutionOutputs'>\n",
      "<class 'mediapipe.python.solution_base.SolutionOutputs'>\n",
      "<class 'mediapipe.python.solution_base.SolutionOutputs'>\n",
      "<class 'mediapipe.python.solution_base.SolutionOutputs'>\n",
      "<class 'mediapipe.python.solution_base.SolutionOutputs'>\n",
      "<class 'mediapipe.python.solution_base.SolutionOutputs'>\n",
      "<class 'mediapipe.python.solution_base.SolutionOutputs'>\n",
      "<class 'mediapipe.python.solution_base.SolutionOutputs'>\n",
      "<class 'mediapipe.python.solution_base.SolutionOutputs'>\n",
      "<class 'mediapipe.python.solution_base.SolutionOutputs'>\n",
      "<class 'mediapipe.python.solution_base.SolutionOutputs'>\n",
      "<class 'mediapipe.python.solution_base.SolutionOutputs'>\n",
      "<class 'mediapipe.python.solution_base.SolutionOutputs'>\n",
      "<class 'mediapipe.python.solution_base.SolutionOutputs'>\n",
      "<class 'mediapipe.python.solution_base.SolutionOutputs'>\n",
      "<class 'mediapipe.python.solution_base.SolutionOutputs'>\n",
      "<class 'mediapipe.python.solution_base.SolutionOutputs'>\n",
      "<class 'mediapipe.python.solution_base.SolutionOutputs'>\n",
      "<class 'mediapipe.python.solution_base.SolutionOutputs'>\n",
      "<class 'mediapipe.python.solution_base.SolutionOutputs'>\n",
      "<class 'mediapipe.python.solution_base.SolutionOutputs'>\n",
      "<class 'mediapipe.python.solution_base.SolutionOutputs'>\n",
      "<class 'mediapipe.python.solution_base.SolutionOutputs'>\n",
      "<class 'mediapipe.python.solution_base.SolutionOutputs'>\n",
      "<class 'mediapipe.python.solution_base.SolutionOutputs'>\n",
      "<class 'mediapipe.python.solution_base.SolutionOutputs'>\n",
      "<class 'mediapipe.python.solution_base.SolutionOutputs'>\n",
      "<class 'mediapipe.python.solution_base.SolutionOutputs'>\n",
      "<class 'mediapipe.python.solution_base.SolutionOutputs'>\n",
      "<class 'mediapipe.python.solution_base.SolutionOutputs'>\n",
      "<class 'mediapipe.python.solution_base.SolutionOutputs'>\n",
      "<class 'mediapipe.python.solution_base.SolutionOutputs'>\n",
      "<class 'mediapipe.python.solution_base.SolutionOutputs'>\n",
      "<class 'mediapipe.python.solution_base.SolutionOutputs'>\n",
      "<class 'mediapipe.python.solution_base.SolutionOutputs'>\n",
      "<class 'mediapipe.python.solution_base.SolutionOutputs'>\n",
      "<class 'mediapipe.python.solution_base.SolutionOutputs'>\n",
      "<class 'mediapipe.python.solution_base.SolutionOutputs'>\n",
      "<class 'mediapipe.python.solution_base.SolutionOutputs'>\n",
      "<class 'mediapipe.python.solution_base.SolutionOutputs'>\n",
      "<class 'mediapipe.python.solution_base.SolutionOutputs'>\n",
      "<class 'mediapipe.python.solution_base.SolutionOutputs'>\n",
      "<class 'mediapipe.python.solution_base.SolutionOutputs'>\n",
      "<class 'mediapipe.python.solution_base.SolutionOutputs'>\n",
      "<class 'mediapipe.python.solution_base.SolutionOutputs'>\n"
     ]
    }
   ],
   "source": [
    "cap = cv2.VideoCapture(0)\n",
    "# Set mediapipe model \n",
    "with mp_holistic.Holistic(min_detection_confidence=0.5, min_tracking_confidence=0.5) as holistic:\n",
    "    while cap.isOpened():\n",
    "\n",
    "        # Read feed\n",
    "        ret, frame = cap.read()\n",
    "\n",
    "        # Make detections\n",
    "        image, results = mediapipe_detection(frame, holistic)\n",
    "        print(results)\n",
    "        \n",
    "        # Draw landmarks\n",
    "        draw_styled_landmarks(image, results)\n",
    "\n",
    "        # Show to screen\n",
    "        cv2.imshow('OpenCV Feed', image)\n",
    "\n",
    "        # Break gracefully\n",
    "        if cv2.waitKey(10) & 0xFF == ord('q'):\n",
    "            break\n",
    "    cap.release()\n",
    "    cv2.destroyAllWindows()"
   ]
  },
  {
   "cell_type": "code",
   "execution_count": 8,
   "metadata": {},
   "outputs": [],
   "source": [
    "draw_styled_landmarks(frame, results)"
   ]
  },
  {
   "cell_type": "code",
   "execution_count": 9,
   "metadata": {},
   "outputs": [
    {
     "data": {
      "text/plain": [
       "<matplotlib.image.AxesImage at 0x63d9450>"
      ]
     },
     "execution_count": 9,
     "metadata": {},
     "output_type": "execute_result"
    },
    {
     "data": {
      "image/png": "[encoded data removed]",
      "text/plain": [
       "<Figure size 432x288 with 1 Axes>"
      ]
     },
     "metadata": {
      "needs_background": "light"
     },
     "output_type": "display_data"
    }
   ],
   "source": [
    "plt.imshow(cv2.cvtColor(frame, cv2.COLOR_BGR2RGB))"
   ]
  },
  {
   "cell_type": "markdown",
   "metadata": {},
   "source": [
    "# 3. Extract Keypoint Values"
   ]
  },
  {
   "cell_type": "code",
   "execution_count": 10,
   "metadata": {},
   "outputs": [],
   "source": [
    "def extract_keypoints(results):\n",
    "    pose = np.array([[res.x, res.y, res.z, res.visibility] for res in results.pose_landmarks.landmark]).flatten() if results.pose_landmarks else np.zeros(33*4)\n",
    "    face = np.array([[res.x, res.y, res.z] for res in results.face_landmarks.landmark]).flatten() if results.face_landmarks else np.zeros(468*3)\n",
    "    lh = np.array([[res.x, res.y, res.z] for res in results.left_hand_landmarks.landmark]).flatten() if results.left_hand_landmarks else np.zeros(21*3)\n",
    "    rh = np.array([[res.x, res.y, res.z] for res in results.right_hand_landmarks.landmark]).flatten() if results.right_hand_landmarks else np.zeros(21*3)\n",
    "    return np.concatenate([pose, face, lh, rh])"
   ]
  },
  {
   "cell_type": "markdown",
   "metadata": {},
   "source": [
    "# 4. Setup Folders for Collection"
   ]
  },
  {
   "cell_type": "code",
   "execution_count": 11,
   "metadata": {},
   "outputs": [],
   "source": [
    "# Path for exported data, numpy arrays\n",
    "DATA_PATH = os.path.join('MP_Data') \n",
    "\n",
    "# Actions that we try to detect\n",
    "actions = np.array(['hello', 'thanks', 'iloveyou'])\n",
    "\n",
    "# Thirty videos worth of data\n",
    "no_sequences = 30\n",
    "\n",
    "# Videos are going to be 30 frames in length\n",
    "sequence_length = 30"
   ]
  },
  {
   "cell_type": "code",
   "execution_count": 12,
   "metadata": {},
   "outputs": [],
   "source": [
    "for action in actions: \n",
    "    for sequence in range(no_sequences):\n",
    "        try: \n",
    "            os.makedirs(os.path.join(DATA_PATH, action, str(sequence)))\n",
    "        except:\n",
    "            pass"
   ]
  },
  {
   "cell_type": "markdown",
   "metadata": {},
   "source": [
    "# 5. Collect Keypoint Values for Training and Testing"
   ]
  },
  {
   "cell_type": "code",
   "execution_count": 160,
   "metadata": {},
   "outputs": [],
   "source": [
    "cap = cv2.VideoCapture(0)\n",
    "# Set mediapipe model \n",
    "with mp_holistic.Holistic(min_detection_confidence=0.5, min_tracking_confidence=0.5) as holistic:\n",
    "    \n",
    "    # NEW LOOP\n",
    "    # Loop through actions\n",
    "    for action in actions:\n",
    "        # Loop through sequences aka videos\n",
    "        for sequence in range(no_sequences):\n",
    "            # Loop through video length aka sequence length\n",
    "            for frame_num in range(sequence_length):\n",
    "\n",
    "                # Read feed\n",
    "                ret, frame = cap.read()\n",
    "\n",
    "                # Make detections\n",
    "                image, results = mediapipe_detection(frame, holistic)\n",
    "#                 print(results)\n",
    "\n",
    "                # Draw landmarks\n",
    "                draw_styled_landmarks(image, results)\n",
    "                \n",
    "                # NEW Apply wait logic\n",
    "                if frame_num == 0: \n",
    "                    cv2.putText(image, 'STARTING COLLECTION', (120,200), \n",
    "                               cv2.FONT_HERSHEY_SIMPLEX, 1, (0,255, 0), 4, cv2.LINE_AA)\n",
    "                    cv2.putText(image, 'Collecting frames for {} Video Number {}'.format(action, sequence), (15,12), \n",
    "                               cv2.FONT_HERSHEY_SIMPLEX, 0.5, (0, 0, 255), 1, cv2.LINE_AA)\n",
    "                    # Show to screen\n",
    "                    cv2.imshow('OpenCV Feed', image)\n",
    "                    cv2.waitKey(2000)\n",
    "                else: \n",
    "                    cv2.putText(image, 'Collecting frames for {} Video Number {}'.format(action, sequence), (15,12), \n",
    "                               cv2.FONT_HERSHEY_SIMPLEX, 0.5, (0, 0, 255), 1, cv2.LINE_AA)\n",
    "                    # Show to screen\n",
    "                    cv2.imshow('OpenCV Feed', image)\n",
    "                \n",
    "                # NEW Export keypoints\n",
    "                keypoints = extract_keypoints(results)\n",
    "                npy_path = os.path.join(DATA_PATH, action, str(sequence), str(frame_num))\n",
    "                np.save(npy_path, keypoints)\n",
    "\n",
    "                # Break gracefully\n",
    "                if cv2.waitKey(10) & 0xFF == ord('q'):\n",
    "                    break\n",
    "                    \n",
    "    cap.release()\n",
    "    cv2.destroyAllWindows()"
   ]
  },
  {
   "cell_type": "code",
   "execution_count": 158,
   "metadata": {},
   "outputs": [],
   "source": [
    "# Run this if you want to quit collecting data before it's over\n",
    "cap.release()\n",
    "cv2.destroyAllWindows()"
   ]
  },
  {
   "cell_type": "markdown",
   "metadata": {},
   "source": [
    "# 6. Preprocess Data and Create Labels and Features"
   ]
  },
  {
   "cell_type": "code",
   "execution_count": 13,
   "metadata": {},
   "outputs": [],
   "source": [
    "from sklearn.model_selection import train_test_split\n",
    "from tensorflow.keras.utils import to_categorical"
   ]
  },
  {
   "cell_type": "code",
   "execution_count": 14,
   "metadata": {},
   "outputs": [],
   "source": [
    "label_map = {label:num for num, label in enumerate(actions)}"
   ]
  },
  {
   "cell_type": "code",
   "execution_count": 15,
   "metadata": {},
   "outputs": [
    {
     "data": {
      "text/plain": [
       "{'hello': 0, 'thanks': 1, 'iloveyou': 2}"
      ]
     },
     "execution_count": 15,
     "metadata": {},
     "output_type": "execute_result"
    }
   ],
   "source": [
    "label_map"
   ]
  },
  {
   "cell_type": "code",
   "execution_count": 16,
   "metadata": {},
   "outputs": [],
   "source": [
    "sequences, labels = [], []\n",
    "for action in actions:\n",
    "    for sequence in range(no_sequences):\n",
    "        window = []\n",
    "        for frame_num in range(sequence_length):\n",
    "            res = np.load(os.path.join(DATA_PATH, action, str(sequence), \"{}.npy\".format(frame_num)))\n",
    "            window.append(res)\n",
    "        sequences.append(window)\n",
    "        labels.append(label_map[action])"
   ]
  },
  {
   "cell_type": "code",
   "execution_count": 17,
   "metadata": {},
   "outputs": [
    {
     "data": {
      "text/plain": [
       "(90, 30, 1662)"
      ]
     },
     "execution_count": 17,
     "metadata": {},
     "output_type": "execute_result"
    }
   ],
   "source": [
    "np.array(sequences).shape"
   ]
  },
  {
   "cell_type": "code",
   "execution_count": 18,
   "metadata": {},
   "outputs": [
    {
     "data": {
      "text/plain": [
       "(90,)"
      ]
     },
     "execution_count": 18,
     "metadata": {},
     "output_type": "execute_result"
    }
   ],
   "source": [
    "np.array(labels).shape"
   ]
  },
  {
   "cell_type": "code",
   "execution_count": 19,
   "metadata": {},
   "outputs": [],
   "source": [
    "X = np.array(sequences)"
   ]
  },
  {
   "cell_type": "code",
   "execution_count": 20,
   "metadata": {},
   "outputs": [
    {
     "data": {
      "text/plain": [
       "(90, 30, 1662)"
      ]
     },
     "execution_count": 20,
     "metadata": {},
     "output_type": "execute_result"
    }
   ],
   "source": [
    "X.shape"
   ]
  },
  {
   "cell_type": "code",
   "execution_count": 21,
   "metadata": {},
   "outputs": [],
   "source": [
    "y = to_categorical(labels).astype(int)"
   ]
  },
  {
   "cell_type": "code",
   "execution_count": 22,
   "metadata": {
    "collapsed": true
   },
   "outputs": [
    {
     "data": {
      "text/plain": [
       "array([[1, 0, 0],\n",
       "       [1, 0, 0],\n",
       "       [1, 0, 0],\n",
       "       [1, 0, 0],\n",
       "       [1, 0, 0],\n",
       "       [1, 0, 0],\n",
       "       [1, 0, 0],\n",
       "       [1, 0, 0],\n",
       "       [1, 0, 0],\n",
       "       [1, 0, 0],\n",
       "       [1, 0, 0],\n",
       "       [1, 0, 0],\n",
       "       [1, 0, 0],\n",
       "       [1, 0, 0],\n",
       "       [1, 0, 0],\n",
       "       [1, 0, 0],\n",
       "       [1, 0, 0],\n",
       "       [1, 0, 0],\n",
       "       [1, 0, 0],\n",
       "       [1, 0, 0],\n",
       "       [1, 0, 0],\n",
       "       [1, 0, 0],\n",
       "       [1, 0, 0],\n",
       "       [1, 0, 0],\n",
       "       [1, 0, 0],\n",
       "       [1, 0, 0],\n",
       "       [1, 0, 0],\n",
       "       [1, 0, 0],\n",
       "       [1, 0, 0],\n",
       "       [1, 0, 0],\n",
       "       [0, 1, 0],\n",
       "       [0, 1, 0],\n",
       "       [0, 1, 0],\n",
       "       [0, 1, 0],\n",
       "       [0, 1, 0],\n",
       "       [0, 1, 0],\n",
       "       [0, 1, 0],\n",
       "       [0, 1, 0],\n",
       "       [0, 1, 0],\n",
       "       [0, 1, 0],\n",
       "       [0, 1, 0],\n",
       "       [0, 1, 0],\n",
       "       [0, 1, 0],\n",
       "       [0, 1, 0],\n",
       "       [0, 1, 0],\n",
       "       [0, 1, 0],\n",
       "       [0, 1, 0],\n",
       "       [0, 1, 0],\n",
       "       [0, 1, 0],\n",
       "       [0, 1, 0],\n",
       "       [0, 1, 0],\n",
       "       [0, 1, 0],\n",
       "       [0, 1, 0],\n",
       "       [0, 1, 0],\n",
       "       [0, 1, 0],\n",
       "       [0, 1, 0],\n",
       "       [0, 1, 0],\n",
       "       [0, 1, 0],\n",
       "       [0, 1, 0],\n",
       "       [0, 1, 0],\n",
       "       [0, 0, 1],\n",
       "       [0, 0, 1],\n",
       "       [0, 0, 1],\n",
       "       [0, 0, 1],\n",
       "       [0, 0, 1],\n",
       "       [0, 0, 1],\n",
       "       [0, 0, 1],\n",
       "       [0, 0, 1],\n",
       "       [0, 0, 1],\n",
       "       [0, 0, 1],\n",
       "       [0, 0, 1],\n",
       "       [0, 0, 1],\n",
       "       [0, 0, 1],\n",
       "       [0, 0, 1],\n",
       "       [0, 0, 1],\n",
       "       [0, 0, 1],\n",
       "       [0, 0, 1],\n",
       "       [0, 0, 1],\n",
       "       [0, 0, 1],\n",
       "       [0, 0, 1],\n",
       "       [0, 0, 1],\n",
       "       [0, 0, 1],\n",
       "       [0, 0, 1],\n",
       "       [0, 0, 1],\n",
       "       [0, 0, 1],\n",
       "       [0, 0, 1],\n",
       "       [0, 0, 1],\n",
       "       [0, 0, 1],\n",
       "       [0, 0, 1],\n",
       "       [0, 0, 1]])"
      ]
     },
     "execution_count": 22,
     "metadata": {},
     "output_type": "execute_result"
    }
   ],
   "source": [
    "y"
   ]
  },
  {
   "cell_type": "code",
   "execution_count": 23,
   "metadata": {},
   "outputs": [],
   "source": [
    "X_train, X_test, y_train, y_test = train_test_split(X, y, test_size=0.05)"
   ]
  },
  {
   "cell_type": "code",
   "execution_count": 24,
   "metadata": {},
   "outputs": [
    {
     "data": {
      "text/plain": [
       "(5, 3)"
      ]
     },
     "execution_count": 24,
     "metadata": {},
     "output_type": "execute_result"
    }
   ],
   "source": [
    "y_test.shape"
   ]
  },
  {
   "cell_type": "markdown",
   "metadata": {},
   "source": [
    "# 7. Build and Train LSTM Neural Network"
   ]
  },
  {
   "cell_type": "code",
   "execution_count": 25,
   "metadata": {},
   "outputs": [],
   "source": [
    "from tensorflow.keras.models import Sequential\n",
    "from tensorflow.keras.layers import LSTM, Dense\n",
    "from tensorflow.keras.callbacks import TensorBoard"
   ]
  },
  {
   "cell_type": "code",
   "execution_count": 26,
   "metadata": {},
   "outputs": [],
   "source": [
    "log_dir = os.path.join('Logs')\n",
    "tb_callback = TensorBoard(log_dir=log_dir)"
   ]
  },
  {
   "cell_type": "code",
   "execution_count": 27,
   "metadata": {},
   "outputs": [],
   "source": [
    "model = Sequential()\n",
    "model.add(LSTM(64, return_sequences=True, activation='relu', input_shape=(30,1662)))\n",
    "model.add(LSTM(128, return_sequences=True, activation='relu'))\n",
    "model.add(LSTM(64, return_sequences=False, activation='relu'))\n",
    "model.add(Dense(64, activation='relu'))\n",
    "model.add(Dense(32, activation='relu'))\n",
    "model.add(Dense(actions.shape[0], activation='softmax'))"
   ]
  },
  {
   "cell_type": "code",
   "execution_count": 28,
   "metadata": {},
   "outputs": [],
   "source": [
    "res = [.7, 0.2, 0.1]"
   ]
  },
  {
   "cell_type": "code",
   "execution_count": 29,
   "metadata": {},
   "outputs": [
    {
     "data": {
      "text/plain": [
       "'hello'"
      ]
     },
     "execution_count": 29,
     "metadata": {},
     "output_type": "execute_result"
    }
   ],
   "source": [
    "actions[np.argmax(res)]"
   ]
  },
  {
   "cell_type": "code",
   "execution_count": 30,
   "metadata": {},
   "outputs": [],
   "source": [
    "model.compile(optimizer='Adam', loss='categorical_crossentropy', metrics=['categorical_accuracy'])"
   ]
  },
  {
   "cell_type": "code",
   "execution_count": 31,
   "metadata": {
    "collapsed": true
   },
   "outputs": [
    {
     "name": "stdout",
     "output_type": "stream",
     "text": [
      "Epoch 1/2000\n",
      "3/3 [==============================] - 2s 45ms/step - loss: 1.8551 - categorical_accuracy: 0.2824\n",
      "Epoch 2/2000\n",
      "3/3 [==============================] - 0s 50ms/step - loss: 1.1401 - categorical_accuracy: 0.2353\n",
      "Epoch 3/2000\n",
      "3/3 [==============================] - 0s 43ms/step - loss: 1.6521 - categorical_accuracy: 0.3882\n",
      "Epoch 4/2000\n",
      "3/3 [==============================] - 0s 43ms/step - loss: 2.9829 - categorical_accuracy: 0.3059\n",
      "Epoch 5/2000\n",
      "3/3 [==============================] - 0s 44ms/step - loss: 11.2094 - categorical_accuracy: 0.3647\n",
      "Epoch 6/2000\n",
      "3/3 [==============================] - 0s 45ms/step - loss: 4.3130 - categorical_accuracy: 0.2941\n",
      "Epoch 7/2000\n",
      "3/3 [==============================] - 0s 49ms/step - loss: 2.3210 - categorical_accuracy: 0.3294\n",
      "Epoch 8/2000\n",
      "3/3 [==============================] - 0s 44ms/step - loss: 1.4566 - categorical_accuracy: 0.3412\n",
      "Epoch 9/2000\n",
      "3/3 [==============================] - 0s 49ms/step - loss: 1.1685 - categorical_accuracy: 0.4118\n",
      "Epoch 10/2000\n",
      "3/3 [==============================] - 0s 43ms/step - loss: 1.0231 - categorical_accuracy: 0.4471\n",
      "Epoch 11/2000\n",
      "3/3 [==============================] - 0s 43ms/step - loss: 1.0810 - categorical_accuracy: 0.3412\n",
      "Epoch 12/2000\n",
      "3/3 [==============================] - 0s 44ms/step - loss: 0.8877 - categorical_accuracy: 0.5176\n",
      "Epoch 13/2000\n",
      "3/3 [==============================] - 0s 44ms/step - loss: 0.8725 - categorical_accuracy: 0.5529\n",
      "Epoch 14/2000\n",
      "3/3 [==============================] - 0s 51ms/step - loss: 0.9209 - categorical_accuracy: 0.5059\n",
      "Epoch 15/2000\n",
      "3/3 [==============================] - 0s 44ms/step - loss: 0.7761 - categorical_accuracy: 0.6235\n",
      "Epoch 16/2000\n",
      "3/3 [==============================] - 0s 45ms/step - loss: 0.6167 - categorical_accuracy: 0.7412\n",
      "Epoch 17/2000\n",
      "3/3 [==============================] - 0s 46ms/step - loss: 0.5663 - categorical_accuracy: 0.6588\n",
      "Epoch 18/2000\n",
      "3/3 [==============================] - 0s 44ms/step - loss: 0.5221 - categorical_accuracy: 0.7294\n",
      "Epoch 19/2000\n",
      "3/3 [==============================] - 0s 48ms/step - loss: 0.5162 - categorical_accuracy: 0.6471\n",
      "Epoch 20/2000\n",
      "3/3 [==============================] - 0s 46ms/step - loss: 0.4868 - categorical_accuracy: 0.8235\n",
      "Epoch 21/2000\n",
      "3/3 [==============================] - 0s 46ms/step - loss: 0.5110 - categorical_accuracy: 0.7176\n",
      "Epoch 22/2000\n",
      "3/3 [==============================] - 0s 44ms/step - loss: 0.4748 - categorical_accuracy: 0.8353\n",
      "Epoch 23/2000\n",
      "3/3 [==============================] - 0s 43ms/step - loss: 0.5024 - categorical_accuracy: 0.7176\n",
      "Epoch 24/2000\n",
      "3/3 [==============================] - 0s 44ms/step - loss: 0.5523 - categorical_accuracy: 0.8000\n",
      "Epoch 25/2000\n",
      "3/3 [==============================] - 0s 44ms/step - loss: 0.4953 - categorical_accuracy: 0.7882\n",
      "Epoch 26/2000\n",
      "3/3 [==============================] - 0s 41ms/step - loss: 0.5130 - categorical_accuracy: 0.6824\n",
      "Epoch 27/2000\n",
      "3/3 [==============================] - 0s 46ms/step - loss: 0.6462 - categorical_accuracy: 0.6588\n",
      "Epoch 28/2000\n",
      "3/3 [==============================] - 0s 43ms/step - loss: 0.6535 - categorical_accuracy: 0.6706\n",
      "Epoch 29/2000\n",
      "3/3 [==============================] - 0s 45ms/step - loss: 0.5144 - categorical_accuracy: 0.7294\n",
      "Epoch 30/2000\n",
      "3/3 [==============================] - 0s 44ms/step - loss: 0.4914 - categorical_accuracy: 0.7176\n",
      "Epoch 31/2000\n",
      "3/3 [==============================] - 0s 46ms/step - loss: 0.4933 - categorical_accuracy: 0.6706\n",
      "Epoch 32/2000\n",
      "3/3 [==============================] - 0s 44ms/step - loss: 0.4014 - categorical_accuracy: 0.8235\n",
      "Epoch 33/2000\n",
      "3/3 [==============================] - 0s 43ms/step - loss: 0.3789 - categorical_accuracy: 0.8824\n",
      "Epoch 34/2000\n",
      "3/3 [==============================] - 0s 43ms/step - loss: 0.3182 - categorical_accuracy: 0.8941\n",
      "Epoch 35/2000\n",
      "3/3 [==============================] - 0s 41ms/step - loss: 0.3203 - categorical_accuracy: 0.8588\n",
      "Epoch 36/2000\n",
      "3/3 [==============================] - 0s 43ms/step - loss: 0.9856 - categorical_accuracy: 0.6941\n",
      "Epoch 37/2000\n",
      "3/3 [==============================] - 0s 42ms/step - loss: 0.6172 - categorical_accuracy: 0.7176\n",
      "Epoch 38/2000\n",
      "3/3 [==============================] - 0s 43ms/step - loss: 0.6980 - categorical_accuracy: 0.7294\n",
      "Epoch 39/2000\n",
      "3/3 [==============================] - 0s 43ms/step - loss: 0.7044 - categorical_accuracy: 0.5412\n",
      "Epoch 40/2000\n",
      "3/3 [==============================] - 0s 43ms/step - loss: 0.5563 - categorical_accuracy: 0.6941\n",
      "Epoch 41/2000\n",
      "3/3 [==============================] - 0s 42ms/step - loss: 0.8250 - categorical_accuracy: 0.7059\n",
      "Epoch 42/2000\n",
      "3/3 [==============================] - 0s 43ms/step - loss: 0.4346 - categorical_accuracy: 0.8118\n",
      "Epoch 43/2000\n",
      "3/3 [==============================] - 0s 43ms/step - loss: 0.5387 - categorical_accuracy: 0.7647\n",
      "Epoch 44/2000\n",
      "3/3 [==============================] - 0s 44ms/step - loss: 0.4248 - categorical_accuracy: 0.8471\n",
      "Epoch 45/2000\n",
      "3/3 [==============================] - 0s 44ms/step - loss: 0.3740 - categorical_accuracy: 0.8588\n",
      "Epoch 46/2000\n",
      "3/3 [==============================] - 0s 47ms/step - loss: 0.3564 - categorical_accuracy: 0.8706\n",
      "Epoch 47/2000\n",
      "3/3 [==============================] - 0s 44ms/step - loss: 0.3785 - categorical_accuracy: 0.8235\n",
      "Epoch 48/2000\n",
      "3/3 [==============================] - 0s 44ms/step - loss: 0.3319 - categorical_accuracy: 0.8353\n",
      "Epoch 49/2000\n",
      "3/3 [==============================] - 0s 45ms/step - loss: 0.3568 - categorical_accuracy: 0.8471\n",
      "Epoch 50/2000\n",
      "3/3 [==============================] - 0s 42ms/step - loss: 0.3259 - categorical_accuracy: 0.8824\n",
      "Epoch 51/2000\n",
      "3/3 [==============================] - 0s 46ms/step - loss: 0.2863 - categorical_accuracy: 0.8471\n",
      "Epoch 52/2000\n",
      "3/3 [==============================] - 0s 47ms/step - loss: 0.2669 - categorical_accuracy: 0.8706\n",
      "Epoch 53/2000\n",
      "3/3 [==============================] - 0s 54ms/step - loss: 0.2666 - categorical_accuracy: 0.8706\n",
      "Epoch 54/2000\n",
      "3/3 [==============================] - 0s 59ms/step - loss: 0.2544 - categorical_accuracy: 0.8706\n",
      "Epoch 55/2000\n",
      "3/3 [==============================] - 0s 52ms/step - loss: 0.2343 - categorical_accuracy: 0.8824\n",
      "Epoch 56/2000\n",
      "3/3 [==============================] - 0s 48ms/step - loss: 0.2045 - categorical_accuracy: 0.9294\n",
      "Epoch 57/2000\n",
      "3/3 [==============================] - 0s 42ms/step - loss: 0.1808 - categorical_accuracy: 0.9412\n",
      "Epoch 58/2000\n",
      "3/3 [==============================] - 0s 42ms/step - loss: 0.1494 - categorical_accuracy: 0.9647\n",
      "Epoch 59/2000\n",
      "3/3 [==============================] - 0s 44ms/step - loss: 0.1470 - categorical_accuracy: 0.9765\n",
      "Epoch 60/2000\n",
      "3/3 [==============================] - 0s 42ms/step - loss: 0.1646 - categorical_accuracy: 0.9294\n",
      "Epoch 61/2000\n",
      "3/3 [==============================] - 0s 42ms/step - loss: 0.1902 - categorical_accuracy: 0.9412\n",
      "Epoch 62/2000\n",
      "3/3 [==============================] - 0s 41ms/step - loss: 0.1587 - categorical_accuracy: 0.9294\n",
      "Epoch 63/2000\n",
      "3/3 [==============================] - 0s 42ms/step - loss: 0.1219 - categorical_accuracy: 0.9529\n",
      "Epoch 64/2000\n",
      "3/3 [==============================] - 0s 48ms/step - loss: 0.2787 - categorical_accuracy: 0.8941\n",
      "Epoch 65/2000\n",
      "3/3 [==============================] - 0s 43ms/step - loss: 0.1443 - categorical_accuracy: 0.9294\n",
      "Epoch 66/2000\n",
      "3/3 [==============================] - 0s 45ms/step - loss: 0.1053 - categorical_accuracy: 0.9765\n",
      "Epoch 67/2000\n",
      "3/3 [==============================] - 0s 42ms/step - loss: 0.1325 - categorical_accuracy: 0.9647\n",
      "Epoch 68/2000\n",
      "3/3 [==============================] - 0s 41ms/step - loss: 0.0953 - categorical_accuracy: 0.9412\n",
      "Epoch 69/2000\n",
      "3/3 [==============================] - 0s 41ms/step - loss: 0.0755 - categorical_accuracy: 0.9882\n",
      "Epoch 70/2000\n",
      "3/3 [==============================] - 0s 43ms/step - loss: 0.0513 - categorical_accuracy: 0.9882\n",
      "Epoch 71/2000\n",
      "3/3 [==============================] - 0s 41ms/step - loss: 0.0940 - categorical_accuracy: 0.9765\n",
      "Epoch 72/2000\n",
      "3/3 [==============================] - 0s 46ms/step - loss: 0.1209 - categorical_accuracy: 0.9529\n",
      "Epoch 73/2000\n",
      "3/3 [==============================] - 0s 41ms/step - loss: 0.0964 - categorical_accuracy: 0.9529\n",
      "Epoch 74/2000\n"
     ]
    },
    {
     "name": "stdout",
     "output_type": "stream",
     "text": [
      "3/3 [==============================] - 0s 41ms/step - loss: 1.3303 - categorical_accuracy: 0.7882\n",
      "Epoch 75/2000\n",
      "3/3 [==============================] - 0s 41ms/step - loss: 0.9815 - categorical_accuracy: 0.6471\n",
      "Epoch 76/2000\n",
      "3/3 [==============================] - 0s 41ms/step - loss: 0.4721 - categorical_accuracy: 0.7647\n",
      "Epoch 77/2000\n",
      "3/3 [==============================] - 0s 42ms/step - loss: 0.3582 - categorical_accuracy: 0.9176\n",
      "Epoch 78/2000\n",
      "3/3 [==============================] - 0s 41ms/step - loss: 0.3280 - categorical_accuracy: 0.8706\n",
      "Epoch 79/2000\n",
      "3/3 [==============================] - 0s 43ms/step - loss: 0.1511 - categorical_accuracy: 0.9647\n",
      "Epoch 80/2000\n",
      "3/3 [==============================] - 0s 41ms/step - loss: 0.1102 - categorical_accuracy: 0.9882\n",
      "Epoch 81/2000\n",
      "3/3 [==============================] - 0s 40ms/step - loss: 0.0797 - categorical_accuracy: 0.9529\n",
      "Epoch 82/2000\n",
      "3/3 [==============================] - 0s 44ms/step - loss: 1.8388 - categorical_accuracy: 0.6353\n",
      "Epoch 83/2000\n",
      "3/3 [==============================] - 0s 42ms/step - loss: 1.1990 - categorical_accuracy: 0.5294\n",
      "Epoch 84/2000\n",
      "3/3 [==============================] - 0s 42ms/step - loss: 0.8020 - categorical_accuracy: 0.6353\n",
      "Epoch 85/2000\n",
      "3/3 [==============================] - 0s 42ms/step - loss: 0.8769 - categorical_accuracy: 0.6471\n",
      "Epoch 86/2000\n",
      "3/3 [==============================] - 0s 42ms/step - loss: 0.6422 - categorical_accuracy: 0.7765\n",
      "Epoch 87/2000\n",
      "3/3 [==============================] - 0s 41ms/step - loss: 0.4802 - categorical_accuracy: 0.7882\n",
      "Epoch 88/2000\n",
      "3/3 [==============================] - 0s 41ms/step - loss: 0.4622 - categorical_accuracy: 0.7529\n",
      "Epoch 89/2000\n",
      "3/3 [==============================] - 0s 42ms/step - loss: 0.4546 - categorical_accuracy: 0.8118\n",
      "Epoch 90/2000\n",
      "3/3 [==============================] - 0s 43ms/step - loss: 0.4857 - categorical_accuracy: 0.7529\n",
      "Epoch 91/2000\n",
      "3/3 [==============================] - 0s 43ms/step - loss: 0.3302 - categorical_accuracy: 0.9059\n",
      "Epoch 92/2000\n",
      "3/3 [==============================] - 0s 41ms/step - loss: 0.2406 - categorical_accuracy: 0.9176\n",
      "Epoch 93/2000\n",
      "3/3 [==============================] - 0s 43ms/step - loss: 0.2434 - categorical_accuracy: 0.8941\n",
      "Epoch 94/2000\n",
      "3/3 [==============================] - 0s 44ms/step - loss: 1.1728 - categorical_accuracy: 0.6471\n",
      "Epoch 95/2000\n",
      "3/3 [==============================] - 0s 45ms/step - loss: 0.9423 - categorical_accuracy: 0.6471\n",
      "Epoch 96/2000\n",
      "3/3 [==============================] - 0s 43ms/step - loss: 0.8450 - categorical_accuracy: 0.6471\n",
      "Epoch 97/2000\n",
      "3/3 [==============================] - 0s 41ms/step - loss: 0.8646 - categorical_accuracy: 0.5059\n",
      "Epoch 98/2000\n",
      "3/3 [==============================] - 0s 43ms/step - loss: 0.8011 - categorical_accuracy: 0.6588\n",
      "Epoch 99/2000\n",
      "3/3 [==============================] - 0s 42ms/step - loss: 0.6653 - categorical_accuracy: 0.6588\n",
      "Epoch 100/2000\n",
      "3/3 [==============================] - 0s 41ms/step - loss: 0.5532 - categorical_accuracy: 0.7882\n",
      "Epoch 101/2000\n",
      "3/3 [==============================] - 0s 41ms/step - loss: 0.4590 - categorical_accuracy: 0.7765\n",
      "Epoch 102/2000\n",
      "3/3 [==============================] - 0s 43ms/step - loss: 0.3935 - categorical_accuracy: 0.8588\n",
      "Epoch 103/2000\n",
      "3/3 [==============================] - 0s 42ms/step - loss: 0.2743 - categorical_accuracy: 0.8941\n",
      "Epoch 104/2000\n",
      "3/3 [==============================] - 0s 41ms/step - loss: 0.8254 - categorical_accuracy: 0.7294\n",
      "Epoch 105/2000\n",
      "3/3 [==============================] - 0s 44ms/step - loss: 0.7939 - categorical_accuracy: 0.5647\n",
      "Epoch 106/2000\n",
      "3/3 [==============================] - 0s 45ms/step - loss: 0.8450 - categorical_accuracy: 0.5882\n",
      "Epoch 107/2000\n",
      "3/3 [==============================] - 0s 41ms/step - loss: 0.8191 - categorical_accuracy: 0.6000\n",
      "Epoch 108/2000\n",
      "3/3 [==============================] - 0s 41ms/step - loss: 0.8377 - categorical_accuracy: 0.5294\n",
      "Epoch 109/2000\n",
      "3/3 [==============================] - 0s 41ms/step - loss: 0.9258 - categorical_accuracy: 0.5294\n",
      "Epoch 110/2000\n",
      "3/3 [==============================] - 0s 43ms/step - loss: 0.8494 - categorical_accuracy: 0.6588\n",
      "Epoch 111/2000\n",
      "3/3 [==============================] - 0s 41ms/step - loss: 0.7928 - categorical_accuracy: 0.5882\n",
      "Epoch 112/2000\n",
      "3/3 [==============================] - 0s 41ms/step - loss: 0.6788 - categorical_accuracy: 0.6588\n",
      "Epoch 113/2000\n",
      "3/3 [==============================] - 0s 41ms/step - loss: 0.6716 - categorical_accuracy: 0.6941\n",
      "Epoch 114/2000\n",
      "3/3 [==============================] - 0s 42ms/step - loss: 0.6027 - categorical_accuracy: 0.6353\n",
      "Epoch 115/2000\n",
      "3/3 [==============================] - 0s 40ms/step - loss: 0.5593 - categorical_accuracy: 0.6353\n",
      "Epoch 116/2000\n",
      "3/3 [==============================] - 0s 41ms/step - loss: 1.6773 - categorical_accuracy: 0.4941\n",
      "Epoch 117/2000\n",
      "3/3 [==============================] - 0s 41ms/step - loss: 0.9281 - categorical_accuracy: 0.4471\n",
      "Epoch 118/2000\n",
      "3/3 [==============================] - 0s 41ms/step - loss: 1.1583 - categorical_accuracy: 0.3294\n",
      "Epoch 119/2000\n",
      "3/3 [==============================] - 0s 41ms/step - loss: 1.1328 - categorical_accuracy: 0.3294\n",
      "Epoch 120/2000\n",
      "3/3 [==============================] - 0s 41ms/step - loss: 1.1190 - categorical_accuracy: 0.3294\n",
      "Epoch 121/2000\n",
      "3/3 [==============================] - 0s 43ms/step - loss: 1.1107 - categorical_accuracy: 0.3294\n",
      "Epoch 122/2000\n",
      "3/3 [==============================] - 0s 43ms/step - loss: 1.1066 - categorical_accuracy: 0.3294\n",
      "Epoch 123/2000\n",
      "3/3 [==============================] - 0s 41ms/step - loss: 1.1029 - categorical_accuracy: 0.3294\n",
      "Epoch 124/2000\n",
      "3/3 [==============================] - 0s 40ms/step - loss: 1.1001 - categorical_accuracy: 0.3294\n",
      "Epoch 125/2000\n",
      "3/3 [==============================] - 0s 41ms/step - loss: 1.0981 - categorical_accuracy: 0.3294\n",
      "Epoch 126/2000\n",
      "3/3 [==============================] - 0s 42ms/step - loss: 1.0967 - categorical_accuracy: 0.3294\n",
      "Epoch 127/2000\n",
      "3/3 [==============================] - 0s 41ms/step - loss: 1.0949 - categorical_accuracy: 0.3529\n",
      "Epoch 128/2000\n",
      "3/3 [==============================] - 0s 42ms/step - loss: 1.0930 - categorical_accuracy: 0.3647\n",
      "Epoch 129/2000\n",
      "3/3 [==============================] - 0s 41ms/step - loss: 1.0910 - categorical_accuracy: 0.3647\n",
      "Epoch 130/2000\n",
      "3/3 [==============================] - 0s 40ms/step - loss: 1.0888 - categorical_accuracy: 0.3647\n",
      "Epoch 131/2000\n",
      "3/3 [==============================] - 0s 41ms/step - loss: 1.0872 - categorical_accuracy: 0.3529\n",
      "Epoch 132/2000\n",
      "3/3 [==============================] - 0s 41ms/step - loss: 1.0858 - categorical_accuracy: 0.3529\n",
      "Epoch 133/2000\n",
      "3/3 [==============================] - 0s 41ms/step - loss: 1.0840 - categorical_accuracy: 0.3412\n",
      "Epoch 134/2000\n",
      "3/3 [==============================] - 0s 42ms/step - loss: 1.0825 - categorical_accuracy: 0.3294\n",
      "Epoch 135/2000\n",
      "3/3 [==============================] - 0s 41ms/step - loss: 1.0799 - categorical_accuracy: 0.3294\n",
      "Epoch 136/2000\n",
      "3/3 [==============================] - 0s 41ms/step - loss: 1.0776 - categorical_accuracy: 0.3294\n",
      "Epoch 137/2000\n",
      "3/3 [==============================] - 0s 41ms/step - loss: 1.0748 - categorical_accuracy: 0.3412\n",
      "Epoch 138/2000\n",
      "3/3 [==============================] - 0s 41ms/step - loss: 1.0713 - categorical_accuracy: 0.3412\n",
      "Epoch 139/2000\n",
      "3/3 [==============================] - 0s 41ms/step - loss: 1.0672 - categorical_accuracy: 0.3529\n",
      "Epoch 140/2000\n",
      "3/3 [==============================] - 0s 40ms/step - loss: 1.0620 - categorical_accuracy: 0.3412\n",
      "Epoch 141/2000\n",
      "3/3 [==============================] - 0s 42ms/step - loss: 1.0550 - categorical_accuracy: 0.3529\n",
      "Epoch 142/2000\n",
      "3/3 [==============================] - 0s 42ms/step - loss: 1.0454 - categorical_accuracy: 0.3412\n",
      "Epoch 143/2000\n",
      "3/3 [==============================] - 0s 41ms/step - loss: 1.0289 - categorical_accuracy: 0.3412\n",
      "Epoch 144/2000\n",
      "3/3 [==============================] - 0s 41ms/step - loss: 1.0052 - categorical_accuracy: 0.3412\n",
      "Epoch 145/2000\n",
      "3/3 [==============================] - 0s 41ms/step - loss: 0.9535 - categorical_accuracy: 0.3529\n",
      "Epoch 146/2000\n"
     ]
    },
    {
     "name": "stdout",
     "output_type": "stream",
     "text": [
      "3/3 [==============================] - 0s 44ms/step - loss: 0.9032 - categorical_accuracy: 0.4118\n",
      "Epoch 147/2000\n",
      "3/3 [==============================] - 0s 41ms/step - loss: 0.8491 - categorical_accuracy: 0.6471\n",
      "Epoch 148/2000\n",
      "3/3 [==============================] - 0s 42ms/step - loss: 0.8822 - categorical_accuracy: 0.6588\n",
      "Epoch 149/2000\n",
      "3/3 [==============================] - 0s 41ms/step - loss: 0.8022 - categorical_accuracy: 0.6471\n",
      "Epoch 150/2000\n",
      "3/3 [==============================] - 0s 41ms/step - loss: 0.6822 - categorical_accuracy: 0.6353\n",
      "Epoch 151/2000\n",
      "3/3 [==============================] - 0s 41ms/step - loss: 2.1042 - categorical_accuracy: 0.3176\n",
      "Epoch 152/2000\n",
      "3/3 [==============================] - 0s 41ms/step - loss: 1.0708 - categorical_accuracy: 0.3294\n",
      "Epoch 153/2000\n",
      "3/3 [==============================] - 0s 41ms/step - loss: 1.0099 - categorical_accuracy: 0.4235\n",
      "Epoch 154/2000\n",
      "3/3 [==============================] - 0s 42ms/step - loss: 1.0590 - categorical_accuracy: 0.6588\n",
      "Epoch 155/2000\n",
      "3/3 [==============================] - 0s 43ms/step - loss: 1.0817 - categorical_accuracy: 0.5176\n",
      "Epoch 156/2000\n",
      "3/3 [==============================] - 0s 43ms/step - loss: 1.0901 - categorical_accuracy: 0.3765\n",
      "Epoch 157/2000\n",
      "3/3 [==============================] - 0s 41ms/step - loss: 1.0919 - categorical_accuracy: 0.3294\n",
      "Epoch 158/2000\n",
      "3/3 [==============================] - 0s 40ms/step - loss: 1.0905 - categorical_accuracy: 0.3412\n",
      "Epoch 159/2000\n",
      "3/3 [==============================] - 0s 41ms/step - loss: 1.0868 - categorical_accuracy: 0.4118\n",
      "Epoch 160/2000\n",
      "3/3 [==============================] - 0s 40ms/step - loss: 1.0822 - categorical_accuracy: 0.4941\n",
      "Epoch 161/2000\n",
      "3/3 [==============================] - 0s 41ms/step - loss: 1.0776 - categorical_accuracy: 0.5882\n",
      "Epoch 162/2000\n",
      "3/3 [==============================] - 0s 41ms/step - loss: 1.0731 - categorical_accuracy: 0.6588\n",
      "Epoch 163/2000\n",
      "3/3 [==============================] - 0s 41ms/step - loss: 1.0694 - categorical_accuracy: 0.6588\n",
      "Epoch 164/2000\n",
      "3/3 [==============================] - 0s 41ms/step - loss: 1.0651 - categorical_accuracy: 0.6471\n",
      "Epoch 165/2000\n",
      "3/3 [==============================] - 0s 40ms/step - loss: 1.0615 - categorical_accuracy: 0.6235\n",
      "Epoch 166/2000\n",
      "3/3 [==============================] - 0s 42ms/step - loss: 1.0577 - categorical_accuracy: 0.6000\n",
      "Epoch 167/2000\n",
      "3/3 [==============================] - 0s 41ms/step - loss: 1.0542 - categorical_accuracy: 0.5294\n",
      "Epoch 168/2000\n",
      "3/3 [==============================] - 0s 42ms/step - loss: 1.0511 - categorical_accuracy: 0.4706\n",
      "Epoch 169/2000\n",
      "3/3 [==============================] - 0s 42ms/step - loss: 1.0465 - categorical_accuracy: 0.4706\n",
      "Epoch 170/2000\n",
      "3/3 [==============================] - 0s 41ms/step - loss: 1.0415 - categorical_accuracy: 0.4706\n",
      "Epoch 171/2000\n",
      "3/3 [==============================] - 0s 41ms/step - loss: 1.0360 - categorical_accuracy: 0.4706\n",
      "Epoch 172/2000\n",
      "3/3 [==============================] - 0s 41ms/step - loss: 1.0292 - categorical_accuracy: 0.4706\n",
      "Epoch 173/2000\n",
      "3/3 [==============================] - 0s 41ms/step - loss: 1.0218 - categorical_accuracy: 0.4706\n",
      "Epoch 174/2000\n",
      "3/3 [==============================] - 0s 41ms/step - loss: 1.0132 - categorical_accuracy: 0.4941\n",
      "Epoch 175/2000\n",
      "3/3 [==============================] - 0s 40ms/step - loss: 1.0028 - categorical_accuracy: 0.4941\n",
      "Epoch 176/2000\n",
      "3/3 [==============================] - 0s 41ms/step - loss: 0.9880 - categorical_accuracy: 0.4824\n",
      "Epoch 177/2000\n",
      "3/3 [==============================] - 0s 40ms/step - loss: 0.9713 - categorical_accuracy: 0.4706\n",
      "Epoch 178/2000\n",
      "3/3 [==============================] - 0s 42ms/step - loss: 0.9519 - categorical_accuracy: 0.4706\n",
      "Epoch 179/2000\n",
      "3/3 [==============================] - 0s 41ms/step - loss: 0.9260 - categorical_accuracy: 0.4588\n",
      "Epoch 180/2000\n",
      "3/3 [==============================] - 0s 41ms/step - loss: 0.9180 - categorical_accuracy: 0.4824\n",
      "Epoch 181/2000\n",
      "3/3 [==============================] - 0s 46ms/step - loss: 0.9024 - categorical_accuracy: 0.5765\n",
      "Epoch 182/2000\n",
      "3/3 [==============================] - 0s 41ms/step - loss: 0.8854 - categorical_accuracy: 0.6471\n",
      "Epoch 183/2000\n",
      "3/3 [==============================] - 0s 42ms/step - loss: 0.8793 - categorical_accuracy: 0.6588\n",
      "Epoch 184/2000\n",
      "3/3 [==============================] - 0s 46ms/step - loss: 0.8642 - categorical_accuracy: 0.6588\n",
      "Epoch 185/2000\n",
      "3/3 [==============================] - 0s 42ms/step - loss: 0.8596 - categorical_accuracy: 0.6706\n",
      "Epoch 186/2000\n",
      "3/3 [==============================] - 0s 41ms/step - loss: 0.8390 - categorical_accuracy: 0.6706\n",
      "Epoch 187/2000\n",
      "3/3 [==============================] - 0s 41ms/step - loss: 0.8341 - categorical_accuracy: 0.6706\n",
      "Epoch 188/2000\n",
      "3/3 [==============================] - 0s 41ms/step - loss: 0.8273 - categorical_accuracy: 0.6706\n",
      "Epoch 189/2000\n",
      "3/3 [==============================] - 0s 46ms/step - loss: 0.8142 - categorical_accuracy: 0.6706\n",
      "Epoch 190/2000\n",
      "3/3 [==============================] - 0s 40ms/step - loss: 0.8040 - categorical_accuracy: 0.6824\n",
      "Epoch 191/2000\n",
      "3/3 [==============================] - 0s 40ms/step - loss: 0.7926 - categorical_accuracy: 0.6941\n",
      "Epoch 192/2000\n",
      "3/3 [==============================] - 0s 42ms/step - loss: 0.7848 - categorical_accuracy: 0.6941\n",
      "Epoch 193/2000\n",
      "3/3 [==============================] - 0s 41ms/step - loss: 0.7734 - categorical_accuracy: 0.6824\n",
      "Epoch 194/2000\n",
      "3/3 [==============================] - 0s 41ms/step - loss: 0.7607 - categorical_accuracy: 0.6824\n",
      "Epoch 195/2000\n",
      "3/3 [==============================] - 0s 39ms/step - loss: 0.7590 - categorical_accuracy: 0.6941\n",
      "Epoch 196/2000\n",
      "3/3 [==============================] - 0s 41ms/step - loss: 0.7421 - categorical_accuracy: 0.7059\n",
      "Epoch 197/2000\n",
      "3/3 [==============================] - 0s 41ms/step - loss: 0.7393 - categorical_accuracy: 0.7765\n",
      "Epoch 198/2000\n",
      "3/3 [==============================] - 0s 41ms/step - loss: 0.7275 - categorical_accuracy: 0.7176\n",
      "Epoch 199/2000\n",
      "3/3 [==============================] - 0s 41ms/step - loss: 0.7156 - categorical_accuracy: 0.7059\n",
      "Epoch 200/2000\n",
      "3/3 [==============================] - 0s 40ms/step - loss: 0.7191 - categorical_accuracy: 0.7765\n",
      "Epoch 201/2000\n",
      "3/3 [==============================] - 0s 41ms/step - loss: 0.7032 - categorical_accuracy: 0.7765\n",
      "Epoch 202/2000\n",
      "3/3 [==============================] - 0s 41ms/step - loss: 0.6865 - categorical_accuracy: 0.7529\n",
      "Epoch 203/2000\n",
      "3/3 [==============================] - 0s 41ms/step - loss: 0.6807 - categorical_accuracy: 0.7765\n",
      "Epoch 204/2000\n",
      "3/3 [==============================] - 0s 42ms/step - loss: 0.6746 - categorical_accuracy: 0.8235\n",
      "Epoch 205/2000\n",
      "3/3 [==============================] - 0s 40ms/step - loss: 0.6517 - categorical_accuracy: 0.8353\n",
      "Epoch 206/2000\n",
      "3/3 [==============================] - 0s 41ms/step - loss: 0.6159 - categorical_accuracy: 0.7882\n",
      "Epoch 207/2000\n",
      "3/3 [==============================] - 0s 40ms/step - loss: 0.5486 - categorical_accuracy: 0.8941\n",
      "Epoch 208/2000\n",
      "3/3 [==============================] - 0s 41ms/step - loss: 1.4806 - categorical_accuracy: 0.7647\n",
      "Epoch 209/2000\n",
      "3/3 [==============================] - 0s 41ms/step - loss: 1.0640 - categorical_accuracy: 0.6824\n",
      "Epoch 210/2000\n",
      "3/3 [==============================] - 0s 41ms/step - loss: 0.8048 - categorical_accuracy: 0.6235\n",
      "Epoch 211/2000\n",
      "3/3 [==============================] - 0s 41ms/step - loss: 0.9421 - categorical_accuracy: 0.5412\n",
      "Epoch 212/2000\n",
      "3/3 [==============================] - 0s 41ms/step - loss: 0.7137 - categorical_accuracy: 0.8118\n",
      "Epoch 213/2000\n",
      "3/3 [==============================] - 0s 41ms/step - loss: 0.6592 - categorical_accuracy: 0.8235\n",
      "Epoch 214/2000\n",
      "3/3 [==============================] - 0s 41ms/step - loss: 0.6110 - categorical_accuracy: 0.7412\n",
      "Epoch 215/2000\n",
      "3/3 [==============================] - 0s 40ms/step - loss: 0.7479 - categorical_accuracy: 0.6471\n",
      "Epoch 216/2000\n",
      "3/3 [==============================] - 0s 42ms/step - loss: 0.7088 - categorical_accuracy: 0.6706\n",
      "Epoch 217/2000\n",
      "3/3 [==============================] - 0s 40ms/step - loss: 0.6788 - categorical_accuracy: 0.6941\n",
      "Epoch 218/2000\n"
     ]
    },
    {
     "name": "stdout",
     "output_type": "stream",
     "text": [
      "3/3 [==============================] - 0s 41ms/step - loss: 0.5880 - categorical_accuracy: 0.6941\n",
      "Epoch 219/2000\n",
      "3/3 [==============================] - 0s 41ms/step - loss: 0.5516 - categorical_accuracy: 0.7412\n",
      "Epoch 220/2000\n",
      "3/3 [==============================] - 0s 41ms/step - loss: 0.3958 - categorical_accuracy: 0.9294\n",
      "Epoch 221/2000\n",
      "3/3 [==============================] - 0s 40ms/step - loss: 0.4688 - categorical_accuracy: 0.8941\n",
      "Epoch 222/2000\n",
      "3/3 [==============================] - 0s 41ms/step - loss: 0.4301 - categorical_accuracy: 0.9294\n",
      "Epoch 223/2000\n",
      "3/3 [==============================] - 0s 41ms/step - loss: 0.3790 - categorical_accuracy: 0.9412\n",
      "Epoch 224/2000\n",
      "3/3 [==============================] - 0s 41ms/step - loss: 0.3328 - categorical_accuracy: 0.9529\n",
      "Epoch 225/2000\n",
      "3/3 [==============================] - 0s 41ms/step - loss: 0.2952 - categorical_accuracy: 0.9647\n",
      "Epoch 226/2000\n",
      "3/3 [==============================] - 0s 42ms/step - loss: 0.3257 - categorical_accuracy: 0.8824\n",
      "Epoch 227/2000\n",
      "3/3 [==============================] - 0s 42ms/step - loss: 0.2401 - categorical_accuracy: 0.9647\n",
      "Epoch 228/2000\n",
      "3/3 [==============================] - 0s 42ms/step - loss: 0.3374 - categorical_accuracy: 0.8706\n",
      "Epoch 229/2000\n",
      "3/3 [==============================] - 0s 42ms/step - loss: 0.2292 - categorical_accuracy: 0.9176\n",
      "Epoch 230/2000\n",
      "3/3 [==============================] - 0s 41ms/step - loss: 0.2196 - categorical_accuracy: 0.9176\n",
      "Epoch 231/2000\n",
      "3/3 [==============================] - 0s 42ms/step - loss: 0.2892 - categorical_accuracy: 0.8588\n",
      "Epoch 232/2000\n",
      "3/3 [==============================] - 0s 42ms/step - loss: 0.1728 - categorical_accuracy: 0.9529\n",
      "Epoch 233/2000\n",
      "3/3 [==============================] - 0s 41ms/step - loss: 0.1625 - categorical_accuracy: 0.9412\n",
      "Epoch 234/2000\n",
      "3/3 [==============================] - 0s 42ms/step - loss: 0.1296 - categorical_accuracy: 0.9412\n",
      "Epoch 235/2000\n",
      "3/3 [==============================] - 0s 41ms/step - loss: 0.1042 - categorical_accuracy: 0.9765\n",
      "Epoch 236/2000\n",
      "3/3 [==============================] - 0s 41ms/step - loss: 0.1256 - categorical_accuracy: 0.9647\n",
      "Epoch 237/2000\n",
      "3/3 [==============================] - 0s 42ms/step - loss: 0.1183 - categorical_accuracy: 0.9647\n",
      "Epoch 238/2000\n",
      "3/3 [==============================] - 0s 41ms/step - loss: 0.1136 - categorical_accuracy: 0.9529\n",
      "Epoch 239/2000\n",
      "3/3 [==============================] - 0s 42ms/step - loss: 0.1077 - categorical_accuracy: 0.9882\n",
      "Epoch 240/2000\n",
      "3/3 [==============================] - 0s 40ms/step - loss: 0.1275 - categorical_accuracy: 0.9529\n",
      "Epoch 241/2000\n"
     ]
    },
    {
     "ename": "KeyboardInterrupt",
     "evalue": "",
     "output_type": "error",
     "traceback": [
      "\u001b[1;31m---------------------------------------------------------------------------\u001b[0m",
      "\u001b[1;31mKeyboardInterrupt\u001b[0m                         Traceback (most recent call last)",
      "Input \u001b[1;32mIn [31]\u001b[0m, in \u001b[0;36m<cell line: 1>\u001b[1;34m()\u001b[0m\n\u001b[1;32m----> 1\u001b[0m \u001b[43mmodel\u001b[49m\u001b[38;5;241;43m.\u001b[39;49m\u001b[43mfit\u001b[49m\u001b[43m(\u001b[49m\u001b[43mX_train\u001b[49m\u001b[43m,\u001b[49m\u001b[43m \u001b[49m\u001b[43my_train\u001b[49m\u001b[43m,\u001b[49m\u001b[43m \u001b[49m\u001b[43mepochs\u001b[49m\u001b[38;5;241;43m=\u001b[39;49m\u001b[38;5;241;43m2000\u001b[39;49m\u001b[43m,\u001b[49m\u001b[43m \u001b[49m\u001b[43mcallbacks\u001b[49m\u001b[38;5;241;43m=\u001b[39;49m\u001b[43m[\u001b[49m\u001b[43mtb_callback\u001b[49m\u001b[43m]\u001b[49m\u001b[43m)\u001b[49m\n",
      "File \u001b[1;32m~\\AppData\\Local\\Programs\\Python\\Python310\\lib\\site-packages\\keras\\utils\\traceback_utils.py:64\u001b[0m, in \u001b[0;36mfilter_traceback.<locals>.error_handler\u001b[1;34m(*args, **kwargs)\u001b[0m\n\u001b[0;32m     62\u001b[0m filtered_tb \u001b[38;5;241m=\u001b[39m \u001b[38;5;28;01mNone\u001b[39;00m\n\u001b[0;32m     63\u001b[0m \u001b[38;5;28;01mtry\u001b[39;00m:\n\u001b[1;32m---> 64\u001b[0m   \u001b[38;5;28;01mreturn\u001b[39;00m fn(\u001b[38;5;241m*\u001b[39margs, \u001b[38;5;241m*\u001b[39m\u001b[38;5;241m*\u001b[39mkwargs)\n\u001b[0;32m     65\u001b[0m \u001b[38;5;28;01mexcept\u001b[39;00m \u001b[38;5;167;01mException\u001b[39;00m \u001b[38;5;28;01mas\u001b[39;00m e:  \u001b[38;5;66;03m# pylint: disable=broad-except\u001b[39;00m\n\u001b[0;32m     66\u001b[0m   filtered_tb \u001b[38;5;241m=\u001b[39m _process_traceback_frames(e\u001b[38;5;241m.\u001b[39m__traceback__)\n",
      "File \u001b[1;32m~\\AppData\\Local\\Programs\\Python\\Python310\\lib\\site-packages\\keras\\engine\\training.py:1384\u001b[0m, in \u001b[0;36mModel.fit\u001b[1;34m(self, x, y, batch_size, epochs, verbose, callbacks, validation_split, validation_data, shuffle, class_weight, sample_weight, initial_epoch, steps_per_epoch, validation_steps, validation_batch_size, validation_freq, max_queue_size, workers, use_multiprocessing)\u001b[0m\n\u001b[0;32m   1377\u001b[0m \u001b[38;5;28;01mwith\u001b[39;00m tf\u001b[38;5;241m.\u001b[39mprofiler\u001b[38;5;241m.\u001b[39mexperimental\u001b[38;5;241m.\u001b[39mTrace(\n\u001b[0;32m   1378\u001b[0m     \u001b[38;5;124m'\u001b[39m\u001b[38;5;124mtrain\u001b[39m\u001b[38;5;124m'\u001b[39m,\n\u001b[0;32m   1379\u001b[0m     epoch_num\u001b[38;5;241m=\u001b[39mepoch,\n\u001b[0;32m   1380\u001b[0m     step_num\u001b[38;5;241m=\u001b[39mstep,\n\u001b[0;32m   1381\u001b[0m     batch_size\u001b[38;5;241m=\u001b[39mbatch_size,\n\u001b[0;32m   1382\u001b[0m     _r\u001b[38;5;241m=\u001b[39m\u001b[38;5;241m1\u001b[39m):\n\u001b[0;32m   1383\u001b[0m   callbacks\u001b[38;5;241m.\u001b[39mon_train_batch_begin(step)\n\u001b[1;32m-> 1384\u001b[0m   tmp_logs \u001b[38;5;241m=\u001b[39m \u001b[38;5;28;43mself\u001b[39;49m\u001b[38;5;241;43m.\u001b[39;49m\u001b[43mtrain_function\u001b[49m\u001b[43m(\u001b[49m\u001b[43miterator\u001b[49m\u001b[43m)\u001b[49m\n\u001b[0;32m   1385\u001b[0m   \u001b[38;5;28;01mif\u001b[39;00m data_handler\u001b[38;5;241m.\u001b[39mshould_sync:\n\u001b[0;32m   1386\u001b[0m     context\u001b[38;5;241m.\u001b[39masync_wait()\n",
      "File \u001b[1;32m~\\AppData\\Local\\Programs\\Python\\Python310\\lib\\site-packages\\tensorflow\\python\\util\\traceback_utils.py:150\u001b[0m, in \u001b[0;36mfilter_traceback.<locals>.error_handler\u001b[1;34m(*args, **kwargs)\u001b[0m\n\u001b[0;32m    148\u001b[0m filtered_tb \u001b[38;5;241m=\u001b[39m \u001b[38;5;28;01mNone\u001b[39;00m\n\u001b[0;32m    149\u001b[0m \u001b[38;5;28;01mtry\u001b[39;00m:\n\u001b[1;32m--> 150\u001b[0m   \u001b[38;5;28;01mreturn\u001b[39;00m fn(\u001b[38;5;241m*\u001b[39margs, \u001b[38;5;241m*\u001b[39m\u001b[38;5;241m*\u001b[39mkwargs)\n\u001b[0;32m    151\u001b[0m \u001b[38;5;28;01mexcept\u001b[39;00m \u001b[38;5;167;01mException\u001b[39;00m \u001b[38;5;28;01mas\u001b[39;00m e:\n\u001b[0;32m    152\u001b[0m   filtered_tb \u001b[38;5;241m=\u001b[39m _process_traceback_frames(e\u001b[38;5;241m.\u001b[39m__traceback__)\n",
      "File \u001b[1;32m~\\AppData\\Local\\Programs\\Python\\Python310\\lib\\site-packages\\tensorflow\\python\\eager\\def_function.py:915\u001b[0m, in \u001b[0;36mFunction.__call__\u001b[1;34m(self, *args, **kwds)\u001b[0m\n\u001b[0;32m    912\u001b[0m compiler \u001b[38;5;241m=\u001b[39m \u001b[38;5;124m\"\u001b[39m\u001b[38;5;124mxla\u001b[39m\u001b[38;5;124m\"\u001b[39m \u001b[38;5;28;01mif\u001b[39;00m \u001b[38;5;28mself\u001b[39m\u001b[38;5;241m.\u001b[39m_jit_compile \u001b[38;5;28;01melse\u001b[39;00m \u001b[38;5;124m\"\u001b[39m\u001b[38;5;124mnonXla\u001b[39m\u001b[38;5;124m\"\u001b[39m\n\u001b[0;32m    914\u001b[0m \u001b[38;5;28;01mwith\u001b[39;00m OptionalXlaContext(\u001b[38;5;28mself\u001b[39m\u001b[38;5;241m.\u001b[39m_jit_compile):\n\u001b[1;32m--> 915\u001b[0m   result \u001b[38;5;241m=\u001b[39m \u001b[38;5;28mself\u001b[39m\u001b[38;5;241m.\u001b[39m_call(\u001b[38;5;241m*\u001b[39margs, \u001b[38;5;241m*\u001b[39m\u001b[38;5;241m*\u001b[39mkwds)\n\u001b[0;32m    917\u001b[0m new_tracing_count \u001b[38;5;241m=\u001b[39m \u001b[38;5;28mself\u001b[39m\u001b[38;5;241m.\u001b[39mexperimental_get_tracing_count()\n\u001b[0;32m    918\u001b[0m without_tracing \u001b[38;5;241m=\u001b[39m (tracing_count \u001b[38;5;241m==\u001b[39m new_tracing_count)\n",
      "File \u001b[1;32m~\\AppData\\Local\\Programs\\Python\\Python310\\lib\\site-packages\\tensorflow\\python\\eager\\def_function.py:947\u001b[0m, in \u001b[0;36mFunction._call\u001b[1;34m(self, *args, **kwds)\u001b[0m\n\u001b[0;32m    944\u001b[0m   \u001b[38;5;28mself\u001b[39m\u001b[38;5;241m.\u001b[39m_lock\u001b[38;5;241m.\u001b[39mrelease()\n\u001b[0;32m    945\u001b[0m   \u001b[38;5;66;03m# In this case we have created variables on the first call, so we run the\u001b[39;00m\n\u001b[0;32m    946\u001b[0m   \u001b[38;5;66;03m# defunned version which is guaranteed to never create variables.\u001b[39;00m\n\u001b[1;32m--> 947\u001b[0m   \u001b[38;5;28;01mreturn\u001b[39;00m \u001b[38;5;28mself\u001b[39m\u001b[38;5;241m.\u001b[39m_stateless_fn(\u001b[38;5;241m*\u001b[39margs, \u001b[38;5;241m*\u001b[39m\u001b[38;5;241m*\u001b[39mkwds)  \u001b[38;5;66;03m# pylint: disable=not-callable\u001b[39;00m\n\u001b[0;32m    948\u001b[0m \u001b[38;5;28;01melif\u001b[39;00m \u001b[38;5;28mself\u001b[39m\u001b[38;5;241m.\u001b[39m_stateful_fn \u001b[38;5;129;01mis\u001b[39;00m \u001b[38;5;129;01mnot\u001b[39;00m \u001b[38;5;28;01mNone\u001b[39;00m:\n\u001b[0;32m    949\u001b[0m   \u001b[38;5;66;03m# Release the lock early so that multiple threads can perform the call\u001b[39;00m\n\u001b[0;32m    950\u001b[0m   \u001b[38;5;66;03m# in parallel.\u001b[39;00m\n\u001b[0;32m    951\u001b[0m   \u001b[38;5;28mself\u001b[39m\u001b[38;5;241m.\u001b[39m_lock\u001b[38;5;241m.\u001b[39mrelease()\n",
      "File \u001b[1;32m~\\AppData\\Local\\Programs\\Python\\Python310\\lib\\site-packages\\tensorflow\\python\\eager\\function.py:2956\u001b[0m, in \u001b[0;36mFunction.__call__\u001b[1;34m(self, *args, **kwargs)\u001b[0m\n\u001b[0;32m   2953\u001b[0m \u001b[38;5;28;01mwith\u001b[39;00m \u001b[38;5;28mself\u001b[39m\u001b[38;5;241m.\u001b[39m_lock:\n\u001b[0;32m   2954\u001b[0m   (graph_function,\n\u001b[0;32m   2955\u001b[0m    filtered_flat_args) \u001b[38;5;241m=\u001b[39m \u001b[38;5;28mself\u001b[39m\u001b[38;5;241m.\u001b[39m_maybe_define_function(args, kwargs)\n\u001b[1;32m-> 2956\u001b[0m \u001b[38;5;28;01mreturn\u001b[39;00m \u001b[43mgraph_function\u001b[49m\u001b[38;5;241;43m.\u001b[39;49m\u001b[43m_call_flat\u001b[49m\u001b[43m(\u001b[49m\n\u001b[0;32m   2957\u001b[0m \u001b[43m    \u001b[49m\u001b[43mfiltered_flat_args\u001b[49m\u001b[43m,\u001b[49m\u001b[43m \u001b[49m\u001b[43mcaptured_inputs\u001b[49m\u001b[38;5;241;43m=\u001b[39;49m\u001b[43mgraph_function\u001b[49m\u001b[38;5;241;43m.\u001b[39;49m\u001b[43mcaptured_inputs\u001b[49m\u001b[43m)\u001b[49m\n",
      "File \u001b[1;32m~\\AppData\\Local\\Programs\\Python\\Python310\\lib\\site-packages\\tensorflow\\python\\eager\\function.py:1853\u001b[0m, in \u001b[0;36mConcreteFunction._call_flat\u001b[1;34m(self, args, captured_inputs, cancellation_manager)\u001b[0m\n\u001b[0;32m   1849\u001b[0m possible_gradient_type \u001b[38;5;241m=\u001b[39m gradients_util\u001b[38;5;241m.\u001b[39mPossibleTapeGradientTypes(args)\n\u001b[0;32m   1850\u001b[0m \u001b[38;5;28;01mif\u001b[39;00m (possible_gradient_type \u001b[38;5;241m==\u001b[39m gradients_util\u001b[38;5;241m.\u001b[39mPOSSIBLE_GRADIENT_TYPES_NONE\n\u001b[0;32m   1851\u001b[0m     \u001b[38;5;129;01mand\u001b[39;00m executing_eagerly):\n\u001b[0;32m   1852\u001b[0m   \u001b[38;5;66;03m# No tape is watching; skip to running the function.\u001b[39;00m\n\u001b[1;32m-> 1853\u001b[0m   \u001b[38;5;28;01mreturn\u001b[39;00m \u001b[38;5;28mself\u001b[39m\u001b[38;5;241m.\u001b[39m_build_call_outputs(\u001b[38;5;28;43mself\u001b[39;49m\u001b[38;5;241;43m.\u001b[39;49m\u001b[43m_inference_function\u001b[49m\u001b[38;5;241;43m.\u001b[39;49m\u001b[43mcall\u001b[49m\u001b[43m(\u001b[49m\n\u001b[0;32m   1854\u001b[0m \u001b[43m      \u001b[49m\u001b[43mctx\u001b[49m\u001b[43m,\u001b[49m\u001b[43m \u001b[49m\u001b[43margs\u001b[49m\u001b[43m,\u001b[49m\u001b[43m \u001b[49m\u001b[43mcancellation_manager\u001b[49m\u001b[38;5;241;43m=\u001b[39;49m\u001b[43mcancellation_manager\u001b[49m\u001b[43m)\u001b[49m)\n\u001b[0;32m   1855\u001b[0m forward_backward \u001b[38;5;241m=\u001b[39m \u001b[38;5;28mself\u001b[39m\u001b[38;5;241m.\u001b[39m_select_forward_and_backward_functions(\n\u001b[0;32m   1856\u001b[0m     args,\n\u001b[0;32m   1857\u001b[0m     possible_gradient_type,\n\u001b[0;32m   1858\u001b[0m     executing_eagerly)\n\u001b[0;32m   1859\u001b[0m forward_function, args_with_tangents \u001b[38;5;241m=\u001b[39m forward_backward\u001b[38;5;241m.\u001b[39mforward()\n",
      "File \u001b[1;32m~\\AppData\\Local\\Programs\\Python\\Python310\\lib\\site-packages\\tensorflow\\python\\eager\\function.py:499\u001b[0m, in \u001b[0;36m_EagerDefinedFunction.call\u001b[1;34m(self, ctx, args, cancellation_manager)\u001b[0m\n\u001b[0;32m    497\u001b[0m \u001b[38;5;28;01mwith\u001b[39;00m _InterpolateFunctionError(\u001b[38;5;28mself\u001b[39m):\n\u001b[0;32m    498\u001b[0m   \u001b[38;5;28;01mif\u001b[39;00m cancellation_manager \u001b[38;5;129;01mis\u001b[39;00m \u001b[38;5;28;01mNone\u001b[39;00m:\n\u001b[1;32m--> 499\u001b[0m     outputs \u001b[38;5;241m=\u001b[39m \u001b[43mexecute\u001b[49m\u001b[38;5;241;43m.\u001b[39;49m\u001b[43mexecute\u001b[49m\u001b[43m(\u001b[49m\n\u001b[0;32m    500\u001b[0m \u001b[43m        \u001b[49m\u001b[38;5;28;43mstr\u001b[39;49m\u001b[43m(\u001b[49m\u001b[38;5;28;43mself\u001b[39;49m\u001b[38;5;241;43m.\u001b[39;49m\u001b[43msignature\u001b[49m\u001b[38;5;241;43m.\u001b[39;49m\u001b[43mname\u001b[49m\u001b[43m)\u001b[49m\u001b[43m,\u001b[49m\n\u001b[0;32m    501\u001b[0m \u001b[43m        \u001b[49m\u001b[43mnum_outputs\u001b[49m\u001b[38;5;241;43m=\u001b[39;49m\u001b[38;5;28;43mself\u001b[39;49m\u001b[38;5;241;43m.\u001b[39;49m\u001b[43m_num_outputs\u001b[49m\u001b[43m,\u001b[49m\n\u001b[0;32m    502\u001b[0m \u001b[43m        \u001b[49m\u001b[43minputs\u001b[49m\u001b[38;5;241;43m=\u001b[39;49m\u001b[43margs\u001b[49m\u001b[43m,\u001b[49m\n\u001b[0;32m    503\u001b[0m \u001b[43m        \u001b[49m\u001b[43mattrs\u001b[49m\u001b[38;5;241;43m=\u001b[39;49m\u001b[43mattrs\u001b[49m\u001b[43m,\u001b[49m\n\u001b[0;32m    504\u001b[0m \u001b[43m        \u001b[49m\u001b[43mctx\u001b[49m\u001b[38;5;241;43m=\u001b[39;49m\u001b[43mctx\u001b[49m\u001b[43m)\u001b[49m\n\u001b[0;32m    505\u001b[0m   \u001b[38;5;28;01melse\u001b[39;00m:\n\u001b[0;32m    506\u001b[0m     outputs \u001b[38;5;241m=\u001b[39m execute\u001b[38;5;241m.\u001b[39mexecute_with_cancellation(\n\u001b[0;32m    507\u001b[0m         \u001b[38;5;28mstr\u001b[39m(\u001b[38;5;28mself\u001b[39m\u001b[38;5;241m.\u001b[39msignature\u001b[38;5;241m.\u001b[39mname),\n\u001b[0;32m    508\u001b[0m         num_outputs\u001b[38;5;241m=\u001b[39m\u001b[38;5;28mself\u001b[39m\u001b[38;5;241m.\u001b[39m_num_outputs,\n\u001b[1;32m   (...)\u001b[0m\n\u001b[0;32m    511\u001b[0m         ctx\u001b[38;5;241m=\u001b[39mctx,\n\u001b[0;32m    512\u001b[0m         cancellation_manager\u001b[38;5;241m=\u001b[39mcancellation_manager)\n",
      "File \u001b[1;32m~\\AppData\\Local\\Programs\\Python\\Python310\\lib\\site-packages\\tensorflow\\python\\eager\\execute.py:54\u001b[0m, in \u001b[0;36mquick_execute\u001b[1;34m(op_name, num_outputs, inputs, attrs, ctx, name)\u001b[0m\n\u001b[0;32m     52\u001b[0m \u001b[38;5;28;01mtry\u001b[39;00m:\n\u001b[0;32m     53\u001b[0m   ctx\u001b[38;5;241m.\u001b[39mensure_initialized()\n\u001b[1;32m---> 54\u001b[0m   tensors \u001b[38;5;241m=\u001b[39m \u001b[43mpywrap_tfe\u001b[49m\u001b[38;5;241;43m.\u001b[39;49m\u001b[43mTFE_Py_Execute\u001b[49m\u001b[43m(\u001b[49m\u001b[43mctx\u001b[49m\u001b[38;5;241;43m.\u001b[39;49m\u001b[43m_handle\u001b[49m\u001b[43m,\u001b[49m\u001b[43m \u001b[49m\u001b[43mdevice_name\u001b[49m\u001b[43m,\u001b[49m\u001b[43m \u001b[49m\u001b[43mop_name\u001b[49m\u001b[43m,\u001b[49m\n\u001b[0;32m     55\u001b[0m \u001b[43m                                      \u001b[49m\u001b[43minputs\u001b[49m\u001b[43m,\u001b[49m\u001b[43m \u001b[49m\u001b[43mattrs\u001b[49m\u001b[43m,\u001b[49m\u001b[43m \u001b[49m\u001b[43mnum_outputs\u001b[49m\u001b[43m)\u001b[49m\n\u001b[0;32m     56\u001b[0m \u001b[38;5;28;01mexcept\u001b[39;00m core\u001b[38;5;241m.\u001b[39m_NotOkStatusException \u001b[38;5;28;01mas\u001b[39;00m e:\n\u001b[0;32m     57\u001b[0m   \u001b[38;5;28;01mif\u001b[39;00m name \u001b[38;5;129;01mis\u001b[39;00m \u001b[38;5;129;01mnot\u001b[39;00m \u001b[38;5;28;01mNone\u001b[39;00m:\n",
      "\u001b[1;31mKeyboardInterrupt\u001b[0m: "
     ]
    }
   ],
   "source": [
    "model.fit(X_train, y_train, epochs=2000, callbacks=[tb_callback])"
   ]
  },
  {
   "cell_type": "code",
   "execution_count": 32,
   "metadata": {
    "scrolled": true
   },
   "outputs": [
    {
     "name": "stdout",
     "output_type": "stream",
     "text": [
      "Model: \"sequential\"\n",
      "_________________________________________________________________\n",
      " Layer (type)                Output Shape              Param #   \n",
      "=================================================================\n",
      " lstm (LSTM)                 (None, 30, 64)            442112    \n",
      "                                                                 \n",
      " lstm_1 (LSTM)               (None, 30, 128)           98816     \n",
      "                                                                 \n",
      " lstm_2 (LSTM)               (None, 64)                49408     \n",
      "                                                                 \n",
      " dense (Dense)               (None, 64)                4160      \n",
      "                                                                 \n",
      " dense_1 (Dense)             (None, 32)                2080      \n",
      "                                                                 \n",
      " dense_2 (Dense)             (None, 3)                 99        \n",
      "                                                                 \n",
      "=================================================================\n",
      "Total params: 596,675\n",
      "Trainable params: 596,675\n",
      "Non-trainable params: 0\n",
      "_________________________________________________________________\n"
     ]
    }
   ],
   "source": [
    "model.summary()"
   ]
  },
  {
   "cell_type": "markdown",
   "metadata": {},
   "source": [
    "# 8. Make Predictions"
   ]
  },
  {
   "cell_type": "code",
   "execution_count": 33,
   "metadata": {},
   "outputs": [],
   "source": [
    "res = model.predict(X_test)"
   ]
  },
  {
   "cell_type": "code",
   "execution_count": 34,
   "metadata": {},
   "outputs": [
    {
     "data": {
      "text/plain": [
       "'thanks'"
      ]
     },
     "execution_count": 34,
     "metadata": {},
     "output_type": "execute_result"
    }
   ],
   "source": [
    "actions[np.argmax(res[4])]"
   ]
  },
  {
   "cell_type": "code",
   "execution_count": 35,
   "metadata": {},
   "outputs": [
    {
     "data": {
      "text/plain": [
       "'thanks'"
      ]
     },
     "execution_count": 35,
     "metadata": {},
     "output_type": "execute_result"
    }
   ],
   "source": [
    "actions[np.argmax(y_test[4])]"
   ]
  },
  {
   "cell_type": "markdown",
   "metadata": {},
   "source": [
    "# 9. Save Weights"
   ]
  },
  {
   "cell_type": "code",
   "execution_count": 36,
   "metadata": {},
   "outputs": [],
   "source": [
    "model.save('action.h5')"
   ]
  },
  {
   "cell_type": "code",
   "execution_count": 37,
   "metadata": {},
   "outputs": [],
   "source": [
    "model.load_weights('action.h5')"
   ]
  },
  {
   "cell_type": "markdown",
   "metadata": {},
   "source": [
    "# 10. Evaluation using Confusion Matrix and Accuracy"
   ]
  },
  {
   "cell_type": "code",
   "execution_count": 38,
   "metadata": {},
   "outputs": [],
   "source": [
    "from sklearn.metrics import multilabel_confusion_matrix, accuracy_score"
   ]
  },
  {
   "cell_type": "code",
   "execution_count": 39,
   "metadata": {},
   "outputs": [],
   "source": [
    "yhat = model.predict(X_test)"
   ]
  },
  {
   "cell_type": "code",
   "execution_count": 40,
   "metadata": {},
   "outputs": [],
   "source": [
    "ytrue = np.argmax(y_test, axis=1).tolist()\n",
    "yhat = np.argmax(yhat, axis=1).tolist()"
   ]
  },
  {
   "cell_type": "code",
   "execution_count": 41,
   "metadata": {},
   "outputs": [
    {
     "data": {
      "text/plain": [
       "array([[[3, 0],\n",
       "        [1, 1]],\n",
       "\n",
       "       [[3, 0],\n",
       "        [0, 2]],\n",
       "\n",
       "       [[3, 1],\n",
       "        [0, 1]]], dtype=int64)"
      ]
     },
     "execution_count": 41,
     "metadata": {},
     "output_type": "execute_result"
    }
   ],
   "source": [
    "multilabel_confusion_matrix(ytrue, yhat)"
   ]
  },
  {
   "cell_type": "code",
   "execution_count": 42,
   "metadata": {},
   "outputs": [
    {
     "data": {
      "text/plain": [
       "0.8"
      ]
     },
     "execution_count": 42,
     "metadata": {},
     "output_type": "execute_result"
    }
   ],
   "source": [
    "accuracy_score(ytrue, yhat)"
   ]
  },
  {
   "cell_type": "markdown",
   "metadata": {},
   "source": [
    "# 11. Test in Real Time"
   ]
  },
  {
   "cell_type": "code",
   "execution_count": 47,
   "metadata": {},
   "outputs": [],
   "source": [
    "colors = [(245,117,16), (117,245,16), (16,117,245)]\n",
    "def prob_viz(res, actions, input_frame, colors):\n",
    "    output_frame = input_frame.copy()\n",
    "    for num, prob in enumerate(res):\n",
    "        cv2.rectangle(output_frame, (0,60+num*40), (int(prob*100), 90+num*40), colors[num], -1)\n",
    "        cv2.putText(output_frame, actions[num], (0, 85+num*40), cv2.FONT_HERSHEY_SIMPLEX, 1, (255,255,255), 2, cv2.LINE_AA)\n",
    "        \n",
    "    return output_frame"
   ]
  },
  {
   "cell_type": "code",
   "execution_count": 48,
   "metadata": {},
   "outputs": [
    {
     "ename": "TypeError",
     "evalue": "only size-1 arrays can be converted to Python scalars",
     "output_type": "error",
     "traceback": [
      "\u001b[1;31m---------------------------------------------------------------------------\u001b[0m",
      "\u001b[1;31mTypeError\u001b[0m                                 Traceback (most recent call last)",
      "Input \u001b[1;32mIn [48]\u001b[0m, in \u001b[0;36m<cell line: 2>\u001b[1;34m()\u001b[0m\n\u001b[0;32m      1\u001b[0m plt\u001b[38;5;241m.\u001b[39mfigure(figsize\u001b[38;5;241m=\u001b[39m(\u001b[38;5;241m18\u001b[39m,\u001b[38;5;241m18\u001b[39m))\n\u001b[1;32m----> 2\u001b[0m plt\u001b[38;5;241m.\u001b[39mimshow(\u001b[43mprob_viz\u001b[49m\u001b[43m(\u001b[49m\u001b[43mres\u001b[49m\u001b[43m,\u001b[49m\u001b[43m \u001b[49m\u001b[43mactions\u001b[49m\u001b[43m,\u001b[49m\u001b[43m \u001b[49m\u001b[43mimage\u001b[49m\u001b[43m,\u001b[49m\u001b[43m \u001b[49m\u001b[43mcolors\u001b[49m\u001b[43m)\u001b[49m)\n",
      "Input \u001b[1;32mIn [47]\u001b[0m, in \u001b[0;36mprob_viz\u001b[1;34m(res, actions, input_frame, colors)\u001b[0m\n\u001b[0;32m      3\u001b[0m output_frame \u001b[38;5;241m=\u001b[39m input_frame\u001b[38;5;241m.\u001b[39mcopy()\n\u001b[0;32m      4\u001b[0m \u001b[38;5;28;01mfor\u001b[39;00m num, prob \u001b[38;5;129;01min\u001b[39;00m \u001b[38;5;28menumerate\u001b[39m(res):\n\u001b[1;32m----> 5\u001b[0m     cv2\u001b[38;5;241m.\u001b[39mrectangle(output_frame, (\u001b[38;5;241m0\u001b[39m,\u001b[38;5;241m60\u001b[39m\u001b[38;5;241m+\u001b[39mnum\u001b[38;5;241m*\u001b[39m\u001b[38;5;241m40\u001b[39m), (\u001b[38;5;28;43mint\u001b[39;49m\u001b[43m(\u001b[49m\u001b[43mprob\u001b[49m\u001b[38;5;241;43m*\u001b[39;49m\u001b[38;5;241;43m100\u001b[39;49m\u001b[43m)\u001b[49m, \u001b[38;5;241m90\u001b[39m\u001b[38;5;241m+\u001b[39mnum\u001b[38;5;241m*\u001b[39m\u001b[38;5;241m40\u001b[39m), colors[num], \u001b[38;5;241m-\u001b[39m\u001b[38;5;241m1\u001b[39m)\n\u001b[0;32m      6\u001b[0m     cv2\u001b[38;5;241m.\u001b[39mputText(output_frame, actions[num], (\u001b[38;5;241m0\u001b[39m, \u001b[38;5;241m85\u001b[39m\u001b[38;5;241m+\u001b[39mnum\u001b[38;5;241m*\u001b[39m\u001b[38;5;241m40\u001b[39m), cv2\u001b[38;5;241m.\u001b[39mFONT_HERSHEY_SIMPLEX, \u001b[38;5;241m1\u001b[39m, (\u001b[38;5;241m255\u001b[39m,\u001b[38;5;241m255\u001b[39m,\u001b[38;5;241m255\u001b[39m), \u001b[38;5;241m2\u001b[39m, cv2\u001b[38;5;241m.\u001b[39mLINE_AA)\n\u001b[0;32m      8\u001b[0m \u001b[38;5;28;01mreturn\u001b[39;00m output_frame\n",
      "\u001b[1;31mTypeError\u001b[0m: only size-1 arrays can be converted to Python scalars"
     ]
    },
    {
     "data": {
      "text/plain": [
       "<Figure size 1296x1296 with 0 Axes>"
      ]
     },
     "metadata": {},
     "output_type": "display_data"
    }
   ],
   "source": [
    "plt.figure(figsize=(18,18))\n",
    "plt.imshow(prob_viz(res, actions, image, colors))"
   ]
  },
  {
   "cell_type": "code",
   "execution_count": 19,
   "metadata": {},
   "outputs": [],
   "source": [
    "sequence.reverse()"
   ]
  },
  {
   "cell_type": "code",
   "execution_count": 23,
   "metadata": {},
   "outputs": [
    {
     "data": {
      "text/plain": [
       "1"
      ]
     },
     "execution_count": 23,
     "metadata": {},
     "output_type": "execute_result"
    }
   ],
   "source": [
    "len(sequence)"
   ]
  },
  {
   "cell_type": "code",
   "execution_count": 51,
   "metadata": {},
   "outputs": [],
   "source": [
    "sequence.append('def')"
   ]
  },
  {
   "cell_type": "code",
   "execution_count": 34,
   "metadata": {},
   "outputs": [],
   "source": [
    "sequence.reverse()"
   ]
  },
  {
   "cell_type": "code",
   "execution_count": null,
   "metadata": {
    "scrolled": true
   },
   "outputs": [],
   "source": [
    "sequence[-30:]"
   ]
  },
  {
   "cell_type": "code",
   "execution_count": null,
   "metadata": {},
   "outputs": [],
   "source": [
    "# 1. New detection variables\n",
    "sequence = []\n",
    "sentence = []\n",
    "threshold = 0.8\n",
    "\n",
    "cap = cv2.VideoCapture(0)\n",
    "# Set mediapipe model \n",
    "with mp_holistic.Holistic(min_detection_confidence=0.5, min_tracking_confidence=0.5) as holistic:\n",
    "    while cap.isOpened():\n",
    "\n",
    "        # Read feed\n",
    "        ret, frame = cap.read()\n",
    "\n",
    "        # Make detections\n",
    "        image, results = mediapipe_detection(frame, holistic)\n",
    "        print(results)\n",
    "        \n",
    "        # Draw landmarks\n",
    "        draw_styled_landmarks(image, results)\n",
    "        \n",
    "        # 2. Prediction logic\n",
    "        keypoints = extract_keypoints(results)\n",
    "#         sequence.insert(0,keypoints)\n",
    "#         sequence = sequence[:30]\n",
    "        sequence.append(keypoints)\n",
    "        sequence = sequence[-30:]\n",
    "        \n",
    "        if len(sequence) == 30:\n",
    "            res = model.predict(np.expand_dims(sequence, axis=0))[0]\n",
    "            print(actions[np.argmax(res)])\n",
    "            \n",
    "            \n",
    "        #3. Viz logic\n",
    "            if res[np.argmax(res)] > threshold: \n",
    "                if len(sentence) > 0: \n",
    "                    if actions[np.argmax(res)] != sentence[-1]:\n",
    "                        sentence.append(actions[np.argmax(res)])\n",
    "                else:\n",
    "                    sentence.append(actions[np.argmax(res)])\n",
    "\n",
    "            if len(sentence) > 5: \n",
    "                sentence = sentence[-5:]\n",
    "\n",
    "            # Viz probabilities\n",
    "            image = prob_viz(res, actions, image, colors)\n",
    "            \n",
    "        cv2.rectangle(image, (0,0), (640, 40), (245, 117, 16), -1)\n",
    "        cv2.putText(image, ' '.join(sentence), (3,30), \n",
    "                       cv2.FONT_HERSHEY_SIMPLEX, 1, (255, 255, 255), 2, cv2.LINE_AA)\n",
    "        \n",
    "        # Show to screen\n",
    "        cv2.imshow('OpenCV Feed', image)\n",
    "\n",
    "        # Break gracefully\n",
    "        if cv2.waitKey(10) & 0xFF == ord('q'):\n",
    "            break\n",
    "    cap.release()\n",
    "    cv2.destroyAllWindows()"
   ]
  },
  {
   "cell_type": "code",
   "execution_count": 20,
   "metadata": {},
   "outputs": [],
   "source": [
    "cap.release()\n",
    "cv2.destroyAllWindows()"
   ]
  },
  {
   "cell_type": "code",
   "execution_count": 247,
   "metadata": {},
   "outputs": [
    {
     "data": {
      "text/plain": [
       "True"
      ]
     },
     "execution_count": 247,
     "metadata": {},
     "output_type": "execute_result"
    }
   ],
   "source": [
    "res[np.argmax(res)] > threshold"
   ]
  },
  {
   "cell_type": "code",
   "execution_count": null,
   "metadata": {},
   "outputs": [],
   "source": [
    "(num_sequences,30,1662)"
   ]
  },
  {
   "cell_type": "code",
   "execution_count": 240,
   "metadata": {},
   "outputs": [
    {
     "data": {
      "text/plain": [
       "array([[5.532469e-04, 9.974770e-01, 1.969744e-03]], dtype=float32)"
      ]
     },
     "execution_count": 240,
     "metadata": {},
     "output_type": "execute_result"
    }
   ],
   "source": [
    "model.predict(np.expand_dims(X_test[0], axis=0))"
   ]
  }
 ],
 "metadata": {
  "kernelspec": {
   "display_name": "Python 3 (ipykernel)",
   "language": "python",
   "name": "python3"
  },
  "language_info": {
   "codemirror_mode": {
    "name": "ipython",
    "version": 3
   },
   "file_extension": ".py",
   "mimetype": "text/x-python",
   "name": "python",
   "nbconvert_exporter": "python",
   "pygments_lexer": "ipython3",
   "version": "3.10.5"
  }
 },
 "nbformat": 4,
 "nbformat_minor": 2
}
