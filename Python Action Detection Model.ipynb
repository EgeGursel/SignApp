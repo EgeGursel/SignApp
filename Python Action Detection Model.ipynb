{
 "cells": [
  {
   "cell_type": "markdown",
   "metadata": {},
   "source": [
    "# 1. Import and Install Dependencies"
   ]
  },
  {
   "cell_type": "code",
   "execution_count": 2,
   "metadata": {
    "collapsed": true
   },
   "outputs": [
    {
     "name": "stdout",
     "output_type": "stream",
     "text": [
      "Collecting tensorflow\n",
      "  Downloading tensorflow-2.9.1-cp310-cp310-win_amd64.whl (444.1 MB)\n",
      "     -------------------------------------- 444.1/444.1 MB 3.6 MB/s eta 0:00:00\n",
      "Collecting tensorflow-gpu\n",
      "  Downloading tensorflow_gpu-2.9.1-cp310-cp310-win_amd64.whl (444.1 MB)\n",
      "     -------------------------------------- 444.1/444.1 MB 3.7 MB/s eta 0:00:00\n",
      "Collecting opencv-python\n",
      "  Downloading opencv_python-4.6.0.66-cp36-abi3-win_amd64.whl (35.6 MB)\n",
      "     ---------------------------------------- 35.6/35.6 MB 4.7 MB/s eta 0:00:00\n",
      "Collecting mediapipe\n",
      "  Downloading mediapipe-0.8.10.1-cp310-cp310-win_amd64.whl (48.7 MB)\n",
      "     ---------------------------------------- 48.7/48.7 MB 4.7 MB/s eta 0:00:00\n",
      "Collecting sklearn\n",
      "  Downloading sklearn-0.0.tar.gz (1.1 kB)\n",
      "  Preparing metadata (setup.py): started\n",
      "  Preparing metadata (setup.py): finished with status 'done'\n",
      "Collecting matplotlib\n",
      "  Downloading matplotlib-3.5.2-cp310-cp310-win_amd64.whl (7.2 MB)\n",
      "     ---------------------------------------- 7.2/7.2 MB 4.8 MB/s eta 0:00:00\n",
      "Collecting opt-einsum>=2.3.2\n",
      "  Downloading opt_einsum-3.3.0-py3-none-any.whl (65 kB)\n",
      "     ---------------------------------------- 65.5/65.5 kB 3.5 MB/s eta 0:00:00\n",
      "Collecting tensorflow-io-gcs-filesystem>=0.23.1\n",
      "  Downloading tensorflow_io_gcs_filesystem-0.26.0-cp310-cp310-win_amd64.whl (1.5 MB)\n",
      "     ---------------------------------------- 1.5/1.5 MB 4.9 MB/s eta 0:00:00\n",
      "Collecting termcolor>=1.1.0\n",
      "  Downloading termcolor-1.1.0.tar.gz (3.9 kB)\n",
      "  Preparing metadata (setup.py): started\n",
      "  Preparing metadata (setup.py): finished with status 'done'\n",
      "Collecting numpy>=1.20\n",
      "  Downloading numpy-1.23.1-cp310-cp310-win_amd64.whl (14.6 MB)\n",
      "     ---------------------------------------- 14.6/14.6 MB 4.8 MB/s eta 0:00:00\n",
      "Requirement already satisfied: packaging in c:\\users\\ege\\appdata\\local\\programs\\python\\python310\\lib\\site-packages (from tensorflow) (21.3)\n",
      "Collecting wrapt>=1.11.0\n",
      "  Downloading wrapt-1.14.1-cp310-cp310-win_amd64.whl (35 kB)\n",
      "Collecting libclang>=13.0.0\n",
      "  Downloading libclang-14.0.1-py2.py3-none-win_amd64.whl (14.2 MB)\n",
      "     ---------------------------------------- 14.2/14.2 MB 4.7 MB/s eta 0:00:00\n",
      "Collecting absl-py>=1.0.0\n",
      "  Downloading absl_py-1.2.0-py3-none-any.whl (123 kB)\n",
      "     -------------------------------------- 123.4/123.4 kB 3.5 MB/s eta 0:00:00\n",
      "Collecting h5py>=2.9.0\n",
      "  Downloading h5py-3.7.0-cp310-cp310-win_amd64.whl (2.6 MB)\n",
      "     ---------------------------------------- 2.6/2.6 MB 4.8 MB/s eta 0:00:00\n",
      "Requirement already satisfied: setuptools in c:\\users\\ege\\appdata\\local\\programs\\python\\python310\\lib\\site-packages (from tensorflow) (58.1.0)\n",
      "Collecting keras<2.10.0,>=2.9.0rc0\n",
      "  Downloading keras-2.9.0-py2.py3-none-any.whl (1.6 MB)\n",
      "     ---------------------------------------- 1.6/1.6 MB 4.7 MB/s eta 0:00:00\n",
      "Collecting protobuf<3.20,>=3.9.2\n",
      "  Downloading protobuf-3.19.4-cp310-cp310-win_amd64.whl (895 kB)\n",
      "     -------------------------------------- 895.5/895.5 kB 4.7 MB/s eta 0:00:00\n",
      "Collecting gast<=0.4.0,>=0.2.1\n",
      "  Downloading gast-0.4.0-py3-none-any.whl (9.8 kB)\n",
      "Collecting typing-extensions>=3.6.6\n",
      "  Downloading typing_extensions-4.3.0-py3-none-any.whl (25 kB)\n",
      "Collecting tensorboard<2.10,>=2.9\n",
      "  Downloading tensorboard-2.9.1-py3-none-any.whl (5.8 MB)\n",
      "     ---------------------------------------- 5.8/5.8 MB 4.4 MB/s eta 0:00:00\n",
      "Collecting flatbuffers<2,>=1.12\n",
      "  Downloading flatbuffers-1.12-py2.py3-none-any.whl (15 kB)\n",
      "Collecting google-pasta>=0.1.1\n",
      "  Downloading google_pasta-0.2.0-py3-none-any.whl (57 kB)\n",
      "     ---------------------------------------- 57.5/57.5 kB 3.0 MB/s eta 0:00:00\n",
      "Collecting keras-preprocessing>=1.1.1\n",
      "  Downloading Keras_Preprocessing-1.1.2-py2.py3-none-any.whl (42 kB)\n",
      "     ---------------------------------------- 42.6/42.6 kB ? eta 0:00:00\n",
      "Requirement already satisfied: six>=1.12.0 in c:\\users\\ege\\appdata\\local\\programs\\python\\python310\\lib\\site-packages (from tensorflow) (1.16.0)\n",
      "Collecting grpcio<2.0,>=1.24.3\n",
      "  Downloading grpcio-1.47.0-cp310-cp310-win_amd64.whl (3.5 MB)\n",
      "     ---------------------------------------- 3.5/3.5 MB 4.8 MB/s eta 0:00:00\n",
      "Collecting astunparse>=1.6.0\n",
      "  Downloading astunparse-1.6.3-py2.py3-none-any.whl (12 kB)\n",
      "Collecting tensorflow-estimator<2.10.0,>=2.9.0rc0\n",
      "  Downloading tensorflow_estimator-2.9.0-py2.py3-none-any.whl (438 kB)\n",
      "     -------------------------------------- 438.7/438.7 kB 4.6 MB/s eta 0:00:00\n",
      "Requirement already satisfied: attrs>=19.1.0 in c:\\users\\ege\\appdata\\local\\programs\\python\\python310\\lib\\site-packages (from mediapipe) (21.4.0)\n",
      "Collecting opencv-contrib-python\n",
      "  Downloading opencv_contrib_python-4.6.0.66-cp36-abi3-win_amd64.whl (42.5 MB)\n",
      "     ---------------------------------------- 42.5/42.5 MB 4.7 MB/s eta 0:00:00\n",
      "Collecting scikit-learn\n",
      "  Downloading scikit_learn-1.1.1-cp310-cp310-win_amd64.whl (7.3 MB)\n",
      "     ---------------------------------------- 7.3/7.3 MB 4.8 MB/s eta 0:00:00\n",
      "Collecting pillow>=6.2.0\n",
      "  Downloading Pillow-9.2.0-cp310-cp310-win_amd64.whl (3.3 MB)\n",
      "     ---------------------------------------- 3.3/3.3 MB 4.8 MB/s eta 0:00:00\n",
      "Collecting kiwisolver>=1.0.1\n",
      "  Downloading kiwisolver-1.4.4-cp310-cp310-win_amd64.whl (55 kB)\n",
      "     ---------------------------------------- 55.3/55.3 kB 2.8 MB/s eta 0:00:00\n",
      "Collecting cycler>=0.10\n",
      "  Downloading cycler-0.11.0-py3-none-any.whl (6.4 kB)\n",
      "Collecting fonttools>=4.22.0\n",
      "  Downloading fonttools-4.34.4-py3-none-any.whl (944 kB)\n",
      "     -------------------------------------- 944.1/944.1 kB 5.0 MB/s eta 0:00:00\n",
      "Requirement already satisfied: pyparsing>=2.2.1 in c:\\users\\ege\\appdata\\local\\programs\\python\\python310\\lib\\site-packages (from matplotlib) (3.0.9)\n",
      "Requirement already satisfied: python-dateutil>=2.7 in c:\\users\\ege\\appdata\\local\\programs\\python\\python310\\lib\\site-packages (from matplotlib) (2.8.2)\n",
      "Collecting wheel<1.0,>=0.23.0\n",
      "  Downloading wheel-0.37.1-py2.py3-none-any.whl (35 kB)\n",
      "Collecting tensorboard-data-server<0.7.0,>=0.6.0\n",
      "  Downloading tensorboard_data_server-0.6.1-py3-none-any.whl (2.4 kB)\n",
      "Collecting markdown>=2.6.8\n",
      "  Downloading Markdown-3.4.1-py3-none-any.whl (93 kB)\n",
      "     ---------------------------------------- 93.3/93.3 kB 5.2 MB/s eta 0:00:00\n",
      "Collecting werkzeug>=1.0.1\n",
      "  Downloading Werkzeug-2.2.0-py3-none-any.whl (232 kB)\n",
      "     -------------------------------------- 232.2/232.2 kB 4.7 MB/s eta 0:00:00\n",
      "Collecting tensorboard-plugin-wit>=1.6.0\n",
      "  Downloading tensorboard_plugin_wit-1.8.1-py3-none-any.whl (781 kB)\n",
      "     -------------------------------------- 781.3/781.3 kB 4.5 MB/s eta 0:00:00\n",
      "Collecting google-auth-oauthlib<0.5,>=0.4.1\n",
      "  Downloading google_auth_oauthlib-0.4.6-py2.py3-none-any.whl (18 kB)\n",
      "Collecting google-auth<3,>=1.6.3\n",
      "  Downloading google_auth-2.9.1-py2.py3-none-any.whl (167 kB)\n",
      "     -------------------------------------- 167.8/167.8 kB 5.1 MB/s eta 0:00:00\n",
      "Collecting requests<3,>=2.21.0\n",
      "  Downloading requests-2.28.1-py3-none-any.whl (62 kB)\n",
      "     ---------------------------------------- 62.8/62.8 kB 3.3 MB/s eta 0:00:00\n",
      "Collecting scipy>=1.3.2\n",
      "  Downloading scipy-1.8.1-cp310-cp310-win_amd64.whl (36.9 MB)\n",
      "     ---------------------------------------- 36.9/36.9 MB 4.6 MB/s eta 0:00:00\n",
      "Collecting threadpoolctl>=2.0.0\n",
      "  Downloading threadpoolctl-3.1.0-py3-none-any.whl (14 kB)\n",
      "Collecting joblib>=1.0.0\n",
      "  Downloading joblib-1.1.0-py2.py3-none-any.whl (306 kB)\n",
      "     -------------------------------------- 307.0/307.0 kB 4.8 MB/s eta 0:00:00\n",
      "Collecting cachetools<6.0,>=2.0.0\n",
      "  Downloading cachetools-5.2.0-py3-none-any.whl (9.3 kB)\n",
      "Collecting pyasn1-modules>=0.2.1\n",
      "  Downloading pyasn1_modules-0.2.8-py2.py3-none-any.whl (155 kB)\n",
      "     -------------------------------------- 155.3/155.3 kB 4.5 MB/s eta 0:00:00\n",
      "Collecting rsa<5,>=3.1.4\n",
      "  Downloading rsa-4.9-py3-none-any.whl (34 kB)\n",
      "Collecting requests-oauthlib>=0.7.0\n",
      "  Downloading requests_oauthlib-1.3.1-py2.py3-none-any.whl (23 kB)\n",
      "Collecting certifi>=2017.4.17\n",
      "  Downloading certifi-2022.6.15-py3-none-any.whl (160 kB)\n",
      "     -------------------------------------- 160.2/160.2 kB 4.8 MB/s eta 0:00:00\n",
      "Collecting charset-normalizer<3,>=2\n",
      "  Downloading charset_normalizer-2.1.0-py3-none-any.whl (39 kB)\n",
      "Collecting idna<4,>=2.5\n",
      "  Downloading idna-3.3-py3-none-any.whl (61 kB)\n",
      "     ---------------------------------------- 61.2/61.2 kB ? eta 0:00:00\n",
      "Collecting urllib3<1.27,>=1.21.1\n",
      "  Downloading urllib3-1.26.10-py2.py3-none-any.whl (139 kB)\n",
      "     -------------------------------------- 139.2/139.2 kB 8.1 MB/s eta 0:00:00\n",
      "Requirement already satisfied: MarkupSafe>=2.1.1 in c:\\users\\ege\\appdata\\local\\programs\\python\\python310\\lib\\site-packages (from werkzeug>=1.0.1->tensorboard<2.10,>=2.9->tensorflow) (2.1.1)\n",
      "Collecting pyasn1<0.5.0,>=0.4.6\n",
      "  Downloading pyasn1-0.4.8-py2.py3-none-any.whl (77 kB)\n",
      "     ---------------------------------------- 77.1/77.1 kB 4.5 MB/s eta 0:00:00\n",
      "Collecting oauthlib>=3.0.0\n",
      "  Downloading oauthlib-3.2.0-py3-none-any.whl (151 kB)\n",
      "     -------------------------------------- 151.5/151.5 kB 4.6 MB/s eta 0:00:00\n",
      "Using legacy 'setup.py install' for sklearn, since package 'wheel' is not installed.\n",
      "Using legacy 'setup.py install' for termcolor, since package 'wheel' is not installed.\n",
      "Installing collected packages: termcolor, tensorboard-plugin-wit, pyasn1, libclang, keras, flatbuffers, wrapt, wheel, werkzeug, urllib3, typing-extensions, threadpoolctl, tensorflow-io-gcs-filesystem, tensorflow-estimator, tensorboard-data-server, rsa, pyasn1-modules, protobuf, pillow, oauthlib, numpy, markdown, kiwisolver, joblib, idna, grpcio, google-pasta, gast, fonttools, cycler, charset-normalizer, certifi, cachetools, absl-py, scipy, requests, opt-einsum, opencv-python, opencv-contrib-python, matplotlib, keras-preprocessing, h5py, google-auth, astunparse, scikit-learn, requests-oauthlib, mediapipe, sklearn, google-auth-oauthlib, tensorboard, tensorflow-gpu, tensorflow\n",
      "  Running setup.py install for termcolor: started\n",
      "  Running setup.py install for termcolor: finished with status 'done'\n",
      "  Running setup.py install for sklearn: started\n",
      "  Running setup.py install for sklearn: finished with status 'done'\n",
      "Successfully installed absl-py-1.2.0 astunparse-1.6.3 cachetools-5.2.0 certifi-2022.6.15 charset-normalizer-2.1.0 cycler-0.11.0 flatbuffers-1.12 fonttools-4.34.4 gast-0.4.0 google-auth-2.9.1 google-auth-oauthlib-0.4.6 google-pasta-0.2.0 grpcio-1.47.0 h5py-3.7.0 idna-3.3 joblib-1.1.0 keras-2.9.0 keras-preprocessing-1.1.2 kiwisolver-1.4.4 libclang-14.0.1 markdown-3.4.1 matplotlib-3.5.2 mediapipe-0.8.10.1 numpy-1.23.1 oauthlib-3.2.0 opencv-contrib-python-4.6.0.66 opencv-python-4.6.0.66 opt-einsum-3.3.0 pillow-9.2.0 protobuf-3.19.4 pyasn1-0.4.8 pyasn1-modules-0.2.8 requests-2.28.1 requests-oauthlib-1.3.1 rsa-4.9 scikit-learn-1.1.1 scipy-1.8.1 sklearn-0.0 tensorboard-2.9.1 tensorboard-data-server-0.6.1 tensorboard-plugin-wit-1.8.1 tensorflow-2.9.1 tensorflow-estimator-2.9.0 tensorflow-gpu-2.9.1 tensorflow-io-gcs-filesystem-0.26.0 termcolor-1.1.0 threadpoolctl-3.1.0 typing-extensions-4.3.0 urllib3-1.26.10 werkzeug-2.2.0 wheel-0.37.1 wrapt-1.14.1\n"
     ]
    }
   ],
   "source": [
    "!pip install tensorflow tensorflow-gpu opencv-python mediapipe sklearn matplotlib"
   ]
  },
  {
   "cell_type": "code",
   "execution_count": 3,
   "metadata": {},
   "outputs": [],
   "source": [
    "import cv2\n",
    "import numpy as np\n",
    "import os\n",
    "from matplotlib import pyplot as plt\n",
    "import time\n",
    "import mediapipe as mp"
   ]
  },
  {
   "cell_type": "markdown",
   "metadata": {},
   "source": [
    "# 2. Keypoints using MP Holistic"
   ]
  },
  {
   "cell_type": "code",
   "execution_count": 4,
   "metadata": {},
   "outputs": [],
   "source": [
    "mp_holistic = mp.solutions.holistic # Holistic model\n",
    "mp_drawing = mp.solutions.drawing_utils # Drawing utilities"
   ]
  },
  {
   "cell_type": "code",
   "execution_count": 5,
   "metadata": {},
   "outputs": [],
   "source": [
    "def mediapipe_detection(image, model):\n",
    "    image = cv2.cvtColor(image, cv2.COLOR_BGR2RGB) # COLOR CONVERSION BGR 2 RGB\n",
    "    image.flags.writeable = False                  # Image is no longer writeable\n",
    "    results = model.process(image)                 # Make prediction\n",
    "    image.flags.writeable = True                   # Image is now writeable \n",
    "    image = cv2.cvtColor(image, cv2.COLOR_RGB2BGR) # COLOR COVERSION RGB 2 BGR\n",
    "    return image, results"
   ]
  },
  {
   "cell_type": "code",
   "execution_count": 6,
   "metadata": {},
   "outputs": [],
   "source": [
    "def draw_landmarks(image, results):\n",
    "    # Draw face connections\n",
    "    mp_drawing.draw_landmarks(image, results.face_landmarks, mp_holistic.FACEMESH_TESSELATION, \n",
    "                             mp_drawing.DrawingSpec(color=(80,110,10), thickness=1, circle_radius=1), \n",
    "                             mp_drawing.DrawingSpec(color=(80,256,121), thickness=1, circle_radius=1)\n",
    "                             ) \n",
    "    # Draw pose connections\n",
    "    mp_drawing.draw_landmarks(image, results.pose_landmarks, mp_holistic.POSE_CONNECTIONS,\n",
    "                             mp_drawing.DrawingSpec(color=(80,22,10), thickness=2, circle_radius=4), \n",
    "                             mp_drawing.DrawingSpec(color=(80,44,121), thickness=2, circle_radius=2)\n",
    "                             ) \n",
    "    # Draw left hand connections\n",
    "    mp_drawing.draw_landmarks(image, results.left_hand_landmarks, mp_holistic.HAND_CONNECTIONS, \n",
    "                             mp_drawing.DrawingSpec(color=(121,22,76), thickness=2, circle_radius=4), \n",
    "                             mp_drawing.DrawingSpec(color=(121,44,250), thickness=2, circle_radius=2)\n",
    "                             ) \n",
    "    # Draw right hand connections  \n",
    "    mp_drawing.draw_landmarks(image, results.right_hand_landmarks, mp_holistic.HAND_CONNECTIONS, \n",
    "                             mp_drawing.DrawingSpec(color=(245,117,66), thickness=2, circle_radius=4), \n",
    "                             mp_drawing.DrawingSpec(color=(245,66,230), thickness=2, circle_radius=2)\n",
    "                             ) "
   ]
  },
  {
   "cell_type": "code",
   "execution_count": 7,
   "metadata": {},
   "outputs": [],
   "source": [
    "cap = cv2.VideoCapture(0)\n",
    "# Set mediapipe model \n",
    "with mp_holistic.Holistic(min_detection_confidence=0.5, min_tracking_confidence=0.5) as holistic:\n",
    "    while cap.isOpened():\n",
    "\n",
    "        # Read feed\n",
    "        ret, frame = cap.read()\n",
    "\n",
    "        # Make detections\n",
    "        image, results = mediapipe_detection(frame, holistic)\n",
    "        \n",
    "        # Draw landmarks\n",
    "        draw_landmarks(image, results)\n",
    "\n",
    "        # Show to screen\n",
    "        cv2.imshow('OpenCV Feed', image)\n",
    "\n",
    "        # Break gracefully\n",
    "        if cv2.waitKey(10) & 0xFF == ord('q'):\n",
    "            break\n",
    "    cap.release()\n",
    "    cv2.destroyAllWindows()"
   ]
  },
  {
   "cell_type": "code",
   "execution_count": 8,
   "metadata": {},
   "outputs": [],
   "source": [
    "draw_landmarks(frame, results)"
   ]
  },
  {
   "cell_type": "code",
   "execution_count": 9,
   "metadata": {},
   "outputs": [
    {
     "data": {
      "text/plain": [
       "<matplotlib.image.AxesImage at 0x2a4f29e0>"
      ]
     },
     "execution_count": 9,
     "metadata": {},
     "output_type": "execute_result"
    },
    {
     "data": {
      "image/png": "[encoded data removed]",
      "text/plain": [
       "<Figure size 432x288 with 1 Axes>"
      ]
     },
     "metadata": {
      "needs_background": "light"
     },
     "output_type": "display_data"
    }
   ],
   "source": [
    "plt.imshow(cv2.cvtColor(frame, cv2.COLOR_BGR2RGB))"
   ]
  },
  {
   "cell_type": "markdown",
   "metadata": {},
   "source": [
    "# 3. Extract Keypoint Values"
   ]
  },
  {
   "cell_type": "code",
   "execution_count": 10,
   "metadata": {
    "scrolled": true
   },
   "outputs": [
    {
     "data": {
      "text/plain": [
       "21"
      ]
     },
     "execution_count": 10,
     "metadata": {},
     "output_type": "execute_result"
    }
   ],
   "source": [
    "len(results.left_hand_landmarks.landmark)"
   ]
  },
  {
   "cell_type": "code",
   "execution_count": 11,
   "metadata": {},
   "outputs": [],
   "source": [
    "pose = np.array([[res.x, res.y, res.z, res.visibility] for res in results.pose_landmarks.landmark]).flatten() if results.pose_landmarks else np.zeros(33*4)\n",
    "face = np.array([[res.x, res.y, res.z] for res in results.face_landmarks.landmark]).flatten() if results.face_landmarks else np.zeros(468*3)\n",
    "lh = np.array([[res.x, res.y, res.z] for res in results.left_hand_landmarks.landmark]).flatten() if results.left_hand_landmarks else np.zeros(21*3)\n",
    "rh = np.array([[res.x, res.y, res.z] for res in results.right_hand_landmarks.landmark]).flatten() if results.right_hand_landmarks else np.zeros(21*3)"
   ]
  },
  {
   "cell_type": "code",
   "execution_count": 12,
   "metadata": {},
   "outputs": [],
   "source": [
    "def extract_keypoints(results):\n",
    "    pose = np.array([[res.x, res.y, res.z, res.visibility] for res in results.pose_landmarks.landmark]).flatten() if results.pose_landmarks else np.zeros(33*4)\n",
    "    face = np.array([[res.x, res.y, res.z] for res in results.face_landmarks.landmark]).flatten() if results.face_landmarks else np.zeros(468*3)\n",
    "    lh = np.array([[res.x, res.y, res.z] for res in results.left_hand_landmarks.landmark]).flatten() if results.left_hand_landmarks else np.zeros(21*3)\n",
    "    rh = np.array([[res.x, res.y, res.z] for res in results.right_hand_landmarks.landmark]).flatten() if results.right_hand_landmarks else np.zeros(21*3)\n",
    "    return np.concatenate([pose, face, lh, rh])"
   ]
  },
  {
   "cell_type": "markdown",
   "metadata": {},
   "source": [
    "# 4. Setup Folders for Collection"
   ]
  },
  {
   "cell_type": "code",
   "execution_count": 13,
   "metadata": {},
   "outputs": [],
   "source": [
    "# Path for exported data, numpy arrays\n",
    "DATA_PATH = os.path.join('MP_Data') \n",
    "\n",
    "# Signs that we try to detect\n",
    "actions = np.array(['hello', 'thanks', 'iloveyou'])\n",
    "\n",
    "# Thirty videos worth of data\n",
    "no_sequences = 30\n",
    "\n",
    "# Videos are going to be 30 frames in length\n",
    "sequence_length = 30\n",
    "\n",
    "# Folder start\n",
    "start_folder = 30"
   ]
  },
  {
   "cell_type": "code",
   "execution_count": 14,
   "metadata": {},
   "outputs": [],
   "source": [
    "for action in actions: \n",
    "    for sequence in range(no_sequences):\n",
    "        try: \n",
    "            os.makedirs(os.path.join(DATA_PATH, action, str(sequence)))\n",
    "        except:\n",
    "            pass"
   ]
  },
  {
   "cell_type": "markdown",
   "metadata": {},
   "source": [
    "# 5. Collect Keypoint Values for Training and Testing"
   ]
  },
  {
   "cell_type": "code",
   "execution_count": 16,
   "metadata": {},
   "outputs": [],
   "source": [
    "cap = cv2.VideoCapture(0)\n",
    "# Set mediapipe model \n",
    "with mp_holistic.Holistic(min_detection_confidence=0.5, min_tracking_confidence=0.5) as holistic:\n",
    "    \n",
    "    # NEW LOOP\n",
    "    # Loop through actions\n",
    "    for action in actions:\n",
    "        # Loop through sequences aka videos\n",
    "        for sequence in range(no_sequences):\n",
    "            # Loop through video length aka sequence length\n",
    "            for frame_num in range(sequence_length):\n",
    "\n",
    "                # Read feed\n",
    "                ret, frame = cap.read()\n",
    "\n",
    "                # Make detections\n",
    "                image, results = mediapipe_detection(frame, holistic)\n",
    "#                 print(results)\n",
    "\n",
    "                # Draw landmarks\n",
    "                draw_landmarks(image, results)\n",
    "                \n",
    "                # NEW Apply wait logic\n",
    "                if frame_num == 0: \n",
    "                    cv2.putText(image, 'STARTING COLLECTION', (120,200), \n",
    "                               cv2.FONT_HERSHEY_SIMPLEX, 1, (0,255, 0), 4, cv2.LINE_AA)\n",
    "                    cv2.putText(image, 'Collecting frames for {} Video Number {}'.format(action, sequence), (15,12), \n",
    "                               cv2.FONT_HERSHEY_SIMPLEX, 0.5, (0, 0, 255), 1, cv2.LINE_AA)\n",
    "                    # Show to screen\n",
    "                    cv2.imshow('OpenCV Feed', image)\n",
    "                    cv2.waitKey(2000)\n",
    "                else: \n",
    "                    cv2.putText(image, 'Collecting frames for {} Video Number {}'.format(action, sequence), (15,12), \n",
    "                               cv2.FONT_HERSHEY_SIMPLEX, 0.5, (0, 0, 255), 1, cv2.LINE_AA)\n",
    "                    # Show to screen\n",
    "                    cv2.imshow('OpenCV Feed', image)\n",
    "                \n",
    "                # NEW Export keypoints\n",
    "                keypoints = extract_keypoints(results)\n",
    "                npy_path = os.path.join(DATA_PATH, action, str(sequence), str(frame_num))\n",
    "                np.save(npy_path, keypoints)\n",
    "\n",
    "                # Break gracefully\n",
    "                if cv2.waitKey(10) & 0xFF == ord('q'):\n",
    "                    break\n",
    "                    \n",
    "    cap.release()\n",
    "    cv2.destroyAllWindows()"
   ]
  },
  {
   "cell_type": "code",
   "execution_count": 5,
   "metadata": {
    "collapsed": true
   },
   "outputs": [
    {
     "ename": "NameError",
     "evalue": "name 'cap' is not defined",
     "output_type": "error",
     "traceback": [
      "\u001b[1;31m---------------------------------------------------------------------------\u001b[0m",
      "\u001b[1;31mNameError\u001b[0m                                 Traceback (most recent call last)",
      "Input \u001b[1;32mIn [5]\u001b[0m, in \u001b[0;36m<cell line: 1>\u001b[1;34m()\u001b[0m\n\u001b[1;32m----> 1\u001b[0m \u001b[43mcap\u001b[49m\u001b[38;5;241m.\u001b[39mrelease()\n\u001b[0;32m      2\u001b[0m cv2\u001b[38;5;241m.\u001b[39mdestroyAllWindows()\n",
      "\u001b[1;31mNameError\u001b[0m: name 'cap' is not defined"
     ]
    }
   ],
   "source": [
    "# Run this when data collection is done\n",
    "cap.release()\n",
    "cv2.destroyAllWindows()"
   ]
  },
  {
   "cell_type": "markdown",
   "metadata": {},
   "source": [
    "# 6. Preprocess Data and Create Labels and Features"
   ]
  },
  {
   "cell_type": "code",
   "execution_count": 17,
   "metadata": {},
   "outputs": [],
   "source": [
    "from sklearn.model_selection import train_test_split\n",
    "from tensorflow.keras.utils import to_categorical"
   ]
  },
  {
   "cell_type": "code",
   "execution_count": 18,
   "metadata": {},
   "outputs": [],
   "source": [
    "label_map = {label:num for num, label in enumerate(actions)}"
   ]
  },
  {
   "cell_type": "code",
   "execution_count": 19,
   "metadata": {},
   "outputs": [
    {
     "data": {
      "text/plain": [
       "{'hello': 0, 'thanks': 1, 'iloveyou': 2}"
      ]
     },
     "execution_count": 19,
     "metadata": {},
     "output_type": "execute_result"
    }
   ],
   "source": [
    "label_map"
   ]
  },
  {
   "cell_type": "code",
   "execution_count": 20,
   "metadata": {},
   "outputs": [],
   "source": [
    "sequences, labels = [], []\n",
    "for action in actions:\n",
    "    for sequence in np.array(os.listdir(os.path.join(DATA_PATH, action))).astype(int):\n",
    "        window = []\n",
    "        for frame_num in range(sequence_length):\n",
    "            res = np.load(os.path.join(DATA_PATH, action, str(sequence), \"{}.npy\".format(frame_num)))\n",
    "            window.append(res)\n",
    "        sequences.append(window)\n",
    "        labels.append(label_map[action])"
   ]
  },
  {
   "cell_type": "code",
   "execution_count": 21,
   "metadata": {},
   "outputs": [
    {
     "data": {
      "text/plain": [
       "(90, 30, 1662)"
      ]
     },
     "execution_count": 21,
     "metadata": {},
     "output_type": "execute_result"
    }
   ],
   "source": [
    "np.array(sequences).shape"
   ]
  },
  {
   "cell_type": "code",
   "execution_count": 22,
   "metadata": {},
   "outputs": [
    {
     "data": {
      "text/plain": [
       "(90,)"
      ]
     },
     "execution_count": 22,
     "metadata": {},
     "output_type": "execute_result"
    }
   ],
   "source": [
    "np.array(labels).shape"
   ]
  },
  {
   "cell_type": "code",
   "execution_count": 23,
   "metadata": {},
   "outputs": [],
   "source": [
    "X = np.array(sequences)"
   ]
  },
  {
   "cell_type": "code",
   "execution_count": 24,
   "metadata": {},
   "outputs": [
    {
     "data": {
      "text/plain": [
       "(90, 30, 1662)"
      ]
     },
     "execution_count": 24,
     "metadata": {},
     "output_type": "execute_result"
    }
   ],
   "source": [
    "X.shape"
   ]
  },
  {
   "cell_type": "code",
   "execution_count": 25,
   "metadata": {},
   "outputs": [],
   "source": [
    "y = to_categorical(labels).astype(int)"
   ]
  },
  {
   "cell_type": "code",
   "execution_count": 26,
   "metadata": {},
   "outputs": [],
   "source": [
    "X_train, X_test, y_train, y_test = train_test_split(X, y, test_size=0.05)"
   ]
  },
  {
   "cell_type": "code",
   "execution_count": 27,
   "metadata": {},
   "outputs": [
    {
     "data": {
      "text/plain": [
       "(5, 3)"
      ]
     },
     "execution_count": 27,
     "metadata": {},
     "output_type": "execute_result"
    }
   ],
   "source": [
    "y_test.shape"
   ]
  },
  {
   "cell_type": "markdown",
   "metadata": {},
   "source": [
    "# 7. Build and Train LSTM Neural Network"
   ]
  },
  {
   "cell_type": "code",
   "execution_count": 28,
   "metadata": {},
   "outputs": [],
   "source": [
    "from tensorflow.keras.models import Sequential\n",
    "from tensorflow.keras.layers import LSTM, Dense\n",
    "from tensorflow.keras.callbacks import TensorBoard"
   ]
  },
  {
   "cell_type": "code",
   "execution_count": 29,
   "metadata": {},
   "outputs": [],
   "source": [
    "log_dir = os.path.join('Logs')\n",
    "tb_callback = TensorBoard(log_dir=log_dir)"
   ]
  },
  {
   "cell_type": "code",
   "execution_count": 30,
   "metadata": {},
   "outputs": [],
   "source": [
    "model = Sequential()\n",
    "model.add(LSTM(64, return_sequences=True, activation='relu', input_shape=(30,1662)))\n",
    "model.add(LSTM(128, return_sequences=True, activation='relu'))\n",
    "model.add(LSTM(64, return_sequences=False, activation='relu'))\n",
    "model.add(Dense(64, activation='relu'))\n",
    "model.add(Dense(32, activation='relu'))\n",
    "model.add(Dense(actions.shape[0], activation='softmax'))"
   ]
  },
  {
   "cell_type": "code",
   "execution_count": 31,
   "metadata": {},
   "outputs": [],
   "source": [
    "model.compile(optimizer='Adam', loss='categorical_crossentropy', metrics=['categorical_accuracy'])"
   ]
  },
  {
   "cell_type": "code",
   "execution_count": 32,
   "metadata": {
    "collapsed": true
   },
   "outputs": [
    {
     "name": "stdout",
     "output_type": "stream",
     "text": [
      "Epoch 1/2000\n",
      "3/3 [==============================] - 2s 50ms/step - loss: 1.3563 - categorical_accuracy: 0.3176\n",
      "Epoch 2/2000\n",
      "3/3 [==============================] - 0s 48ms/step - loss: 2.9189 - categorical_accuracy: 0.3294\n",
      "Epoch 3/2000\n",
      "3/3 [==============================] - 0s 48ms/step - loss: 1.5354 - categorical_accuracy: 0.5412\n",
      "Epoch 4/2000\n",
      "3/3 [==============================] - 0s 47ms/step - loss: 1.8733 - categorical_accuracy: 0.3294\n",
      "Epoch 5/2000\n",
      "3/3 [==============================] - 0s 48ms/step - loss: 1.0936 - categorical_accuracy: 0.3529\n",
      "Epoch 6/2000\n",
      "3/3 [==============================] - 0s 49ms/step - loss: 0.9749 - categorical_accuracy: 0.4588\n",
      "Epoch 7/2000\n",
      "3/3 [==============================] - 0s 49ms/step - loss: 0.8455 - categorical_accuracy: 0.6000\n",
      "Epoch 8/2000\n",
      "3/3 [==============================] - 0s 48ms/step - loss: 0.7202 - categorical_accuracy: 0.6118\n",
      "Epoch 9/2000\n",
      "3/3 [==============================] - 0s 49ms/step - loss: 0.7315 - categorical_accuracy: 0.6235\n",
      "Epoch 10/2000\n",
      "3/3 [==============================] - 0s 55ms/step - loss: 1.0297 - categorical_accuracy: 0.4941\n",
      "Epoch 11/2000\n",
      "3/3 [==============================] - 0s 55ms/step - loss: 0.9234 - categorical_accuracy: 0.4824\n",
      "Epoch 12/2000\n",
      "3/3 [==============================] - 0s 48ms/step - loss: 0.6757 - categorical_accuracy: 0.7176\n",
      "Epoch 13/2000\n",
      "3/3 [==============================] - 0s 49ms/step - loss: 0.6782 - categorical_accuracy: 0.6824\n",
      "Epoch 14/2000\n",
      "3/3 [==============================] - 0s 54ms/step - loss: 0.7459 - categorical_accuracy: 0.6471\n",
      "Epoch 15/2000\n",
      "3/3 [==============================] - 0s 50ms/step - loss: 0.5859 - categorical_accuracy: 0.6588\n",
      "Epoch 16/2000\n",
      "3/3 [==============================] - 0s 48ms/step - loss: 0.6518 - categorical_accuracy: 0.6706\n",
      "Epoch 17/2000\n",
      "3/3 [==============================] - 0s 49ms/step - loss: 0.5670 - categorical_accuracy: 0.7647\n",
      "Epoch 18/2000\n",
      "3/3 [==============================] - 0s 51ms/step - loss: 0.5102 - categorical_accuracy: 0.7882\n",
      "Epoch 19/2000\n",
      "3/3 [==============================] - 0s 52ms/step - loss: 0.4387 - categorical_accuracy: 0.8353\n",
      "Epoch 20/2000\n",
      "3/3 [==============================] - 0s 49ms/step - loss: 0.3573 - categorical_accuracy: 0.8588\n",
      "Epoch 21/2000\n",
      "3/3 [==============================] - 0s 55ms/step - loss: 0.3708 - categorical_accuracy: 0.8588\n",
      "Epoch 22/2000\n",
      "3/3 [==============================] - 0s 53ms/step - loss: 0.5144 - categorical_accuracy: 0.7412\n",
      "Epoch 23/2000\n",
      "3/3 [==============================] - 0s 53ms/step - loss: 1.9326 - categorical_accuracy: 0.4353\n",
      "Epoch 24/2000\n",
      "3/3 [==============================] - 0s 55ms/step - loss: 0.8040 - categorical_accuracy: 0.5765\n",
      "Epoch 25/2000\n",
      "3/3 [==============================] - 0s 57ms/step - loss: 0.7308 - categorical_accuracy: 0.6353\n",
      "Epoch 26/2000\n",
      "3/3 [==============================] - 0s 55ms/step - loss: 0.6194 - categorical_accuracy: 0.5882\n",
      "Epoch 27/2000\n",
      "3/3 [==============================] - 0s 50ms/step - loss: 0.5732 - categorical_accuracy: 0.6353\n",
      "Epoch 28/2000\n",
      "3/3 [==============================] - 0s 49ms/step - loss: 0.4770 - categorical_accuracy: 0.6941\n",
      "Epoch 29/2000\n",
      "3/3 [==============================] - 0s 53ms/step - loss: 0.4813 - categorical_accuracy: 0.7412\n",
      "Epoch 30/2000\n",
      "3/3 [==============================] - 0s 48ms/step - loss: 0.4881 - categorical_accuracy: 0.7176\n",
      "Epoch 31/2000\n",
      "3/3 [==============================] - 0s 50ms/step - loss: 0.4013 - categorical_accuracy: 0.7765\n",
      "Epoch 32/2000\n",
      "3/3 [==============================] - 0s 50ms/step - loss: 0.3773 - categorical_accuracy: 0.8235\n",
      "Epoch 33/2000\n",
      "3/3 [==============================] - 0s 50ms/step - loss: 0.5780 - categorical_accuracy: 0.7059\n",
      "Epoch 34/2000\n",
      "3/3 [==============================] - 0s 49ms/step - loss: 0.4423 - categorical_accuracy: 0.8000\n",
      "Epoch 35/2000\n",
      "3/3 [==============================] - 0s 50ms/step - loss: 0.4520 - categorical_accuracy: 0.8000\n",
      "Epoch 36/2000\n",
      "3/3 [==============================] - 0s 51ms/step - loss: 0.4855 - categorical_accuracy: 0.7412\n",
      "Epoch 37/2000\n",
      "3/3 [==============================] - 0s 53ms/step - loss: 0.4099 - categorical_accuracy: 0.8706\n",
      "Epoch 38/2000\n",
      "3/3 [==============================] - 0s 53ms/step - loss: 0.5151 - categorical_accuracy: 0.8000\n",
      "Epoch 39/2000\n",
      "3/3 [==============================] - 0s 53ms/step - loss: 0.5220 - categorical_accuracy: 0.7176\n",
      "Epoch 40/2000\n",
      "3/3 [==============================] - 0s 49ms/step - loss: 0.4963 - categorical_accuracy: 0.6471\n",
      "Epoch 41/2000\n",
      "3/3 [==============================] - 0s 48ms/step - loss: 0.4893 - categorical_accuracy: 0.7176\n",
      "Epoch 42/2000\n",
      "3/3 [==============================] - 0s 50ms/step - loss: 0.3630 - categorical_accuracy: 0.8588\n",
      "Epoch 43/2000\n",
      "3/3 [==============================] - 0s 49ms/step - loss: 0.3658 - categorical_accuracy: 0.8588\n",
      "Epoch 44/2000\n",
      "3/3 [==============================] - 0s 50ms/step - loss: 0.3789 - categorical_accuracy: 0.8471\n",
      "Epoch 45/2000\n",
      "3/3 [==============================] - 0s 51ms/step - loss: 0.3637 - categorical_accuracy: 0.8118\n",
      "Epoch 46/2000\n",
      "3/3 [==============================] - 0s 49ms/step - loss: 0.3827 - categorical_accuracy: 0.8471\n",
      "Epoch 47/2000\n",
      "3/3 [==============================] - 0s 50ms/step - loss: 0.3296 - categorical_accuracy: 0.8471\n",
      "Epoch 48/2000\n",
      "3/3 [==============================] - 0s 49ms/step - loss: 0.3018 - categorical_accuracy: 0.8588\n",
      "Epoch 49/2000\n",
      "3/3 [==============================] - 0s 49ms/step - loss: 0.2891 - categorical_accuracy: 0.8588\n",
      "Epoch 50/2000\n",
      "3/3 [==============================] - 0s 51ms/step - loss: 0.2890 - categorical_accuracy: 0.8824\n",
      "Epoch 51/2000\n",
      "3/3 [==============================] - 0s 53ms/step - loss: 0.2903 - categorical_accuracy: 0.8824\n",
      "Epoch 52/2000\n",
      "3/3 [==============================] - 0s 54ms/step - loss: 0.2507 - categorical_accuracy: 0.8824\n",
      "Epoch 53/2000\n",
      "3/3 [==============================] - 0s 52ms/step - loss: 0.2573 - categorical_accuracy: 0.8706\n",
      "Epoch 54/2000\n",
      "3/3 [==============================] - 0s 52ms/step - loss: 0.2560 - categorical_accuracy: 0.9176\n",
      "Epoch 55/2000\n",
      "3/3 [==============================] - 0s 49ms/step - loss: 0.2407 - categorical_accuracy: 0.8941\n",
      "Epoch 56/2000\n",
      "3/3 [==============================] - 0s 50ms/step - loss: 0.2160 - categorical_accuracy: 0.9176\n",
      "Epoch 57/2000\n",
      "3/3 [==============================] - 0s 54ms/step - loss: 0.2427 - categorical_accuracy: 0.9059\n",
      "Epoch 58/2000\n",
      "3/3 [==============================] - 0s 51ms/step - loss: 0.4566 - categorical_accuracy: 0.8235\n",
      "Epoch 59/2000\n",
      "3/3 [==============================] - 0s 52ms/step - loss: 0.4528 - categorical_accuracy: 0.7529\n",
      "Epoch 60/2000\n",
      "3/3 [==============================] - 0s 55ms/step - loss: 0.3027 - categorical_accuracy: 0.8588\n",
      "Epoch 61/2000\n",
      "3/3 [==============================] - 0s 61ms/step - loss: 0.3293 - categorical_accuracy: 0.8353\n",
      "Epoch 62/2000\n",
      "3/3 [==============================] - 0s 58ms/step - loss: 0.3042 - categorical_accuracy: 0.9059\n",
      "Epoch 63/2000\n",
      "3/3 [==============================] - 0s 53ms/step - loss: 0.2279 - categorical_accuracy: 0.9294\n",
      "Epoch 64/2000\n",
      "3/3 [==============================] - 0s 52ms/step - loss: 0.2796 - categorical_accuracy: 0.8706\n",
      "Epoch 65/2000\n",
      "3/3 [==============================] - 0s 57ms/step - loss: 0.2403 - categorical_accuracy: 0.8824\n",
      "Epoch 66/2000\n",
      "3/3 [==============================] - 0s 58ms/step - loss: 0.2563 - categorical_accuracy: 0.8824\n",
      "Epoch 67/2000\n",
      "3/3 [==============================] - 0s 59ms/step - loss: 0.2698 - categorical_accuracy: 0.8824\n",
      "Epoch 68/2000\n",
      "3/3 [==============================] - 0s 51ms/step - loss: 0.1947 - categorical_accuracy: 0.8941\n",
      "Epoch 69/2000\n",
      "3/3 [==============================] - 0s 52ms/step - loss: 0.2115 - categorical_accuracy: 0.8941\n",
      "Epoch 70/2000\n",
      "3/3 [==============================] - 0s 54ms/step - loss: 0.1877 - categorical_accuracy: 0.8941\n",
      "Epoch 71/2000\n",
      "3/3 [==============================] - 0s 50ms/step - loss: 0.1738 - categorical_accuracy: 0.8941\n",
      "Epoch 72/2000\n",
      "3/3 [==============================] - 0s 49ms/step - loss: 0.1585 - categorical_accuracy: 0.9412\n",
      "Epoch 73/2000\n",
      "3/3 [==============================] - 0s 49ms/step - loss: 0.1397 - categorical_accuracy: 0.9412\n",
      "Epoch 74/2000\n"
     ]
    },
    {
     "name": "stdout",
     "output_type": "stream",
     "text": [
      "3/3 [==============================] - 0s 51ms/step - loss: 0.1205 - categorical_accuracy: 0.9529\n",
      "Epoch 75/2000\n",
      "3/3 [==============================] - 0s 51ms/step - loss: 0.1262 - categorical_accuracy: 0.9647\n",
      "Epoch 76/2000\n",
      "3/3 [==============================] - 0s 56ms/step - loss: 0.0879 - categorical_accuracy: 0.9647\n",
      "Epoch 77/2000\n",
      "3/3 [==============================] - 0s 50ms/step - loss: 0.1008 - categorical_accuracy: 0.9647\n",
      "Epoch 78/2000\n",
      "3/3 [==============================] - 0s 50ms/step - loss: 0.2719 - categorical_accuracy: 0.9412\n",
      "Epoch 79/2000\n",
      "3/3 [==============================] - 0s 57ms/step - loss: 0.9776 - categorical_accuracy: 0.6588\n",
      "Epoch 80/2000\n",
      "3/3 [==============================] - 0s 57ms/step - loss: 0.3723 - categorical_accuracy: 0.8000\n",
      "Epoch 81/2000\n",
      "3/3 [==============================] - 0s 52ms/step - loss: 0.3121 - categorical_accuracy: 0.8588\n",
      "Epoch 82/2000\n",
      "3/3 [==============================] - 0s 54ms/step - loss: 0.3870 - categorical_accuracy: 0.7882\n",
      "Epoch 83/2000\n",
      "3/3 [==============================] - 0s 50ms/step - loss: 0.4045 - categorical_accuracy: 0.7882\n",
      "Epoch 84/2000\n",
      "3/3 [==============================] - 0s 49ms/step - loss: 0.2659 - categorical_accuracy: 0.8824\n",
      "Epoch 85/2000\n",
      "3/3 [==============================] - 0s 51ms/step - loss: 0.2784 - categorical_accuracy: 0.8471\n",
      "Epoch 86/2000\n",
      "3/3 [==============================] - 0s 50ms/step - loss: 0.3169 - categorical_accuracy: 0.8471\n",
      "Epoch 87/2000\n",
      "3/3 [==============================] - 0s 51ms/step - loss: 0.3349 - categorical_accuracy: 0.8235\n",
      "Epoch 88/2000\n",
      "3/3 [==============================] - 0s 49ms/step - loss: 0.3243 - categorical_accuracy: 0.8824\n",
      "Epoch 89/2000\n",
      "3/3 [==============================] - 0s 49ms/step - loss: 0.2492 - categorical_accuracy: 0.8471\n",
      "Epoch 90/2000\n",
      "3/3 [==============================] - 0s 51ms/step - loss: 0.3965 - categorical_accuracy: 0.8118\n",
      "Epoch 91/2000\n",
      "3/3 [==============================] - 0s 48ms/step - loss: 0.4097 - categorical_accuracy: 0.8235\n",
      "Epoch 92/2000\n",
      "3/3 [==============================] - 0s 50ms/step - loss: 0.2827 - categorical_accuracy: 0.8588\n",
      "Epoch 93/2000\n",
      "3/3 [==============================] - 0s 50ms/step - loss: 0.2773 - categorical_accuracy: 0.8588\n",
      "Epoch 94/2000\n",
      "3/3 [==============================] - 0s 55ms/step - loss: 0.2938 - categorical_accuracy: 0.8118\n",
      "Epoch 95/2000\n",
      "3/3 [==============================] - 0s 50ms/step - loss: 0.2884 - categorical_accuracy: 0.8471\n",
      "Epoch 96/2000\n",
      "3/3 [==============================] - 0s 51ms/step - loss: 0.2648 - categorical_accuracy: 0.8706\n",
      "Epoch 97/2000\n",
      "3/3 [==============================] - 0s 53ms/step - loss: 0.2530 - categorical_accuracy: 0.8824\n",
      "Epoch 98/2000\n",
      "3/3 [==============================] - 0s 57ms/step - loss: 0.2136 - categorical_accuracy: 0.8824\n",
      "Epoch 99/2000\n",
      "3/3 [==============================] - 0s 53ms/step - loss: 0.1898 - categorical_accuracy: 0.9059\n",
      "Epoch 100/2000\n",
      "3/3 [==============================] - 0s 53ms/step - loss: 0.1627 - categorical_accuracy: 0.9176\n",
      "Epoch 101/2000\n",
      "3/3 [==============================] - 0s 58ms/step - loss: 0.1358 - categorical_accuracy: 0.9176\n",
      "Epoch 102/2000\n",
      "3/3 [==============================] - 0s 55ms/step - loss: 0.1201 - categorical_accuracy: 0.9765\n",
      "Epoch 103/2000\n",
      "3/3 [==============================] - 0s 58ms/step - loss: 0.1958 - categorical_accuracy: 0.9176\n",
      "Epoch 104/2000\n",
      "3/3 [==============================] - 0s 59ms/step - loss: 0.1959 - categorical_accuracy: 0.9059\n",
      "Epoch 105/2000\n",
      "3/3 [==============================] - 0s 57ms/step - loss: 0.1866 - categorical_accuracy: 0.9294\n",
      "Epoch 106/2000\n",
      "3/3 [==============================] - 0s 58ms/step - loss: 0.2804 - categorical_accuracy: 0.9176\n",
      "Epoch 107/2000\n",
      "3/3 [==============================] - 0s 58ms/step - loss: 0.5196 - categorical_accuracy: 0.6588\n",
      "Epoch 108/2000\n",
      "3/3 [==============================] - 0s 55ms/step - loss: 0.2385 - categorical_accuracy: 0.9294\n",
      "Epoch 109/2000\n",
      "3/3 [==============================] - 0s 53ms/step - loss: 0.2261 - categorical_accuracy: 0.8941\n",
      "Epoch 110/2000\n",
      "3/3 [==============================] - 0s 52ms/step - loss: 0.3043 - categorical_accuracy: 0.9176\n",
      "Epoch 111/2000\n",
      "3/3 [==============================] - 0s 51ms/step - loss: 0.2649 - categorical_accuracy: 0.8588\n",
      "Epoch 112/2000\n",
      "3/3 [==============================] - 0s 51ms/step - loss: 0.2054 - categorical_accuracy: 0.9294\n",
      "Epoch 113/2000\n",
      "3/3 [==============================] - 0s 52ms/step - loss: 0.2472 - categorical_accuracy: 0.8706\n",
      "Epoch 114/2000\n",
      "3/3 [==============================] - 0s 57ms/step - loss: 0.1980 - categorical_accuracy: 0.9529\n",
      "Epoch 115/2000\n",
      "3/3 [==============================] - 0s 55ms/step - loss: 0.2360 - categorical_accuracy: 0.9059\n",
      "Epoch 116/2000\n",
      "3/3 [==============================] - 0s 58ms/step - loss: 0.2296 - categorical_accuracy: 0.8824\n",
      "Epoch 117/2000\n",
      "3/3 [==============================] - 0s 57ms/step - loss: 0.1857 - categorical_accuracy: 0.9412\n",
      "Epoch 118/2000\n",
      "3/3 [==============================] - 0s 50ms/step - loss: 0.1446 - categorical_accuracy: 0.9176\n",
      "Epoch 119/2000\n",
      "3/3 [==============================] - 0s 50ms/step - loss: 0.1967 - categorical_accuracy: 0.9176\n",
      "Epoch 120/2000\n",
      "3/3 [==============================] - 0s 50ms/step - loss: 0.2046 - categorical_accuracy: 0.9882\n",
      "Epoch 121/2000\n",
      "3/3 [==============================] - 0s 50ms/step - loss: 0.1738 - categorical_accuracy: 0.9412\n",
      "Epoch 122/2000\n",
      "3/3 [==============================] - 0s 51ms/step - loss: 0.1525 - categorical_accuracy: 0.9412\n",
      "Epoch 123/2000\n",
      "3/3 [==============================] - 0s 50ms/step - loss: 0.1353 - categorical_accuracy: 0.9765\n",
      "Epoch 124/2000\n",
      "3/3 [==============================] - 0s 50ms/step - loss: 0.1178 - categorical_accuracy: 0.9529\n",
      "Epoch 125/2000\n",
      "3/3 [==============================] - 0s 49ms/step - loss: 0.1039 - categorical_accuracy: 0.9765\n",
      "Epoch 126/2000\n",
      "3/3 [==============================] - 0s 54ms/step - loss: 0.0861 - categorical_accuracy: 0.9765\n",
      "Epoch 127/2000\n",
      "3/3 [==============================] - 0s 50ms/step - loss: 0.0685 - categorical_accuracy: 0.9882\n",
      "Epoch 128/2000\n",
      "3/3 [==============================] - 0s 51ms/step - loss: 0.0711 - categorical_accuracy: 0.9765\n",
      "Epoch 129/2000\n",
      "3/3 [==============================] - 0s 51ms/step - loss: 0.0942 - categorical_accuracy: 0.9647\n",
      "Epoch 130/2000\n",
      "3/3 [==============================] - 0s 51ms/step - loss: 0.1045 - categorical_accuracy: 0.9529\n",
      "Epoch 131/2000\n",
      "3/3 [==============================] - 0s 50ms/step - loss: 0.3174 - categorical_accuracy: 0.8588\n",
      "Epoch 132/2000\n",
      "3/3 [==============================] - 0s 51ms/step - loss: 0.4233 - categorical_accuracy: 0.7412\n",
      "Epoch 133/2000\n",
      "3/3 [==============================] - 0s 51ms/step - loss: 0.2154 - categorical_accuracy: 0.9294\n",
      "Epoch 134/2000\n",
      "3/3 [==============================] - 0s 51ms/step - loss: 0.1665 - categorical_accuracy: 0.8941\n",
      "Epoch 135/2000\n",
      "3/3 [==============================] - 0s 51ms/step - loss: 0.4565 - categorical_accuracy: 0.8235\n",
      "Epoch 136/2000\n",
      "3/3 [==============================] - 0s 53ms/step - loss: 0.5902 - categorical_accuracy: 0.6235\n",
      "Epoch 137/2000\n",
      "3/3 [==============================] - 0s 59ms/step - loss: 0.5717 - categorical_accuracy: 0.6353\n",
      "Epoch 138/2000\n",
      "3/3 [==============================] - 0s 53ms/step - loss: 0.4742 - categorical_accuracy: 0.6941\n",
      "Epoch 139/2000\n",
      "3/3 [==============================] - 0s 50ms/step - loss: 0.4582 - categorical_accuracy: 0.8000\n",
      "Epoch 140/2000\n",
      "3/3 [==============================] - 0s 50ms/step - loss: 0.2828 - categorical_accuracy: 0.8824\n",
      "Epoch 141/2000\n",
      "3/3 [==============================] - 0s 50ms/step - loss: 0.2436 - categorical_accuracy: 0.9412\n",
      "Epoch 142/2000\n",
      "3/3 [==============================] - 0s 50ms/step - loss: 0.1670 - categorical_accuracy: 0.8706\n",
      "Epoch 143/2000\n",
      "3/3 [==============================] - 0s 50ms/step - loss: 0.1732 - categorical_accuracy: 0.8941\n",
      "Epoch 144/2000\n",
      "3/3 [==============================] - 0s 51ms/step - loss: 0.1708 - categorical_accuracy: 0.9176\n",
      "Epoch 145/2000\n",
      "3/3 [==============================] - 0s 52ms/step - loss: 0.1418 - categorical_accuracy: 0.9529\n",
      "Epoch 146/2000\n"
     ]
    },
    {
     "name": "stdout",
     "output_type": "stream",
     "text": [
      "3/3 [==============================] - 0s 50ms/step - loss: 0.1618 - categorical_accuracy: 0.8941\n",
      "Epoch 147/2000\n",
      "3/3 [==============================] - 0s 50ms/step - loss: 0.1190 - categorical_accuracy: 0.9412\n",
      "Epoch 148/2000\n",
      "3/3 [==============================] - 0s 50ms/step - loss: 0.1349 - categorical_accuracy: 0.9765\n",
      "Epoch 149/2000\n",
      "3/3 [==============================] - 0s 50ms/step - loss: 0.1121 - categorical_accuracy: 0.9529\n",
      "Epoch 150/2000\n",
      "3/3 [==============================] - 0s 51ms/step - loss: 0.0952 - categorical_accuracy: 0.9647\n",
      "Epoch 151/2000\n",
      "3/3 [==============================] - 0s 57ms/step - loss: 0.0859 - categorical_accuracy: 0.9765\n",
      "Epoch 152/2000\n",
      "3/3 [==============================] - 0s 55ms/step - loss: 0.0671 - categorical_accuracy: 0.9765\n",
      "Epoch 153/2000\n",
      "3/3 [==============================] - 0s 57ms/step - loss: 0.0754 - categorical_accuracy: 0.9765\n",
      "Epoch 154/2000\n",
      "3/3 [==============================] - 0s 57ms/step - loss: 0.0976 - categorical_accuracy: 0.9529\n",
      "Epoch 155/2000\n",
      "3/3 [==============================] - 0s 63ms/step - loss: 0.0663 - categorical_accuracy: 0.9882\n",
      "Epoch 156/2000\n",
      "3/3 [==============================] - 0s 59ms/step - loss: 0.0867 - categorical_accuracy: 0.9647\n",
      "Epoch 157/2000\n",
      "3/3 [==============================] - 0s 51ms/step - loss: 0.0611 - categorical_accuracy: 0.9765\n",
      "Epoch 158/2000\n",
      "3/3 [==============================] - 0s 62ms/step - loss: 0.0677 - categorical_accuracy: 0.9647\n",
      "Epoch 159/2000\n",
      "3/3 [==============================] - 0s 61ms/step - loss: 0.2344 - categorical_accuracy: 0.9059\n",
      "Epoch 160/2000\n",
      "3/3 [==============================] - 0s 63ms/step - loss: 1.3451 - categorical_accuracy: 0.7647\n",
      "Epoch 161/2000\n",
      "3/3 [==============================] - 0s 65ms/step - loss: 0.5172 - categorical_accuracy: 0.6824\n",
      "Epoch 162/2000\n",
      "3/3 [==============================] - 0s 61ms/step - loss: 0.7557 - categorical_accuracy: 0.6353\n",
      "Epoch 163/2000\n",
      "3/3 [==============================] - 0s 61ms/step - loss: 15.0582 - categorical_accuracy: 0.3882\n",
      "Epoch 164/2000\n",
      "3/3 [==============================] - 0s 62ms/step - loss: 0.9526 - categorical_accuracy: 0.3882\n",
      "Epoch 165/2000\n",
      "3/3 [==============================] - 0s 56ms/step - loss: 1.1008 - categorical_accuracy: 0.3176\n",
      "Epoch 166/2000\n",
      "3/3 [==============================] - 0s 50ms/step - loss: 1.1575 - categorical_accuracy: 0.3176\n",
      "Epoch 167/2000\n",
      "3/3 [==============================] - 0s 54ms/step - loss: 1.1329 - categorical_accuracy: 0.3765\n",
      "Epoch 168/2000\n",
      "3/3 [==============================] - 0s 53ms/step - loss: 1.0323 - categorical_accuracy: 0.4000\n",
      "Epoch 169/2000\n",
      "3/3 [==============================] - 0s 50ms/step - loss: 0.9421 - categorical_accuracy: 0.5412\n",
      "Epoch 170/2000\n",
      "3/3 [==============================] - 0s 54ms/step - loss: 0.7399 - categorical_accuracy: 0.6941\n",
      "Epoch 171/2000\n",
      "3/3 [==============================] - 0s 51ms/step - loss: 1.2755 - categorical_accuracy: 0.4706\n",
      "Epoch 172/2000\n",
      "3/3 [==============================] - 0s 51ms/step - loss: 0.9427 - categorical_accuracy: 0.5647\n",
      "Epoch 173/2000\n",
      "3/3 [==============================] - 0s 51ms/step - loss: 1.0027 - categorical_accuracy: 0.4706\n",
      "Epoch 174/2000\n",
      "3/3 [==============================] - 0s 51ms/step - loss: 1.0015 - categorical_accuracy: 0.4941\n",
      "Epoch 175/2000\n",
      "3/3 [==============================] - 0s 52ms/step - loss: 0.9935 - categorical_accuracy: 0.4941\n",
      "Epoch 176/2000\n",
      "3/3 [==============================] - 0s 57ms/step - loss: 0.9789 - categorical_accuracy: 0.5176\n",
      "Epoch 177/2000\n",
      "3/3 [==============================] - 0s 55ms/step - loss: 0.9408 - categorical_accuracy: 0.6941\n",
      "Epoch 178/2000\n",
      "3/3 [==============================] - 0s 51ms/step - loss: 0.8973 - categorical_accuracy: 0.7294\n",
      "Epoch 179/2000\n",
      "3/3 [==============================] - 0s 52ms/step - loss: 0.9035 - categorical_accuracy: 0.6706\n",
      "Epoch 180/2000\n",
      "3/3 [==============================] - 0s 51ms/step - loss: 0.9173 - categorical_accuracy: 0.7529\n",
      "Epoch 181/2000\n",
      "3/3 [==============================] - 0s 52ms/step - loss: 0.9972 - categorical_accuracy: 0.6000\n",
      "Epoch 182/2000\n",
      "3/3 [==============================] - 0s 52ms/step - loss: 0.9803 - categorical_accuracy: 0.7882\n",
      "Epoch 183/2000\n",
      "3/3 [==============================] - 0s 50ms/step - loss: 0.9100 - categorical_accuracy: 0.8353\n",
      "Epoch 184/2000\n",
      "3/3 [==============================] - 0s 51ms/step - loss: 0.8399 - categorical_accuracy: 0.5882\n",
      "Epoch 185/2000\n",
      "3/3 [==============================] - 0s 51ms/step - loss: 0.7198 - categorical_accuracy: 0.6824\n",
      "Epoch 186/2000\n",
      "3/3 [==============================] - 0s 51ms/step - loss: 0.6284 - categorical_accuracy: 0.7529\n",
      "Epoch 187/2000\n",
      "3/3 [==============================] - 0s 51ms/step - loss: 0.5713 - categorical_accuracy: 0.8706\n",
      "Epoch 188/2000\n",
      "3/3 [==============================] - 0s 51ms/step - loss: 0.5002 - categorical_accuracy: 0.7529\n",
      "Epoch 189/2000\n",
      "3/3 [==============================] - 0s 50ms/step - loss: 0.4755 - categorical_accuracy: 0.8118\n",
      "Epoch 190/2000\n",
      "3/3 [==============================] - 0s 52ms/step - loss: 0.4320 - categorical_accuracy: 0.7882\n",
      "Epoch 191/2000\n",
      "3/3 [==============================] - 0s 54ms/step - loss: 0.5314 - categorical_accuracy: 0.7412\n",
      "Epoch 192/2000\n",
      "3/3 [==============================] - 0s 52ms/step - loss: 0.5143 - categorical_accuracy: 0.7294\n",
      "Epoch 193/2000\n",
      "3/3 [==============================] - 0s 52ms/step - loss: 0.5306 - categorical_accuracy: 0.7765\n",
      "Epoch 194/2000\n",
      "3/3 [==============================] - 0s 50ms/step - loss: 0.4932 - categorical_accuracy: 0.7765\n",
      "Epoch 195/2000\n",
      "3/3 [==============================] - 0s 51ms/step - loss: 0.5387 - categorical_accuracy: 0.7176\n",
      "Epoch 196/2000\n",
      "3/3 [==============================] - 0s 51ms/step - loss: 0.4181 - categorical_accuracy: 0.8353\n",
      "Epoch 197/2000\n",
      "3/3 [==============================] - 0s 54ms/step - loss: 0.3869 - categorical_accuracy: 0.8588\n",
      "Epoch 198/2000\n",
      "3/3 [==============================] - 0s 51ms/step - loss: 0.3387 - categorical_accuracy: 0.8588\n",
      "Epoch 199/2000\n",
      "3/3 [==============================] - 0s 51ms/step - loss: 0.3314 - categorical_accuracy: 0.8588\n",
      "Epoch 200/2000\n",
      "3/3 [==============================] - 0s 50ms/step - loss: 0.3378 - categorical_accuracy: 0.8706\n",
      "Epoch 201/2000\n",
      "3/3 [==============================] - 0s 50ms/step - loss: 0.3092 - categorical_accuracy: 0.8588\n",
      "Epoch 202/2000\n",
      "3/3 [==============================] - 0s 50ms/step - loss: 0.3424 - categorical_accuracy: 0.8471\n",
      "Epoch 203/2000\n",
      "3/3 [==============================] - 0s 52ms/step - loss: 0.3033 - categorical_accuracy: 0.8588\n",
      "Epoch 204/2000\n",
      "3/3 [==============================] - 0s 50ms/step - loss: 0.2906 - categorical_accuracy: 0.8706\n",
      "Epoch 205/2000\n",
      "3/3 [==============================] - 0s 51ms/step - loss: 0.2652 - categorical_accuracy: 0.8824\n",
      "Epoch 206/2000\n",
      "3/3 [==============================] - 0s 51ms/step - loss: 0.3224 - categorical_accuracy: 0.8471\n",
      "Epoch 207/2000\n",
      "3/3 [==============================] - 0s 55ms/step - loss: 0.2407 - categorical_accuracy: 0.8824\n",
      "Epoch 208/2000\n",
      "3/3 [==============================] - 0s 54ms/step - loss: 0.2801 - categorical_accuracy: 0.8706\n",
      "Epoch 209/2000\n",
      "3/3 [==============================] - 0s 54ms/step - loss: 0.3028 - categorical_accuracy: 0.8588\n",
      "Epoch 210/2000\n",
      "3/3 [==============================] - 0s 53ms/step - loss: 0.2161 - categorical_accuracy: 0.8941\n",
      "Epoch 211/2000\n",
      "3/3 [==============================] - 0s 51ms/step - loss: 0.2434 - categorical_accuracy: 0.8941\n",
      "Epoch 212/2000\n",
      "3/3 [==============================] - 0s 51ms/step - loss: 0.3335 - categorical_accuracy: 0.8588\n",
      "Epoch 213/2000\n",
      "3/3 [==============================] - 0s 54ms/step - loss: 0.2819 - categorical_accuracy: 0.9294\n",
      "Epoch 214/2000\n",
      "3/3 [==============================] - 0s 53ms/step - loss: 0.2802 - categorical_accuracy: 0.8941\n",
      "Epoch 215/2000\n",
      "3/3 [==============================] - 0s 52ms/step - loss: 0.5809 - categorical_accuracy: 0.7529\n",
      "Epoch 216/2000\n",
      "3/3 [==============================] - 0s 49ms/step - loss: 0.7573 - categorical_accuracy: 0.6941\n",
      "Epoch 217/2000\n",
      "3/3 [==============================] - 0s 50ms/step - loss: 0.5881 - categorical_accuracy: 0.6000\n",
      "Epoch 218/2000\n"
     ]
    },
    {
     "name": "stdout",
     "output_type": "stream",
     "text": [
      "3/3 [==============================] - 0s 52ms/step - loss: 0.5575 - categorical_accuracy: 0.6588\n",
      "Epoch 219/2000\n",
      "3/3 [==============================] - 0s 51ms/step - loss: 0.5691 - categorical_accuracy: 0.6471\n",
      "Epoch 220/2000\n",
      "3/3 [==============================] - 0s 50ms/step - loss: 0.5229 - categorical_accuracy: 0.6353\n",
      "Epoch 221/2000\n",
      "3/3 [==============================] - 0s 51ms/step - loss: 0.5013 - categorical_accuracy: 0.7765\n",
      "Epoch 222/2000\n",
      "3/3 [==============================] - 0s 51ms/step - loss: 0.5123 - categorical_accuracy: 0.7059\n",
      "Epoch 223/2000\n",
      "3/3 [==============================] - 0s 54ms/step - loss: 0.4880 - categorical_accuracy: 0.7059\n",
      "Epoch 224/2000\n",
      "3/3 [==============================] - 0s 51ms/step - loss: 0.4979 - categorical_accuracy: 0.7647\n",
      "Epoch 225/2000\n",
      "3/3 [==============================] - 0s 51ms/step - loss: 0.4634 - categorical_accuracy: 0.8000\n",
      "Epoch 226/2000\n",
      "3/3 [==============================] - 0s 51ms/step - loss: 0.4599 - categorical_accuracy: 0.7882\n",
      "Epoch 227/2000\n",
      "3/3 [==============================] - 0s 51ms/step - loss: 0.4528 - categorical_accuracy: 0.8588\n",
      "Epoch 228/2000\n",
      "3/3 [==============================] - 0s 51ms/step - loss: 0.4201 - categorical_accuracy: 0.8235\n",
      "Epoch 229/2000\n",
      "3/3 [==============================] - 0s 54ms/step - loss: 0.4257 - categorical_accuracy: 0.7882\n",
      "Epoch 230/2000\n",
      "3/3 [==============================] - 0s 50ms/step - loss: 0.4421 - categorical_accuracy: 0.7647\n",
      "Epoch 231/2000\n",
      "3/3 [==============================] - 0s 50ms/step - loss: 0.5093 - categorical_accuracy: 0.6941\n",
      "Epoch 232/2000\n",
      "3/3 [==============================] - 0s 52ms/step - loss: 0.6076 - categorical_accuracy: 0.6706\n",
      "Epoch 233/2000\n",
      "3/3 [==============================] - 0s 52ms/step - loss: 0.5702 - categorical_accuracy: 0.6941\n",
      "Epoch 234/2000\n",
      "3/3 [==============================] - 0s 51ms/step - loss: 0.4281 - categorical_accuracy: 0.7765\n",
      "Epoch 235/2000\n",
      "3/3 [==============================] - 0s 50ms/step - loss: 0.5212 - categorical_accuracy: 0.7412\n",
      "Epoch 236/2000\n",
      "3/3 [==============================] - 0s 49ms/step - loss: 0.4757 - categorical_accuracy: 0.6588\n",
      "Epoch 237/2000\n",
      "3/3 [==============================] - 0s 51ms/step - loss: 0.4549 - categorical_accuracy: 0.7294\n",
      "Epoch 238/2000\n",
      "3/3 [==============================] - 0s 50ms/step - loss: 0.4024 - categorical_accuracy: 0.7765\n",
      "Epoch 239/2000\n",
      "3/3 [==============================] - 0s 52ms/step - loss: 0.4058 - categorical_accuracy: 0.7882\n",
      "Epoch 240/2000\n",
      "3/3 [==============================] - 0s 51ms/step - loss: 0.3781 - categorical_accuracy: 0.9059\n",
      "Epoch 241/2000\n",
      "3/3 [==============================] - 0s 52ms/step - loss: 0.3324 - categorical_accuracy: 0.8824\n",
      "Epoch 242/2000\n",
      "3/3 [==============================] - 0s 54ms/step - loss: 0.3041 - categorical_accuracy: 0.9294\n",
      "Epoch 243/2000\n",
      "3/3 [==============================] - 0s 51ms/step - loss: 0.2735 - categorical_accuracy: 0.8824\n",
      "Epoch 244/2000\n",
      "3/3 [==============================] - 0s 50ms/step - loss: 0.2205 - categorical_accuracy: 0.9294\n",
      "Epoch 245/2000\n",
      "3/3 [==============================] - 0s 50ms/step - loss: 0.2299 - categorical_accuracy: 0.8706\n",
      "Epoch 246/2000\n",
      "3/3 [==============================] - 0s 50ms/step - loss: 0.2071 - categorical_accuracy: 0.8941\n",
      "Epoch 247/2000\n",
      "3/3 [==============================] - 0s 50ms/step - loss: 0.3511 - categorical_accuracy: 0.8588\n",
      "Epoch 248/2000\n",
      "3/3 [==============================] - 0s 51ms/step - loss: 0.2604 - categorical_accuracy: 0.8588\n",
      "Epoch 249/2000\n",
      "3/3 [==============================] - 0s 51ms/step - loss: 0.2306 - categorical_accuracy: 0.8706\n",
      "Epoch 250/2000\n",
      "3/3 [==============================] - 0s 51ms/step - loss: 0.2516 - categorical_accuracy: 0.8706\n",
      "Epoch 251/2000\n",
      "3/3 [==============================] - 0s 55ms/step - loss: 0.3169 - categorical_accuracy: 0.8235\n",
      "Epoch 252/2000\n",
      "3/3 [==============================] - 0s 50ms/step - loss: 0.3779 - categorical_accuracy: 0.7647\n",
      "Epoch 253/2000\n",
      "3/3 [==============================] - 0s 51ms/step - loss: 0.4113 - categorical_accuracy: 0.8235\n",
      "Epoch 254/2000\n",
      "3/3 [==============================] - 0s 50ms/step - loss: 0.2477 - categorical_accuracy: 0.8706\n",
      "Epoch 255/2000\n",
      "3/3 [==============================] - 0s 50ms/step - loss: 0.2530 - categorical_accuracy: 0.8941\n",
      "Epoch 256/2000\n",
      "3/3 [==============================] - 0s 49ms/step - loss: 0.2804 - categorical_accuracy: 0.8941\n",
      "Epoch 257/2000\n",
      "3/3 [==============================] - 0s 49ms/step - loss: 0.2672 - categorical_accuracy: 0.8588\n",
      "Epoch 258/2000\n",
      "3/3 [==============================] - 0s 50ms/step - loss: 0.1791 - categorical_accuracy: 0.9412\n",
      "Epoch 259/2000\n",
      "3/3 [==============================] - 0s 52ms/step - loss: 0.1832 - categorical_accuracy: 0.9294\n",
      "Epoch 260/2000\n",
      "3/3 [==============================] - 0s 54ms/step - loss: 0.1715 - categorical_accuracy: 0.9647\n",
      "Epoch 261/2000\n",
      "3/3 [==============================] - 0s 51ms/step - loss: 0.1274 - categorical_accuracy: 0.9412\n",
      "Epoch 262/2000\n",
      "3/3 [==============================] - 0s 50ms/step - loss: 0.1218 - categorical_accuracy: 0.9529\n",
      "Epoch 263/2000\n",
      "3/3 [==============================] - 0s 50ms/step - loss: 0.1103 - categorical_accuracy: 0.9412\n",
      "Epoch 264/2000\n",
      "3/3 [==============================] - 0s 51ms/step - loss: 0.1179 - categorical_accuracy: 0.9529\n",
      "Epoch 265/2000\n",
      "3/3 [==============================] - 0s 49ms/step - loss: 0.0939 - categorical_accuracy: 0.9647\n",
      "Epoch 266/2000\n",
      "3/3 [==============================] - 0s 51ms/step - loss: 0.0771 - categorical_accuracy: 0.9882\n",
      "Epoch 267/2000\n",
      "3/3 [==============================] - 0s 51ms/step - loss: 0.0933 - categorical_accuracy: 0.9765\n",
      "Epoch 268/2000\n",
      "3/3 [==============================] - 0s 51ms/step - loss: 0.1209 - categorical_accuracy: 0.9294\n",
      "Epoch 269/2000\n",
      "3/3 [==============================] - 0s 50ms/step - loss: 0.0735 - categorical_accuracy: 0.9765\n",
      "Epoch 270/2000\n",
      "3/3 [==============================] - 0s 50ms/step - loss: 0.0748 - categorical_accuracy: 0.9647\n",
      "Epoch 271/2000\n",
      "3/3 [==============================] - 0s 50ms/step - loss: 0.0641 - categorical_accuracy: 0.9882\n",
      "Epoch 272/2000\n",
      "3/3 [==============================] - 0s 53ms/step - loss: 0.0689 - categorical_accuracy: 0.9765\n",
      "Epoch 273/2000\n",
      "3/3 [==============================] - 0s 50ms/step - loss: 0.0851 - categorical_accuracy: 0.9529\n",
      "Epoch 274/2000\n",
      "3/3 [==============================] - 0s 50ms/step - loss: 0.3243 - categorical_accuracy: 0.8941\n",
      "Epoch 275/2000\n",
      "3/3 [==============================] - 0s 51ms/step - loss: 0.0981 - categorical_accuracy: 0.9647\n",
      "Epoch 276/2000\n",
      "3/3 [==============================] - 0s 53ms/step - loss: 0.2956 - categorical_accuracy: 0.8706\n",
      "Epoch 277/2000\n",
      "3/3 [==============================] - 0s 50ms/step - loss: 0.2352 - categorical_accuracy: 0.8941\n",
      "Epoch 278/2000\n",
      "3/3 [==============================] - 0s 50ms/step - loss: 0.2867 - categorical_accuracy: 0.8471\n",
      "Epoch 279/2000\n",
      "3/3 [==============================] - 0s 50ms/step - loss: 0.3007 - categorical_accuracy: 0.8353\n",
      "Epoch 280/2000\n",
      "3/3 [==============================] - 0s 50ms/step - loss: 0.1257 - categorical_accuracy: 0.9529\n",
      "Epoch 281/2000\n",
      "3/3 [==============================] - 0s 51ms/step - loss: 0.1628 - categorical_accuracy: 0.9176\n",
      "Epoch 282/2000\n",
      "3/3 [==============================] - 0s 50ms/step - loss: 0.1268 - categorical_accuracy: 0.9765\n",
      "Epoch 283/2000\n",
      "3/3 [==============================] - 0s 49ms/step - loss: 0.1120 - categorical_accuracy: 0.9529\n",
      "Epoch 284/2000\n",
      "3/3 [==============================] - 0s 49ms/step - loss: 0.1122 - categorical_accuracy: 0.9647\n",
      "Epoch 285/2000\n",
      "3/3 [==============================] - 0s 48ms/step - loss: 0.0891 - categorical_accuracy: 0.9529\n",
      "Epoch 286/2000\n",
      "3/3 [==============================] - 0s 50ms/step - loss: 0.0676 - categorical_accuracy: 0.9765\n",
      "Epoch 287/2000\n",
      "3/3 [==============================] - 0s 50ms/step - loss: 0.0822 - categorical_accuracy: 0.9647\n",
      "Epoch 288/2000\n",
      "3/3 [==============================] - 0s 51ms/step - loss: 0.0679 - categorical_accuracy: 0.9529\n",
      "Epoch 289/2000\n",
      "3/3 [==============================] - 0s 51ms/step - loss: 0.0706 - categorical_accuracy: 0.9765\n",
      "Epoch 290/2000\n"
     ]
    },
    {
     "name": "stdout",
     "output_type": "stream",
     "text": [
      "3/3 [==============================] - 0s 50ms/step - loss: 0.1051 - categorical_accuracy: 0.9529\n",
      "Epoch 291/2000\n",
      "3/3 [==============================] - 0s 50ms/step - loss: 0.1071 - categorical_accuracy: 0.9765\n",
      "Epoch 292/2000\n",
      "3/3 [==============================] - 0s 50ms/step - loss: 0.0862 - categorical_accuracy: 0.9765\n",
      "Epoch 293/2000\n",
      "3/3 [==============================] - 0s 50ms/step - loss: 0.0831 - categorical_accuracy: 0.9647\n",
      "Epoch 294/2000\n",
      "3/3 [==============================] - 0s 50ms/step - loss: 0.1067 - categorical_accuracy: 0.9412\n",
      "Epoch 295/2000\n",
      "3/3 [==============================] - 0s 49ms/step - loss: 0.0841 - categorical_accuracy: 0.9647\n",
      "Epoch 296/2000\n",
      "3/3 [==============================] - 0s 50ms/step - loss: 0.0797 - categorical_accuracy: 0.9765\n",
      "Epoch 297/2000\n",
      "3/3 [==============================] - 0s 50ms/step - loss: 0.0771 - categorical_accuracy: 0.9647\n",
      "Epoch 298/2000\n",
      "3/3 [==============================] - 0s 52ms/step - loss: 0.1078 - categorical_accuracy: 0.9412\n",
      "Epoch 299/2000\n",
      "3/3 [==============================] - 0s 50ms/step - loss: 0.0903 - categorical_accuracy: 0.9529\n",
      "Epoch 300/2000\n",
      "3/3 [==============================] - 0s 50ms/step - loss: 0.0764 - categorical_accuracy: 0.9647\n",
      "Epoch 301/2000\n",
      "3/3 [==============================] - 0s 50ms/step - loss: 0.0555 - categorical_accuracy: 0.9882\n",
      "Epoch 302/2000\n",
      "3/3 [==============================] - 0s 51ms/step - loss: 0.0677 - categorical_accuracy: 0.9647\n",
      "Epoch 303/2000\n",
      "3/3 [==============================] - 0s 50ms/step - loss: 0.0516 - categorical_accuracy: 0.9765\n",
      "Epoch 304/2000\n",
      "3/3 [==============================] - 0s 50ms/step - loss: 0.0587 - categorical_accuracy: 0.9882\n",
      "Epoch 305/2000\n",
      "3/3 [==============================] - 0s 54ms/step - loss: 0.0785 - categorical_accuracy: 0.9765\n",
      "Epoch 306/2000\n",
      "3/3 [==============================] - 0s 50ms/step - loss: 0.0754 - categorical_accuracy: 0.9765\n",
      "Epoch 307/2000\n",
      "3/3 [==============================] - 0s 50ms/step - loss: 0.0589 - categorical_accuracy: 0.9765\n",
      "Epoch 308/2000\n",
      "3/3 [==============================] - 0s 49ms/step - loss: 0.0994 - categorical_accuracy: 0.9529\n",
      "Epoch 309/2000\n",
      "3/3 [==============================] - 0s 51ms/step - loss: 0.1993 - categorical_accuracy: 0.9176\n",
      "Epoch 310/2000\n",
      "3/3 [==============================] - 0s 51ms/step - loss: 0.2413 - categorical_accuracy: 0.8941\n",
      "Epoch 311/2000\n",
      "3/3 [==============================] - 0s 52ms/step - loss: 0.2407 - categorical_accuracy: 0.8706\n",
      "Epoch 312/2000\n",
      "3/3 [==============================] - 0s 49ms/step - loss: 0.1350 - categorical_accuracy: 0.9529\n",
      "Epoch 313/2000\n",
      "3/3 [==============================] - 0s 50ms/step - loss: 0.0986 - categorical_accuracy: 0.9765\n",
      "Epoch 314/2000\n",
      "3/3 [==============================] - 0s 50ms/step - loss: 0.0813 - categorical_accuracy: 0.9765\n",
      "Epoch 315/2000\n",
      "3/3 [==============================] - 0s 53ms/step - loss: 0.2000 - categorical_accuracy: 0.9176\n",
      "Epoch 316/2000\n",
      "3/3 [==============================] - 0s 50ms/step - loss: 0.0913 - categorical_accuracy: 0.9765\n",
      "Epoch 317/2000\n",
      "3/3 [==============================] - 0s 49ms/step - loss: 0.0586 - categorical_accuracy: 0.9765\n",
      "Epoch 318/2000\n",
      "3/3 [==============================] - 0s 51ms/step - loss: 0.0847 - categorical_accuracy: 0.9647\n",
      "Epoch 319/2000\n",
      "3/3 [==============================] - 0s 49ms/step - loss: 0.0946 - categorical_accuracy: 0.9647\n",
      "Epoch 320/2000\n",
      "3/3 [==============================] - 0s 49ms/step - loss: 0.1789 - categorical_accuracy: 0.9294\n",
      "Epoch 321/2000\n"
     ]
    },
    {
     "ename": "KeyboardInterrupt",
     "evalue": "",
     "output_type": "error",
     "traceback": [
      "\u001b[1;31m---------------------------------------------------------------------------\u001b[0m",
      "\u001b[1;31mKeyboardInterrupt\u001b[0m                         Traceback (most recent call last)",
      "Input \u001b[1;32mIn [32]\u001b[0m, in \u001b[0;36m<cell line: 1>\u001b[1;34m()\u001b[0m\n\u001b[1;32m----> 1\u001b[0m \u001b[43mmodel\u001b[49m\u001b[38;5;241;43m.\u001b[39;49m\u001b[43mfit\u001b[49m\u001b[43m(\u001b[49m\u001b[43mX_train\u001b[49m\u001b[43m,\u001b[49m\u001b[43m \u001b[49m\u001b[43my_train\u001b[49m\u001b[43m,\u001b[49m\u001b[43m \u001b[49m\u001b[43mepochs\u001b[49m\u001b[38;5;241;43m=\u001b[39;49m\u001b[38;5;241;43m2000\u001b[39;49m\u001b[43m,\u001b[49m\u001b[43m \u001b[49m\u001b[43mcallbacks\u001b[49m\u001b[38;5;241;43m=\u001b[39;49m\u001b[43m[\u001b[49m\u001b[43mtb_callback\u001b[49m\u001b[43m]\u001b[49m\u001b[43m)\u001b[49m\n",
      "File \u001b[1;32m~\\AppData\\Local\\Programs\\Python\\Python310\\lib\\site-packages\\keras\\utils\\traceback_utils.py:64\u001b[0m, in \u001b[0;36mfilter_traceback.<locals>.error_handler\u001b[1;34m(*args, **kwargs)\u001b[0m\n\u001b[0;32m     62\u001b[0m filtered_tb \u001b[38;5;241m=\u001b[39m \u001b[38;5;28;01mNone\u001b[39;00m\n\u001b[0;32m     63\u001b[0m \u001b[38;5;28;01mtry\u001b[39;00m:\n\u001b[1;32m---> 64\u001b[0m   \u001b[38;5;28;01mreturn\u001b[39;00m fn(\u001b[38;5;241m*\u001b[39margs, \u001b[38;5;241m*\u001b[39m\u001b[38;5;241m*\u001b[39mkwargs)\n\u001b[0;32m     65\u001b[0m \u001b[38;5;28;01mexcept\u001b[39;00m \u001b[38;5;167;01mException\u001b[39;00m \u001b[38;5;28;01mas\u001b[39;00m e:  \u001b[38;5;66;03m# pylint: disable=broad-except\u001b[39;00m\n\u001b[0;32m     66\u001b[0m   filtered_tb \u001b[38;5;241m=\u001b[39m _process_traceback_frames(e\u001b[38;5;241m.\u001b[39m__traceback__)\n",
      "File \u001b[1;32m~\\AppData\\Local\\Programs\\Python\\Python310\\lib\\site-packages\\keras\\engine\\training.py:1409\u001b[0m, in \u001b[0;36mModel.fit\u001b[1;34m(self, x, y, batch_size, epochs, verbose, callbacks, validation_split, validation_data, shuffle, class_weight, sample_weight, initial_epoch, steps_per_epoch, validation_steps, validation_batch_size, validation_freq, max_queue_size, workers, use_multiprocessing)\u001b[0m\n\u001b[0;32m   1402\u001b[0m \u001b[38;5;28;01mwith\u001b[39;00m tf\u001b[38;5;241m.\u001b[39mprofiler\u001b[38;5;241m.\u001b[39mexperimental\u001b[38;5;241m.\u001b[39mTrace(\n\u001b[0;32m   1403\u001b[0m     \u001b[38;5;124m'\u001b[39m\u001b[38;5;124mtrain\u001b[39m\u001b[38;5;124m'\u001b[39m,\n\u001b[0;32m   1404\u001b[0m     epoch_num\u001b[38;5;241m=\u001b[39mepoch,\n\u001b[0;32m   1405\u001b[0m     step_num\u001b[38;5;241m=\u001b[39mstep,\n\u001b[0;32m   1406\u001b[0m     batch_size\u001b[38;5;241m=\u001b[39mbatch_size,\n\u001b[0;32m   1407\u001b[0m     _r\u001b[38;5;241m=\u001b[39m\u001b[38;5;241m1\u001b[39m):\n\u001b[0;32m   1408\u001b[0m   callbacks\u001b[38;5;241m.\u001b[39mon_train_batch_begin(step)\n\u001b[1;32m-> 1409\u001b[0m   tmp_logs \u001b[38;5;241m=\u001b[39m \u001b[38;5;28;43mself\u001b[39;49m\u001b[38;5;241;43m.\u001b[39;49m\u001b[43mtrain_function\u001b[49m\u001b[43m(\u001b[49m\u001b[43miterator\u001b[49m\u001b[43m)\u001b[49m\n\u001b[0;32m   1410\u001b[0m   \u001b[38;5;28;01mif\u001b[39;00m data_handler\u001b[38;5;241m.\u001b[39mshould_sync:\n\u001b[0;32m   1411\u001b[0m     context\u001b[38;5;241m.\u001b[39masync_wait()\n",
      "File \u001b[1;32m~\\AppData\\Local\\Programs\\Python\\Python310\\lib\\site-packages\\tensorflow\\python\\util\\traceback_utils.py:150\u001b[0m, in \u001b[0;36mfilter_traceback.<locals>.error_handler\u001b[1;34m(*args, **kwargs)\u001b[0m\n\u001b[0;32m    148\u001b[0m filtered_tb \u001b[38;5;241m=\u001b[39m \u001b[38;5;28;01mNone\u001b[39;00m\n\u001b[0;32m    149\u001b[0m \u001b[38;5;28;01mtry\u001b[39;00m:\n\u001b[1;32m--> 150\u001b[0m   \u001b[38;5;28;01mreturn\u001b[39;00m fn(\u001b[38;5;241m*\u001b[39margs, \u001b[38;5;241m*\u001b[39m\u001b[38;5;241m*\u001b[39mkwargs)\n\u001b[0;32m    151\u001b[0m \u001b[38;5;28;01mexcept\u001b[39;00m \u001b[38;5;167;01mException\u001b[39;00m \u001b[38;5;28;01mas\u001b[39;00m e:\n\u001b[0;32m    152\u001b[0m   filtered_tb \u001b[38;5;241m=\u001b[39m _process_traceback_frames(e\u001b[38;5;241m.\u001b[39m__traceback__)\n",
      "File \u001b[1;32m~\\AppData\\Local\\Programs\\Python\\Python310\\lib\\site-packages\\tensorflow\\python\\eager\\def_function.py:915\u001b[0m, in \u001b[0;36mFunction.__call__\u001b[1;34m(self, *args, **kwds)\u001b[0m\n\u001b[0;32m    912\u001b[0m compiler \u001b[38;5;241m=\u001b[39m \u001b[38;5;124m\"\u001b[39m\u001b[38;5;124mxla\u001b[39m\u001b[38;5;124m\"\u001b[39m \u001b[38;5;28;01mif\u001b[39;00m \u001b[38;5;28mself\u001b[39m\u001b[38;5;241m.\u001b[39m_jit_compile \u001b[38;5;28;01melse\u001b[39;00m \u001b[38;5;124m\"\u001b[39m\u001b[38;5;124mnonXla\u001b[39m\u001b[38;5;124m\"\u001b[39m\n\u001b[0;32m    914\u001b[0m \u001b[38;5;28;01mwith\u001b[39;00m OptionalXlaContext(\u001b[38;5;28mself\u001b[39m\u001b[38;5;241m.\u001b[39m_jit_compile):\n\u001b[1;32m--> 915\u001b[0m   result \u001b[38;5;241m=\u001b[39m \u001b[38;5;28mself\u001b[39m\u001b[38;5;241m.\u001b[39m_call(\u001b[38;5;241m*\u001b[39margs, \u001b[38;5;241m*\u001b[39m\u001b[38;5;241m*\u001b[39mkwds)\n\u001b[0;32m    917\u001b[0m new_tracing_count \u001b[38;5;241m=\u001b[39m \u001b[38;5;28mself\u001b[39m\u001b[38;5;241m.\u001b[39mexperimental_get_tracing_count()\n\u001b[0;32m    918\u001b[0m without_tracing \u001b[38;5;241m=\u001b[39m (tracing_count \u001b[38;5;241m==\u001b[39m new_tracing_count)\n",
      "File \u001b[1;32m~\\AppData\\Local\\Programs\\Python\\Python310\\lib\\site-packages\\tensorflow\\python\\eager\\def_function.py:947\u001b[0m, in \u001b[0;36mFunction._call\u001b[1;34m(self, *args, **kwds)\u001b[0m\n\u001b[0;32m    944\u001b[0m   \u001b[38;5;28mself\u001b[39m\u001b[38;5;241m.\u001b[39m_lock\u001b[38;5;241m.\u001b[39mrelease()\n\u001b[0;32m    945\u001b[0m   \u001b[38;5;66;03m# In this case we have created variables on the first call, so we run the\u001b[39;00m\n\u001b[0;32m    946\u001b[0m   \u001b[38;5;66;03m# defunned version which is guaranteed to never create variables.\u001b[39;00m\n\u001b[1;32m--> 947\u001b[0m   \u001b[38;5;28;01mreturn\u001b[39;00m \u001b[38;5;28mself\u001b[39m\u001b[38;5;241m.\u001b[39m_stateless_fn(\u001b[38;5;241m*\u001b[39margs, \u001b[38;5;241m*\u001b[39m\u001b[38;5;241m*\u001b[39mkwds)  \u001b[38;5;66;03m# pylint: disable=not-callable\u001b[39;00m\n\u001b[0;32m    948\u001b[0m \u001b[38;5;28;01melif\u001b[39;00m \u001b[38;5;28mself\u001b[39m\u001b[38;5;241m.\u001b[39m_stateful_fn \u001b[38;5;129;01mis\u001b[39;00m \u001b[38;5;129;01mnot\u001b[39;00m \u001b[38;5;28;01mNone\u001b[39;00m:\n\u001b[0;32m    949\u001b[0m   \u001b[38;5;66;03m# Release the lock early so that multiple threads can perform the call\u001b[39;00m\n\u001b[0;32m    950\u001b[0m   \u001b[38;5;66;03m# in parallel.\u001b[39;00m\n\u001b[0;32m    951\u001b[0m   \u001b[38;5;28mself\u001b[39m\u001b[38;5;241m.\u001b[39m_lock\u001b[38;5;241m.\u001b[39mrelease()\n",
      "File \u001b[1;32m~\\AppData\\Local\\Programs\\Python\\Python310\\lib\\site-packages\\tensorflow\\python\\eager\\function.py:2453\u001b[0m, in \u001b[0;36mFunction.__call__\u001b[1;34m(self, *args, **kwargs)\u001b[0m\n\u001b[0;32m   2450\u001b[0m \u001b[38;5;28;01mwith\u001b[39;00m \u001b[38;5;28mself\u001b[39m\u001b[38;5;241m.\u001b[39m_lock:\n\u001b[0;32m   2451\u001b[0m   (graph_function,\n\u001b[0;32m   2452\u001b[0m    filtered_flat_args) \u001b[38;5;241m=\u001b[39m \u001b[38;5;28mself\u001b[39m\u001b[38;5;241m.\u001b[39m_maybe_define_function(args, kwargs)\n\u001b[1;32m-> 2453\u001b[0m \u001b[38;5;28;01mreturn\u001b[39;00m \u001b[43mgraph_function\u001b[49m\u001b[38;5;241;43m.\u001b[39;49m\u001b[43m_call_flat\u001b[49m\u001b[43m(\u001b[49m\n\u001b[0;32m   2454\u001b[0m \u001b[43m    \u001b[49m\u001b[43mfiltered_flat_args\u001b[49m\u001b[43m,\u001b[49m\u001b[43m \u001b[49m\u001b[43mcaptured_inputs\u001b[49m\u001b[38;5;241;43m=\u001b[39;49m\u001b[43mgraph_function\u001b[49m\u001b[38;5;241;43m.\u001b[39;49m\u001b[43mcaptured_inputs\u001b[49m\u001b[43m)\u001b[49m\n",
      "File \u001b[1;32m~\\AppData\\Local\\Programs\\Python\\Python310\\lib\\site-packages\\tensorflow\\python\\eager\\function.py:1860\u001b[0m, in \u001b[0;36mConcreteFunction._call_flat\u001b[1;34m(self, args, captured_inputs, cancellation_manager)\u001b[0m\n\u001b[0;32m   1856\u001b[0m possible_gradient_type \u001b[38;5;241m=\u001b[39m gradients_util\u001b[38;5;241m.\u001b[39mPossibleTapeGradientTypes(args)\n\u001b[0;32m   1857\u001b[0m \u001b[38;5;28;01mif\u001b[39;00m (possible_gradient_type \u001b[38;5;241m==\u001b[39m gradients_util\u001b[38;5;241m.\u001b[39mPOSSIBLE_GRADIENT_TYPES_NONE\n\u001b[0;32m   1858\u001b[0m     \u001b[38;5;129;01mand\u001b[39;00m executing_eagerly):\n\u001b[0;32m   1859\u001b[0m   \u001b[38;5;66;03m# No tape is watching; skip to running the function.\u001b[39;00m\n\u001b[1;32m-> 1860\u001b[0m   \u001b[38;5;28;01mreturn\u001b[39;00m \u001b[38;5;28mself\u001b[39m\u001b[38;5;241m.\u001b[39m_build_call_outputs(\u001b[38;5;28;43mself\u001b[39;49m\u001b[38;5;241;43m.\u001b[39;49m\u001b[43m_inference_function\u001b[49m\u001b[38;5;241;43m.\u001b[39;49m\u001b[43mcall\u001b[49m\u001b[43m(\u001b[49m\n\u001b[0;32m   1861\u001b[0m \u001b[43m      \u001b[49m\u001b[43mctx\u001b[49m\u001b[43m,\u001b[49m\u001b[43m \u001b[49m\u001b[43margs\u001b[49m\u001b[43m,\u001b[49m\u001b[43m \u001b[49m\u001b[43mcancellation_manager\u001b[49m\u001b[38;5;241;43m=\u001b[39;49m\u001b[43mcancellation_manager\u001b[49m\u001b[43m)\u001b[49m)\n\u001b[0;32m   1862\u001b[0m forward_backward \u001b[38;5;241m=\u001b[39m \u001b[38;5;28mself\u001b[39m\u001b[38;5;241m.\u001b[39m_select_forward_and_backward_functions(\n\u001b[0;32m   1863\u001b[0m     args,\n\u001b[0;32m   1864\u001b[0m     possible_gradient_type,\n\u001b[0;32m   1865\u001b[0m     executing_eagerly)\n\u001b[0;32m   1866\u001b[0m forward_function, args_with_tangents \u001b[38;5;241m=\u001b[39m forward_backward\u001b[38;5;241m.\u001b[39mforward()\n",
      "File \u001b[1;32m~\\AppData\\Local\\Programs\\Python\\Python310\\lib\\site-packages\\tensorflow\\python\\eager\\function.py:497\u001b[0m, in \u001b[0;36m_EagerDefinedFunction.call\u001b[1;34m(self, ctx, args, cancellation_manager)\u001b[0m\n\u001b[0;32m    495\u001b[0m \u001b[38;5;28;01mwith\u001b[39;00m _InterpolateFunctionError(\u001b[38;5;28mself\u001b[39m):\n\u001b[0;32m    496\u001b[0m   \u001b[38;5;28;01mif\u001b[39;00m cancellation_manager \u001b[38;5;129;01mis\u001b[39;00m \u001b[38;5;28;01mNone\u001b[39;00m:\n\u001b[1;32m--> 497\u001b[0m     outputs \u001b[38;5;241m=\u001b[39m \u001b[43mexecute\u001b[49m\u001b[38;5;241;43m.\u001b[39;49m\u001b[43mexecute\u001b[49m\u001b[43m(\u001b[49m\n\u001b[0;32m    498\u001b[0m \u001b[43m        \u001b[49m\u001b[38;5;28;43mstr\u001b[39;49m\u001b[43m(\u001b[49m\u001b[38;5;28;43mself\u001b[39;49m\u001b[38;5;241;43m.\u001b[39;49m\u001b[43msignature\u001b[49m\u001b[38;5;241;43m.\u001b[39;49m\u001b[43mname\u001b[49m\u001b[43m)\u001b[49m\u001b[43m,\u001b[49m\n\u001b[0;32m    499\u001b[0m \u001b[43m        \u001b[49m\u001b[43mnum_outputs\u001b[49m\u001b[38;5;241;43m=\u001b[39;49m\u001b[38;5;28;43mself\u001b[39;49m\u001b[38;5;241;43m.\u001b[39;49m\u001b[43m_num_outputs\u001b[49m\u001b[43m,\u001b[49m\n\u001b[0;32m    500\u001b[0m \u001b[43m        \u001b[49m\u001b[43minputs\u001b[49m\u001b[38;5;241;43m=\u001b[39;49m\u001b[43margs\u001b[49m\u001b[43m,\u001b[49m\n\u001b[0;32m    501\u001b[0m \u001b[43m        \u001b[49m\u001b[43mattrs\u001b[49m\u001b[38;5;241;43m=\u001b[39;49m\u001b[43mattrs\u001b[49m\u001b[43m,\u001b[49m\n\u001b[0;32m    502\u001b[0m \u001b[43m        \u001b[49m\u001b[43mctx\u001b[49m\u001b[38;5;241;43m=\u001b[39;49m\u001b[43mctx\u001b[49m\u001b[43m)\u001b[49m\n\u001b[0;32m    503\u001b[0m   \u001b[38;5;28;01melse\u001b[39;00m:\n\u001b[0;32m    504\u001b[0m     outputs \u001b[38;5;241m=\u001b[39m execute\u001b[38;5;241m.\u001b[39mexecute_with_cancellation(\n\u001b[0;32m    505\u001b[0m         \u001b[38;5;28mstr\u001b[39m(\u001b[38;5;28mself\u001b[39m\u001b[38;5;241m.\u001b[39msignature\u001b[38;5;241m.\u001b[39mname),\n\u001b[0;32m    506\u001b[0m         num_outputs\u001b[38;5;241m=\u001b[39m\u001b[38;5;28mself\u001b[39m\u001b[38;5;241m.\u001b[39m_num_outputs,\n\u001b[1;32m   (...)\u001b[0m\n\u001b[0;32m    509\u001b[0m         ctx\u001b[38;5;241m=\u001b[39mctx,\n\u001b[0;32m    510\u001b[0m         cancellation_manager\u001b[38;5;241m=\u001b[39mcancellation_manager)\n",
      "File \u001b[1;32m~\\AppData\\Local\\Programs\\Python\\Python310\\lib\\site-packages\\tensorflow\\python\\eager\\execute.py:54\u001b[0m, in \u001b[0;36mquick_execute\u001b[1;34m(op_name, num_outputs, inputs, attrs, ctx, name)\u001b[0m\n\u001b[0;32m     52\u001b[0m \u001b[38;5;28;01mtry\u001b[39;00m:\n\u001b[0;32m     53\u001b[0m   ctx\u001b[38;5;241m.\u001b[39mensure_initialized()\n\u001b[1;32m---> 54\u001b[0m   tensors \u001b[38;5;241m=\u001b[39m \u001b[43mpywrap_tfe\u001b[49m\u001b[38;5;241;43m.\u001b[39;49m\u001b[43mTFE_Py_Execute\u001b[49m\u001b[43m(\u001b[49m\u001b[43mctx\u001b[49m\u001b[38;5;241;43m.\u001b[39;49m\u001b[43m_handle\u001b[49m\u001b[43m,\u001b[49m\u001b[43m \u001b[49m\u001b[43mdevice_name\u001b[49m\u001b[43m,\u001b[49m\u001b[43m \u001b[49m\u001b[43mop_name\u001b[49m\u001b[43m,\u001b[49m\n\u001b[0;32m     55\u001b[0m \u001b[43m                                      \u001b[49m\u001b[43minputs\u001b[49m\u001b[43m,\u001b[49m\u001b[43m \u001b[49m\u001b[43mattrs\u001b[49m\u001b[43m,\u001b[49m\u001b[43m \u001b[49m\u001b[43mnum_outputs\u001b[49m\u001b[43m)\u001b[49m\n\u001b[0;32m     56\u001b[0m \u001b[38;5;28;01mexcept\u001b[39;00m core\u001b[38;5;241m.\u001b[39m_NotOkStatusException \u001b[38;5;28;01mas\u001b[39;00m e:\n\u001b[0;32m     57\u001b[0m   \u001b[38;5;28;01mif\u001b[39;00m name \u001b[38;5;129;01mis\u001b[39;00m \u001b[38;5;129;01mnot\u001b[39;00m \u001b[38;5;28;01mNone\u001b[39;00m:\n",
      "\u001b[1;31mKeyboardInterrupt\u001b[0m: "
     ]
    }
   ],
   "source": [
    "model.fit(X_train, y_train, epochs=2000, callbacks=[tb_callback])"
   ]
  },
  {
   "cell_type": "code",
   "execution_count": 34,
   "metadata": {},
   "outputs": [
    {
     "name": "stdout",
     "output_type": "stream",
     "text": [
      "Model: \"sequential\"\n",
      "_________________________________________________________________\n",
      " Layer (type)                Output Shape              Param #   \n",
      "=================================================================\n",
      " lstm (LSTM)                 (None, 30, 64)            442112    \n",
      "                                                                 \n",
      " lstm_1 (LSTM)               (None, 30, 128)           98816     \n",
      "                                                                 \n",
      " lstm_2 (LSTM)               (None, 64)                49408     \n",
      "                                                                 \n",
      " dense (Dense)               (None, 64)                4160      \n",
      "                                                                 \n",
      " dense_1 (Dense)             (None, 32)                2080      \n",
      "                                                                 \n",
      " dense_2 (Dense)             (None, 3)                 99        \n",
      "                                                                 \n",
      "=================================================================\n",
      "Total params: 596,675\n",
      "Trainable params: 596,675\n",
      "Non-trainable params: 0\n",
      "_________________________________________________________________\n"
     ]
    }
   ],
   "source": [
    "model.summary()"
   ]
  },
  {
   "cell_type": "markdown",
   "metadata": {},
   "source": [
    "# 8. Make Predictions"
   ]
  },
  {
   "cell_type": "code",
   "execution_count": 68,
   "metadata": {},
   "outputs": [
    {
     "name": "stdout",
     "output_type": "stream",
     "text": [
      "1/1 [==============================] - 0s 11ms/step\n"
     ]
    }
   ],
   "source": [
    "res = model.predict(X_test)"
   ]
  },
  {
   "cell_type": "code",
   "execution_count": 69,
   "metadata": {},
   "outputs": [
    {
     "data": {
      "text/plain": [
       "'iloveyou'"
      ]
     },
     "execution_count": 69,
     "metadata": {},
     "output_type": "execute_result"
    }
   ],
   "source": [
    "actions[np.argmax(res[4])]"
   ]
  },
  {
   "cell_type": "code",
   "execution_count": 70,
   "metadata": {},
   "outputs": [
    {
     "data": {
      "text/plain": [
       "'hello'"
      ]
     },
     "execution_count": 70,
     "metadata": {},
     "output_type": "execute_result"
    }
   ],
   "source": [
    "actions[np.argmax(y_test[4])]"
   ]
  },
  {
   "cell_type": "markdown",
   "metadata": {},
   "source": [
    "# 9. Save Weights"
   ]
  },
  {
   "cell_type": "code",
   "execution_count": 71,
   "metadata": {},
   "outputs": [],
   "source": [
    "model.save('action.h5')"
   ]
  },
  {
   "cell_type": "code",
   "execution_count": 72,
   "metadata": {},
   "outputs": [],
   "source": [
    "model.load_weights('action.h5')"
   ]
  },
  {
   "cell_type": "markdown",
   "metadata": {},
   "source": [
    "# 10. Evaluation using Confusion Matrix and Accuracy"
   ]
  },
  {
   "cell_type": "code",
   "execution_count": 73,
   "metadata": {},
   "outputs": [],
   "source": [
    "from sklearn.metrics import multilabel_confusion_matrix, accuracy_score"
   ]
  },
  {
   "cell_type": "code",
   "execution_count": 74,
   "metadata": {},
   "outputs": [
    {
     "name": "stdout",
     "output_type": "stream",
     "text": [
      "1/1 [==============================] - 0s 15ms/step\n"
     ]
    }
   ],
   "source": [
    "yhat = model.predict(X_test)"
   ]
  },
  {
   "cell_type": "code",
   "execution_count": 75,
   "metadata": {},
   "outputs": [],
   "source": [
    "ytrue = np.argmax(y_test, axis=1).tolist()\n",
    "yhat = np.argmax(yhat, axis=1).tolist()"
   ]
  },
  {
   "cell_type": "code",
   "execution_count": 76,
   "metadata": {
    "scrolled": true
   },
   "outputs": [
    {
     "data": {
      "text/plain": [
       "array([[[2, 0],\n",
       "        [1, 2]],\n",
       "\n",
       "       [[3, 1],\n",
       "        [0, 1]],\n",
       "\n",
       "       [[3, 1],\n",
       "        [1, 0]]], dtype=int64)"
      ]
     },
     "execution_count": 76,
     "metadata": {},
     "output_type": "execute_result"
    }
   ],
   "source": [
    "multilabel_confusion_matrix(ytrue, yhat)"
   ]
  },
  {
   "cell_type": "code",
   "execution_count": 77,
   "metadata": {},
   "outputs": [
    {
     "data": {
      "text/plain": [
       "0.6"
      ]
     },
     "execution_count": 77,
     "metadata": {},
     "output_type": "execute_result"
    }
   ],
   "source": [
    "accuracy_score(ytrue, yhat)"
   ]
  },
  {
   "cell_type": "markdown",
   "metadata": {},
   "source": [
    "# 11. Test in Real Time"
   ]
  },
  {
   "cell_type": "code",
   "execution_count": 78,
   "metadata": {},
   "outputs": [],
   "source": [
    "from scipy import stats"
   ]
  },
  {
   "cell_type": "code",
   "execution_count": 79,
   "metadata": {},
   "outputs": [],
   "source": [
    "colors = [(245,117,16), (117,245,16), (16,117,245)]\n",
    "def prob_viz(res, actions, input_frame, colors):\n",
    "    output_frame = input_frame.copy()\n",
    "    for num, prob in enumerate(res):\n",
    "        cv2.rectangle(output_frame, (0,60+num*40), (float(prob*100), 90+num*40), colors[num], -1)\n",
    "        cv2.putText(output_frame, actions[num], (0, 85+num*40), cv2.FONT_HERSHEY_SIMPLEX, 1, (255,255,255), 2, cv2.LINE_AA)\n",
    "        \n",
    "    return output_frame"
   ]
  },
  {
   "cell_type": "code",
   "execution_count": 80,
   "metadata": {},
   "outputs": [
    {
     "ename": "TypeError",
     "evalue": "only size-1 arrays can be converted to Python scalars",
     "output_type": "error",
     "traceback": [
      "\u001b[1;31m---------------------------------------------------------------------------\u001b[0m",
      "\u001b[1;31mTypeError\u001b[0m                                 Traceback (most recent call last)",
      "Input \u001b[1;32mIn [80]\u001b[0m, in \u001b[0;36m<cell line: 2>\u001b[1;34m()\u001b[0m\n\u001b[0;32m      1\u001b[0m plt\u001b[38;5;241m.\u001b[39mfigure(figsize\u001b[38;5;241m=\u001b[39m(\u001b[38;5;241m18\u001b[39m,\u001b[38;5;241m18\u001b[39m))\n\u001b[1;32m----> 2\u001b[0m plt\u001b[38;5;241m.\u001b[39mimshow(\u001b[43mprob_viz\u001b[49m\u001b[43m(\u001b[49m\u001b[43mres\u001b[49m\u001b[43m,\u001b[49m\u001b[43m \u001b[49m\u001b[43mactions\u001b[49m\u001b[43m,\u001b[49m\u001b[43m \u001b[49m\u001b[43mimage\u001b[49m\u001b[43m,\u001b[49m\u001b[43m \u001b[49m\u001b[43mcolors\u001b[49m\u001b[43m)\u001b[49m)\n",
      "Input \u001b[1;32mIn [79]\u001b[0m, in \u001b[0;36mprob_viz\u001b[1;34m(res, actions, input_frame, colors)\u001b[0m\n\u001b[0;32m      3\u001b[0m output_frame \u001b[38;5;241m=\u001b[39m input_frame\u001b[38;5;241m.\u001b[39mcopy()\n\u001b[0;32m      4\u001b[0m \u001b[38;5;28;01mfor\u001b[39;00m num, prob \u001b[38;5;129;01min\u001b[39;00m \u001b[38;5;28menumerate\u001b[39m(res):\n\u001b[1;32m----> 5\u001b[0m     cv2\u001b[38;5;241m.\u001b[39mrectangle(output_frame, (\u001b[38;5;241m0\u001b[39m,\u001b[38;5;241m60\u001b[39m\u001b[38;5;241m+\u001b[39mnum\u001b[38;5;241m*\u001b[39m\u001b[38;5;241m40\u001b[39m), (\u001b[38;5;28;43mfloat\u001b[39;49m\u001b[43m(\u001b[49m\u001b[43mprob\u001b[49m\u001b[38;5;241;43m*\u001b[39;49m\u001b[38;5;241;43m100\u001b[39;49m\u001b[43m)\u001b[49m, \u001b[38;5;241m90\u001b[39m\u001b[38;5;241m+\u001b[39mnum\u001b[38;5;241m*\u001b[39m\u001b[38;5;241m40\u001b[39m), colors[num], \u001b[38;5;241m-\u001b[39m\u001b[38;5;241m1\u001b[39m)\n\u001b[0;32m      6\u001b[0m     cv2\u001b[38;5;241m.\u001b[39mputText(output_frame, actions[num], (\u001b[38;5;241m0\u001b[39m, \u001b[38;5;241m85\u001b[39m\u001b[38;5;241m+\u001b[39mnum\u001b[38;5;241m*\u001b[39m\u001b[38;5;241m40\u001b[39m), cv2\u001b[38;5;241m.\u001b[39mFONT_HERSHEY_SIMPLEX, \u001b[38;5;241m1\u001b[39m, (\u001b[38;5;241m255\u001b[39m,\u001b[38;5;241m255\u001b[39m,\u001b[38;5;241m255\u001b[39m), \u001b[38;5;241m2\u001b[39m, cv2\u001b[38;5;241m.\u001b[39mLINE_AA)\n\u001b[0;32m      8\u001b[0m \u001b[38;5;28;01mreturn\u001b[39;00m output_frame\n",
      "\u001b[1;31mTypeError\u001b[0m: only size-1 arrays can be converted to Python scalars"
     ]
    },
    {
     "data": {
      "text/plain": [
       "<Figure size 1296x1296 with 0 Axes>"
      ]
     },
     "metadata": {},
     "output_type": "display_data"
    }
   ],
   "source": [
    "plt.figure(figsize=(18,18))\n",
    "plt.imshow(prob_viz(res, actions, image, colors))"
   ]
  },
  {
   "cell_type": "code",
   "execution_count": 82,
   "metadata": {},
   "outputs": [
    {
     "name": "stdout",
     "output_type": "stream",
     "text": [
      "<class 'mediapipe.python.solution_base.SolutionOutputs'>\n",
      "<class 'mediapipe.python.solution_base.SolutionOutputs'>\n",
      "<class 'mediapipe.python.solution_base.SolutionOutputs'>\n",
      "<class 'mediapipe.python.solution_base.SolutionOutputs'>\n",
      "<class 'mediapipe.python.solution_base.SolutionOutputs'>\n",
      "<class 'mediapipe.python.solution_base.SolutionOutputs'>\n",
      "<class 'mediapipe.python.solution_base.SolutionOutputs'>\n",
      "<class 'mediapipe.python.solution_base.SolutionOutputs'>\n",
      "<class 'mediapipe.python.solution_base.SolutionOutputs'>\n",
      "<class 'mediapipe.python.solution_base.SolutionOutputs'>\n",
      "<class 'mediapipe.python.solution_base.SolutionOutputs'>\n",
      "<class 'mediapipe.python.solution_base.SolutionOutputs'>\n",
      "<class 'mediapipe.python.solution_base.SolutionOutputs'>\n",
      "<class 'mediapipe.python.solution_base.SolutionOutputs'>\n",
      "<class 'mediapipe.python.solution_base.SolutionOutputs'>\n",
      "<class 'mediapipe.python.solution_base.SolutionOutputs'>\n",
      "<class 'mediapipe.python.solution_base.SolutionOutputs'>\n",
      "<class 'mediapipe.python.solution_base.SolutionOutputs'>\n",
      "<class 'mediapipe.python.solution_base.SolutionOutputs'>\n",
      "<class 'mediapipe.python.solution_base.SolutionOutputs'>\n",
      "<class 'mediapipe.python.solution_base.SolutionOutputs'>\n",
      "<class 'mediapipe.python.solution_base.SolutionOutputs'>\n",
      "<class 'mediapipe.python.solution_base.SolutionOutputs'>\n",
      "<class 'mediapipe.python.solution_base.SolutionOutputs'>\n",
      "<class 'mediapipe.python.solution_base.SolutionOutputs'>\n",
      "<class 'mediapipe.python.solution_base.SolutionOutputs'>\n",
      "<class 'mediapipe.python.solution_base.SolutionOutputs'>\n",
      "<class 'mediapipe.python.solution_base.SolutionOutputs'>\n",
      "<class 'mediapipe.python.solution_base.SolutionOutputs'>\n",
      "<class 'mediapipe.python.solution_base.SolutionOutputs'>\n",
      "1/1 [==============================] - 0s 12ms/step\n",
      "hello\n"
     ]
    },
    {
     "ename": "error",
     "evalue": "OpenCV(4.6.0) :-1: error: (-5:Bad argument) in function 'rectangle'\n> Overload resolution failed:\n>  - Can't parse 'pt2'. Sequence item with index 0 has a wrong type\n>  - Can't parse 'pt2'. Sequence item with index 0 has a wrong type\n>  - Can't parse 'rec'. Expected sequence length 4, got 2\n>  - Can't parse 'rec'. Expected sequence length 4, got 2\n",
     "output_type": "error",
     "traceback": [
      "\u001b[1;31m---------------------------------------------------------------------------\u001b[0m",
      "\u001b[1;31merror\u001b[0m                                     Traceback (most recent call last)",
      "Input \u001b[1;32mIn [82]\u001b[0m, in \u001b[0;36m<cell line: 9>\u001b[1;34m()\u001b[0m\n\u001b[0;32m     44\u001b[0m         sentence \u001b[38;5;241m=\u001b[39m sentence[\u001b[38;5;241m-\u001b[39m\u001b[38;5;241m5\u001b[39m:]\n\u001b[0;32m     46\u001b[0m     \u001b[38;5;66;03m# Viz probabilities\u001b[39;00m\n\u001b[1;32m---> 47\u001b[0m     image \u001b[38;5;241m=\u001b[39m \u001b[43mprob_viz\u001b[49m\u001b[43m(\u001b[49m\u001b[43mres\u001b[49m\u001b[43m,\u001b[49m\u001b[43m \u001b[49m\u001b[43mactions\u001b[49m\u001b[43m,\u001b[49m\u001b[43m \u001b[49m\u001b[43mimage\u001b[49m\u001b[43m,\u001b[49m\u001b[43m \u001b[49m\u001b[43mcolors\u001b[49m\u001b[43m)\u001b[49m\n\u001b[0;32m     49\u001b[0m cv2\u001b[38;5;241m.\u001b[39mrectangle(image, (\u001b[38;5;241m0\u001b[39m,\u001b[38;5;241m0\u001b[39m), (\u001b[38;5;241m640\u001b[39m, \u001b[38;5;241m40\u001b[39m), (\u001b[38;5;241m245\u001b[39m, \u001b[38;5;241m117\u001b[39m, \u001b[38;5;241m16\u001b[39m), \u001b[38;5;241m-\u001b[39m\u001b[38;5;241m1\u001b[39m)\n\u001b[0;32m     50\u001b[0m cv2\u001b[38;5;241m.\u001b[39mputText(image, \u001b[38;5;124m'\u001b[39m\u001b[38;5;124m \u001b[39m\u001b[38;5;124m'\u001b[39m\u001b[38;5;241m.\u001b[39mjoin(sentence), (\u001b[38;5;241m3\u001b[39m,\u001b[38;5;241m30\u001b[39m), \n\u001b[0;32m     51\u001b[0m                cv2\u001b[38;5;241m.\u001b[39mFONT_HERSHEY_SIMPLEX, \u001b[38;5;241m1\u001b[39m, (\u001b[38;5;241m255\u001b[39m, \u001b[38;5;241m255\u001b[39m, \u001b[38;5;241m255\u001b[39m), \u001b[38;5;241m2\u001b[39m, cv2\u001b[38;5;241m.\u001b[39mLINE_AA)\n",
      "Input \u001b[1;32mIn [79]\u001b[0m, in \u001b[0;36mprob_viz\u001b[1;34m(res, actions, input_frame, colors)\u001b[0m\n\u001b[0;32m      3\u001b[0m output_frame \u001b[38;5;241m=\u001b[39m input_frame\u001b[38;5;241m.\u001b[39mcopy()\n\u001b[0;32m      4\u001b[0m \u001b[38;5;28;01mfor\u001b[39;00m num, prob \u001b[38;5;129;01min\u001b[39;00m \u001b[38;5;28menumerate\u001b[39m(res):\n\u001b[1;32m----> 5\u001b[0m     \u001b[43mcv2\u001b[49m\u001b[38;5;241;43m.\u001b[39;49m\u001b[43mrectangle\u001b[49m\u001b[43m(\u001b[49m\u001b[43moutput_frame\u001b[49m\u001b[43m,\u001b[49m\u001b[43m \u001b[49m\u001b[43m(\u001b[49m\u001b[38;5;241;43m0\u001b[39;49m\u001b[43m,\u001b[49m\u001b[38;5;241;43m60\u001b[39;49m\u001b[38;5;241;43m+\u001b[39;49m\u001b[43mnum\u001b[49m\u001b[38;5;241;43m*\u001b[39;49m\u001b[38;5;241;43m40\u001b[39;49m\u001b[43m)\u001b[49m\u001b[43m,\u001b[49m\u001b[43m \u001b[49m\u001b[43m(\u001b[49m\u001b[38;5;28;43mfloat\u001b[39;49m\u001b[43m(\u001b[49m\u001b[43mprob\u001b[49m\u001b[38;5;241;43m*\u001b[39;49m\u001b[38;5;241;43m100\u001b[39;49m\u001b[43m)\u001b[49m\u001b[43m,\u001b[49m\u001b[43m \u001b[49m\u001b[38;5;241;43m90\u001b[39;49m\u001b[38;5;241;43m+\u001b[39;49m\u001b[43mnum\u001b[49m\u001b[38;5;241;43m*\u001b[39;49m\u001b[38;5;241;43m40\u001b[39;49m\u001b[43m)\u001b[49m\u001b[43m,\u001b[49m\u001b[43m \u001b[49m\u001b[43mcolors\u001b[49m\u001b[43m[\u001b[49m\u001b[43mnum\u001b[49m\u001b[43m]\u001b[49m\u001b[43m,\u001b[49m\u001b[43m \u001b[49m\u001b[38;5;241;43m-\u001b[39;49m\u001b[38;5;241;43m1\u001b[39;49m\u001b[43m)\u001b[49m\n\u001b[0;32m      6\u001b[0m     cv2\u001b[38;5;241m.\u001b[39mputText(output_frame, actions[num], (\u001b[38;5;241m0\u001b[39m, \u001b[38;5;241m85\u001b[39m\u001b[38;5;241m+\u001b[39mnum\u001b[38;5;241m*\u001b[39m\u001b[38;5;241m40\u001b[39m), cv2\u001b[38;5;241m.\u001b[39mFONT_HERSHEY_SIMPLEX, \u001b[38;5;241m1\u001b[39m, (\u001b[38;5;241m255\u001b[39m,\u001b[38;5;241m255\u001b[39m,\u001b[38;5;241m255\u001b[39m), \u001b[38;5;241m2\u001b[39m, cv2\u001b[38;5;241m.\u001b[39mLINE_AA)\n\u001b[0;32m      8\u001b[0m \u001b[38;5;28;01mreturn\u001b[39;00m output_frame\n",
      "\u001b[1;31merror\u001b[0m: OpenCV(4.6.0) :-1: error: (-5:Bad argument) in function 'rectangle'\n> Overload resolution failed:\n>  - Can't parse 'pt2'. Sequence item with index 0 has a wrong type\n>  - Can't parse 'pt2'. Sequence item with index 0 has a wrong type\n>  - Can't parse 'rec'. Expected sequence length 4, got 2\n>  - Can't parse 'rec'. Expected sequence length 4, got 2\n"
     ]
    }
   ],
   "source": [
    "# 1. New detection variables\n",
    "sequence = []\n",
    "sentence = []\n",
    "predictions = []\n",
    "threshold = 0.5\n",
    "\n",
    "cap = cv2.VideoCapture(0)\n",
    "# Set mediapipe model \n",
    "with mp_holistic.Holistic(min_detection_confidence=0.5, min_tracking_confidence=0.5) as holistic:\n",
    "    while cap.isOpened():\n",
    "\n",
    "        # Read feed\n",
    "        ret, frame = cap.read()\n",
    "\n",
    "        # Make detections\n",
    "        image, results = mediapipe_detection(frame, holistic)\n",
    "        print(results)\n",
    "        \n",
    "        # Draw landmarks\n",
    "        draw_landmarks(image, results)\n",
    "        \n",
    "        # 2. Prediction logic\n",
    "        keypoints = extract_keypoints(results)\n",
    "        sequence.append(keypoints)\n",
    "        sequence = sequence[-30:]\n",
    "        \n",
    "        if len(sequence) == 30:\n",
    "            res = model.predict(np.expand_dims(sequence, axis=0))[0]\n",
    "            print(actions[np.argmax(res)])\n",
    "            predictions.append(np.argmax(res))\n",
    "            \n",
    "            \n",
    "        #3. Viz logic\n",
    "            if np.unique(predictions[-10:])[0]==np.argmax(res): \n",
    "                if res[np.argmax(res)] > threshold: \n",
    "                    \n",
    "                    if len(sentence) > 0: \n",
    "                        if actions[np.argmax(res)] != sentence[-1]:\n",
    "                            sentence.append(actions[np.argmax(res)])\n",
    "                    else:\n",
    "                        sentence.append(actions[np.argmax(res)])\n",
    "\n",
    "            if len(sentence) > 5: \n",
    "                sentence = sentence[-5:]\n",
    "\n",
    "            # Viz probabilities\n",
    "            image = prob_viz(res, actions, image, colors)\n",
    "            \n",
    "        cv2.rectangle(image, (0,0), (640, 40), (245, 117, 16), -1)\n",
    "        cv2.putText(image, ' '.join(sentence), (3,30), \n",
    "                       cv2.FONT_HERSHEY_SIMPLEX, 1, (255, 255, 255), 2, cv2.LINE_AA)\n",
    "        \n",
    "        # Show to screen\n",
    "        cv2.imshow('OpenCV Feed', image)\n",
    "\n",
    "        # Break gracefully\n",
    "        if cv2.waitKey(10) & 0xFF == ord('q'):\n",
    "            break\n",
    "    cap.release()\n",
    "    cv2.destroyAllWindows()"
   ]
  },
  {
   "cell_type": "code",
   "execution_count": null,
   "metadata": {},
   "outputs": [],
   "source": []
  }
 ],
 "metadata": {
  "kernelspec": {
   "display_name": "Python 3 (ipykernel)",
   "language": "python",
   "name": "python3"
  },
  "language_info": {
   "codemirror_mode": {
    "name": "ipython",
    "version": 3
   },
   "file_extension": ".py",
   "mimetype": "text/x-python",
   "name": "python",
   "nbconvert_exporter": "python",
   "pygments_lexer": "ipython3",
   "version": "3.10.5"
  }
 },
 "nbformat": 4,
 "nbformat_minor": 2
}
